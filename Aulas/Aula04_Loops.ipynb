{
  "nbformat": 4,
  "nbformat_minor": 0,
  "metadata": {
    "colab": {
      "provenance": []
    },
    "kernelspec": {
      "name": "python3",
      "display_name": "Python 3"
    },
    "language_info": {
      "name": "python"
    }
  },
  "cells": [
    {
      "cell_type": "markdown",
      "source": [
        "##1. Conceito de laço de repetição(Loop)"
      ],
      "metadata": {
        "id": "FBT_vZyn1t1W"
      }
    },
    {
      "cell_type": "markdown",
      "source": [],
      "metadata": {
        "id": "pa4ECilC4FbF"
      }
    },
    {
      "cell_type": "code",
      "execution_count": 2,
      "metadata": {
        "colab": {
          "base_uri": "https://localhost:8080/"
        },
        "id": "waxefcll1VjR",
        "outputId": "104cb513-f469-4f8d-fa53-b0cc02d4e506"
      },
      "outputs": [
        {
          "output_type": "stream",
          "name": "stdout",
          "text": [
            "1\n",
            "2\n",
            "3\n",
            "4\n",
            "5\n"
          ]
        }
      ],
      "source": [
        "#Exemplo básico de repetição\n",
        "#range(1,6)gera os números de 1 a 5 (o 6 não entra).\n",
        "#\"in\"  conecta o elemento (i) com a sequência (range).\n",
        "for i in range(1, 6):\n",
        "  print(i)"
      ]
    },
    {
      "cell_type": "code",
      "source": [
        "#contando letras emuma palavra\n",
        "palavra =\"python\"\n",
        "for letra in palavra:\n",
        "  print(letra)"
      ],
      "metadata": {
        "colab": {
          "base_uri": "https://localhost:8080/"
        },
        "id": "3Wr5ErGb3MmJ",
        "outputId": "4506c63d-57d1-4070-8343-b1b3a2aa5709"
      },
      "execution_count": 3,
      "outputs": [
        {
          "output_type": "stream",
          "name": "stdout",
          "text": [
            "p\n",
            "y\n",
            "t\n",
            "h\n",
            "o\n",
            "n\n"
          ]
        }
      ]
    },
    {
      "cell_type": "markdown",
      "source": [
        "Qualquer objeto iteravável pode ser usado no for!"
      ],
      "metadata": {
        "id": "NsDtLNq35NV-"
      }
    },
    {
      "cell_type": "markdown",
      "source": [
        "##Loop for\n"
      ],
      "metadata": {
        "id": "1huv0Wxv5apx"
      }
    },
    {
      "cell_type": "code",
      "source": [
        "#iterando sobre uma lista\n",
        "cores = [\"vermelho\",\"verde\",\"azul\"]\n",
        "for cor in cores:\n",
        "  print(\"cor:\",cor)"
      ],
      "metadata": {
        "colab": {
          "base_uri": "https://localhost:8080/"
        },
        "id": "HZ2KnUTG5XPx",
        "outputId": "c248c768-f0b9-4e18-a127-60ed232044b6"
      },
      "execution_count": 4,
      "outputs": [
        {
          "output_type": "stream",
          "name": "stdout",
          "text": [
            "cor: vermelho\n",
            "cor: verde\n",
            "cor: azul\n"
          ]
        }
      ]
    },
    {
      "cell_type": "code",
      "source": [
        "#usando\n",
        "#len(cores) → conta quantos itens tem na lista.\n",
        "#Neste exemplo: len(cores) = 3\n",
        "#range(len(cores)) → vira range(3), ou seja: [0, 1, 2]\n",
        "#for i in range(...) → vai passar por cada número (índice) da lista.\n",
        "#cores[i] → acessa o item da lista na posição i.\n",
        "\n",
        "for i in range(len(cores)):#len(cores) → conta quantos itens tem na lista.\n",
        "  print(f\"índece {i} corresponde à cor {cores[i]}\")"
      ],
      "metadata": {
        "colab": {
          "base_uri": "https://localhost:8080/"
        },
        "id": "voUnIFb-890P",
        "outputId": "7ab616fd-cf20-4d7f-a52c-0fd46becad8d"
      },
      "execution_count": 9,
      "outputs": [
        {
          "output_type": "stream",
          "name": "stdout",
          "text": [
            "índece 0 corresponde à cor vermelho\n",
            "índece 1 corresponde à cor verde\n",
            "índece 2 corresponde à cor azul\n"
          ]
        }
      ]
    },
    {
      "cell_type": "markdown",
      "source": [
        "\n",
        "\n",
        "---\n",
        "\n",
        "### 💡 O que é **iterar**?\n",
        "\n",
        "**Iterar** é um verbo chique da área tech que significa:\n",
        "**“passar por cada item de uma sequência, um de cada vez.”**\n",
        "\n",
        "---\n",
        "\n",
        "### Exemplo poético e prático:\n",
        "\n",
        "Quando você faz:\n",
        "\n",
        "```python\n",
        "for fruta in [\"maçã\", \"banana\", \"uva\"]:\n",
        "    print(fruta)\n",
        "```\n",
        "\n",
        "Você está **iterando sobre a lista** — ou seja:\n",
        "\n",
        "* 1ª iteração: fruta = \"maçã\"\n",
        "* 2ª iteração: fruta = \"banana\"\n",
        "* 3ª iteração: fruta = \"uva\"\n",
        "\n",
        "E em cada passo, você faz algo com o item (nesse caso, imprime 🍇🍌🍎).\n",
        "\n",
        "---\n",
        "\n",
        "### Em resumo:\n",
        "\n",
        "> **Iterar = repetir uma ação para cada item de uma coleção.**\n",
        "> É caminhar passo a passo, sem pular ninguém.\n",
        "\n",
        "---\n",
        "\n",
        "### Dica de ouro:\n",
        "\n",
        "Você **itera** sobre:\n",
        "\n",
        "* listas\n",
        "* strings\n",
        "* tuplas\n",
        "* dicionários\n",
        "* qualquer coisa que seja **iterável** (ou seja, que o Python consiga percorrer com `for`).\n",
        "\n",
        "\n",
        "\n",
        "\n"
      ],
      "metadata": {
        "id": "hlCfEZRr6mcy"
      }
    },
    {
      "cell_type": "code",
      "source": [
        "#\n",
        "import numpy as np\n",
        "np.linspace(0,10,11)"
      ],
      "metadata": {
        "colab": {
          "base_uri": "https://localhost:8080/"
        },
        "id": "wOmqrzuQ5YXW",
        "outputId": "322706c8-8691-427c-c28f-4a087ecbc658"
      },
      "execution_count": 5,
      "outputs": [
        {
          "output_type": "execute_result",
          "data": {
            "text/plain": [
              "array([ 0.,  1.,  2.,  3.,  4.,  5.,  6.,  7.,  8.,  9., 10.])"
            ]
          },
          "metadata": {},
          "execution_count": 5
        }
      ]
    },
    {
      "cell_type": "markdown",
      "source": [
        "\n",
        "O `linspace()` é uma função que vem do **NumPy**, e é muito usada em análise de dados, gráficos e ciência 💻📈\n",
        "\n",
        "---\n",
        "\n",
        "### 🧠 O que é `linspace()`?\n",
        "\n",
        "`linspace()` vem de **linear** + **space** (espaçamento linear).\n",
        "\n",
        "👉 Ele **gera uma sequência de números igualmente espaçados** dentro de um intervalo.\n",
        "\n",
        "---\n",
        "\n",
        "### 📦 Sintaxe básica:\n",
        "\n",
        "```python\n",
        "np.linspace(início, fim, quantidade_de_pontos)\n",
        "```\n",
        "\n",
        "---\n",
        "\n",
        "### 📌 Exemplo:\n",
        "\n",
        "```python\n",
        "import numpy as np\n",
        "\n",
        "valores = np.linspace(0, 10, 5)\n",
        "print(valores)\n",
        "```\n",
        "\n",
        "#### 💥 Saída:\n",
        "\n",
        "```\n",
        "[ 0.   2.5  5.   7.5 10. ]\n",
        "```\n",
        "\n",
        "Ou seja:\n",
        "Ele criou **5 números igualmente espaçados entre 0 e 10**.\n",
        "\n",
        "---\n",
        "\n",
        "### ⚖️ Diferença para `range()`:\n",
        "\n",
        "| Função       | Tipo de espaçamento    | Pode gerar decimais? | Inclusivo no final? |\n",
        "| ------------ | ---------------------- | -------------------- | ------------------- |\n",
        "| `range()`    | Espaço fixo (inteiros) | ❌ Só inteiros        | ❌ (exclui fim)      |\n",
        "| `linspace()` | Espaço calculado       | ✅ Suporta decimais   | ✅ (inclui fim)      |\n",
        "\n",
        "---\n",
        "\n",
        "### ✨ Quando usar `linspace()`?\n",
        "\n",
        "* Quando você quer **dividir um intervalo em partes iguais**\n",
        "* Criar **eixos para gráficos**\n",
        "* Fazer simulações, interpolação, funções matemáticas etc.\n",
        "\n",
        "---\n",
        "\n",
        "\n"
      ],
      "metadata": {
        "id": "LqrvmJQm74rf"
      }
    },
    {
      "cell_type": "markdown",
      "source": [
        "##Loop While (enquanto)"
      ],
      "metadata": {
        "id": "zxMGwa8R8jEH"
      }
    },
    {
      "cell_type": "code",
      "source": [
        "#\n",
        "contador = 5\n",
        "while contador > 0:\n",
        "  print(\"contador:\" , contador)\n",
        "  contador -= 1 # atualiza a variável contador e subtrai -1"
      ],
      "metadata": {
        "colab": {
          "base_uri": "https://localhost:8080/"
        },
        "id": "S2SipHsa8Dff",
        "outputId": "18a479d1-bc0e-4e7c-ada2-dbbdc31fac19"
      },
      "execution_count": 16,
      "outputs": [
        {
          "output_type": "stream",
          "name": "stdout",
          "text": [
            "contador: 5\n",
            "contador: 4\n",
            "contador: 3\n",
            "contador: 2\n",
            "contador: 1\n"
          ]
        }
      ]
    },
    {
      "cell_type": "code",
      "source": [
        "#Enquando não digitar a senha correta vai pedir para digitar novamente e mostra o número de  tentativas\n",
        "senha = \"\"\n",
        "tentativas = 0\n",
        "while senha != \"python123\":\n",
        "  senha = input(\"Digite a senha: \")\n",
        "  tentativas += 1\n",
        "print(f\"Senha correta em {tentativas} tentativas!\")"
      ],
      "metadata": {
        "colab": {
          "base_uri": "https://localhost:8080/"
        },
        "id": "3X-HCZ7RAPlo",
        "outputId": "17d67dfb-f8d0-47df-f505-aee2f21ac773"
      },
      "execution_count": 23,
      "outputs": [
        {
          "output_type": "stream",
          "name": "stdout",
          "text": [
            "Digite a senha: 4\n",
            "Digite a senha: 6\n",
            "Digite a senha: 56\n",
            "Digite a senha: python123\n",
            "Senha correta em 4 tentativas!\n"
          ]
        }
      ]
    },
    {
      "cell_type": "code",
      "source": [
        "senha = \"\"\n",
        "tentativas = 0\n",
        "\n",
        "while (senha != \"python123\"):\n",
        "  senha = input(\"Digite a senha: \")\n",
        "  tentativas +=1\n",
        "\n",
        "  if ((senha != \"python123\") and (tentativas >=3)):\n",
        "    print(\"Senha incorreta.Tente novamente. \")\n",
        "    break # para a execução\n",
        "\n",
        "\n"
      ],
      "metadata": {
        "colab": {
          "base_uri": "https://localhost:8080/"
        },
        "id": "cf--_mFNFTlf",
        "outputId": "fecf5020-8719-42f2-d4c7-b574d11c0107"
      },
      "execution_count": 28,
      "outputs": [
        {
          "output_type": "stream",
          "name": "stdout",
          "text": [
            "Digite a senha: 4\n",
            "Digite a senha: 5\n",
            "Digite a senha: 6\n",
            "Senha incorreta.Tente novamente. \n"
          ]
        }
      ]
    },
    {
      "cell_type": "markdown",
      "source": [
        "##4. Quebrando um Loop"
      ],
      "metadata": {
        "id": "PxTEis3INtGo"
      }
    },
    {
      "cell_type": "markdown",
      "source": [],
      "metadata": {
        "id": "0QSgRbiONtFY"
      }
    },
    {
      "cell_type": "code",
      "source": [
        "list_exemplo = [1,2,3,4,5]\n",
        "\n",
        "for item in list_exemplo:\n",
        "  if item == 3:\n",
        "    break\n",
        "  print(item)"
      ],
      "metadata": {
        "colab": {
          "base_uri": "https://localhost:8080/"
        },
        "id": "Wmd9cc6zNyIw",
        "outputId": "117977a7-4cc7-4dd6-99b6-53a5f71a3886"
      },
      "execution_count": 30,
      "outputs": [
        {
          "output_type": "stream",
          "name": "stdout",
          "text": [
            "1\n",
            "2\n"
          ]
        }
      ]
    },
    {
      "cell_type": "code",
      "source": [
        "list_exemplo = [1,2,3,4,5]\n",
        "list_externa = [1,2]\n",
        "\n",
        "for item_ext in list_externa:\n",
        "  for item in list_exemplo:\n",
        "    if item == 3:\n",
        "      break\n",
        "    print(item)"
      ],
      "metadata": {
        "colab": {
          "base_uri": "https://localhost:8080/"
        },
        "id": "QU5aI-4QUgHD",
        "outputId": "6b84a585-a8c0-4db4-f94f-84a018e451bd"
      },
      "execution_count": 29,
      "outputs": [
        {
          "output_type": "stream",
          "name": "stdout",
          "text": [
            "1\n",
            "2\n",
            "1\n",
            "2\n"
          ]
        }
      ]
    },
    {
      "cell_type": "markdown",
      "source": [
        "##5. Iterando sobre listas\n",
        "\n"
      ],
      "metadata": {
        "id": "TIMstciJOS5d"
      }
    },
    {
      "cell_type": "code",
      "source": [
        "#Filtrando elementos pares\n",
        "numeros = [2, 4, 6, 8]\n",
        "\n",
        "pares = []\n",
        "for n in numeros:\n",
        "  if n % 2 == 0:\n",
        "    pares.append(n)\n",
        "  print(\"Números pares: \", pares)"
      ],
      "metadata": {
        "colab": {
          "base_uri": "https://localhost:8080/"
        },
        "id": "45Z7p8NBOXa0",
        "outputId": "659f06e5-2252-489f-d1df-b049201bca83"
      },
      "execution_count": 32,
      "outputs": [
        {
          "output_type": "stream",
          "name": "stdout",
          "text": [
            "Números pares:  [2]\n",
            "Números pares:  [2, 4]\n",
            "Números pares:  [2, 4, 6]\n",
            "Números pares:  [2, 4, 6, 8]\n"
          ]
        }
      ]
    },
    {
      "cell_type": "code",
      "source": [],
      "metadata": {
        "id": "7tmK3D9vPBWg"
      },
      "execution_count": null,
      "outputs": []
    },
    {
      "cell_type": "markdown",
      "source": [
        "##6. List Comprehensions"
      ],
      "metadata": {
        "id": "JylzEwOvV2mn"
      }
    },
    {
      "cell_type": "code",
      "source": [
        "# maneira reduzida de escrever Filtrando elementos pares\n",
        "# jeito pytonico de escrever\n",
        "\n",
        "\n",
        "numeros = [2,4,6,8]\n",
        "\n",
        "pares = [n for n in numeros if n % 2 == 0]\n",
        "print(pares)"
      ],
      "metadata": {
        "colab": {
          "base_uri": "https://localhost:8080/"
        },
        "id": "NpiHmNBMV9TL",
        "outputId": "8c6e8ebe-6423-444e-fa3e-aed8942d8157"
      },
      "execution_count": 33,
      "outputs": [
        {
          "output_type": "stream",
          "name": "stdout",
          "text": [
            "[2, 4, 6, 8]\n"
          ]
        }
      ]
    },
    {
      "cell_type": "markdown",
      "source": [
        "##7. Executando tarefas repetitivas"
      ],
      "metadata": {
        "id": "IUBb5vPZW7hf"
      }
    },
    {
      "cell_type": "code",
      "source": [
        "#Gerando Planilha (conceitual)\n",
        "\n",
        "nomes = [\"ana\", \"Bruno\", \"Carlos\"]\n",
        "for nome in nomes:\n",
        "    print(f\"Gerando planilha_{nome}.xlsx\")"
      ],
      "metadata": {
        "colab": {
          "base_uri": "https://localhost:8080/"
        },
        "id": "5bfkaL57W62P",
        "outputId": "cd365704-7c26-415e-a37d-5ea7820d455c"
      },
      "execution_count": 41,
      "outputs": [
        {
          "output_type": "stream",
          "name": "stdout",
          "text": [
            "Gerando planilha_ana.xlsx\n",
            "Gerando planilha_Bruno.xlsx\n",
            "Gerando planilha_Carlos.xlsx\n"
          ]
        }
      ]
    },
    {
      "cell_type": "markdown",
      "source": [
        "##8. Operações vetorizadas X sequenciais"
      ],
      "metadata": {
        "id": "P0XsmamCbtCo"
      }
    },
    {
      "cell_type": "code",
      "source": [
        "import numpy as np\n"
      ],
      "metadata": {
        "id": "3OaKSsQqbssR"
      },
      "execution_count": 42,
      "outputs": []
    },
    {
      "cell_type": "code",
      "source": [
        "# operação sequencial\n",
        "a = [1,2,3]\n",
        "b = [4,5,6]\n",
        "c = []\n",
        "for i in range(len(a)):\n",
        "  c.append(a[i] + b[i])\n",
        "print(\"Soma sequencial:\",c)\n",
        "\n",
        "#operação vetorizada com numpy\n",
        "a_vec = np.array(a)\n",
        "b_vec = np.array(b)\n",
        "c_vec = a_vec + b_vec\n",
        "\n",
        "print(\"Soma vetorizada\", c_vec)\n"
      ],
      "metadata": {
        "colab": {
          "base_uri": "https://localhost:8080/"
        },
        "id": "JR5CVN2rb9jk",
        "outputId": "5dde0981-fbe3-4c3f-82a8-4541799d7e33"
      },
      "execution_count": 47,
      "outputs": [
        {
          "output_type": "stream",
          "name": "stdout",
          "text": [
            "Soma sequencial: [5, 7, 9]\n",
            "Soma vetorizada [5 7 9]\n"
          ]
        }
      ]
    },
    {
      "cell_type": "markdown",
      "source": [
        "##Explicação\n",
        "**Duas formas de somar listas (ou vetores)**: a clássica com `for` e a ninja com `NumPy`. Bora entender rapidinho:\n",
        "\n",
        "---\n",
        "\n",
        "### 🧪 Parte 1 – Operação sequencial (manual, raiz 😎)\n",
        "\n",
        "```python\n",
        "a = [1, 2, 3]\n",
        "b = [4, 5, 6]\n",
        "c = []\n",
        "\n",
        "for i in range(len(a)):\n",
        "    c.append(a[i] + b[i])\n",
        "\n",
        "print(\"Soma:\", c)\n",
        "```\n",
        "\n",
        "#### ✅ O que acontece:\n",
        "\n",
        "* Cria duas listas (`a` e `b`)\n",
        "* Usa `for` para percorrer cada índice\n",
        "* Soma `a[i] + b[i]` e guarda na lista `c`\n",
        "\n",
        "#### 🖨️ Saída:\n",
        "\n",
        "```\n",
        "Soma: [5, 7, 9]\n",
        "```\n",
        "\n",
        "---\n",
        "\n",
        "### ⚡ Parte 2 – Operação vetorizada com NumPy (modo turbo)\n",
        "\n",
        "```python\n",
        "import numpy as np\n",
        "\n",
        "a_vec = np.array(a)\n",
        "b_vec = np.array(b)\n",
        "c_vec = a_vec + b_vec\n",
        "\n",
        "print(\"Soma vetorizada\", c_vec)\n",
        "```\n",
        "\n",
        "#### ✅ O que acontece:\n",
        "\n",
        "* Converte as listas `a` e `b` em **arrays NumPy**\n",
        "* Soma os arrays direto: `a_vec + b_vec` (sem loop!)\n",
        "\n",
        "#### 🖨️ Saída:\n",
        "\n",
        "```\n",
        "Soma vetorizada [5 7 9]\n",
        "```\n",
        "\n",
        "---\n",
        "\n",
        "### 🚀 Moral da história:\n",
        "\n",
        "| Método             | Vantagem                    | Quando usar                   |\n",
        "| ------------------ | --------------------------- | ----------------------------- |\n",
        "| `for` loop         | Simples, didático           | Casos pequenos ou ensino      |\n",
        "| `NumPy vetorizado` | Rápido, elegante, otimizado | Dados grandes, performance 💥 |\n",
        "\n",
        "---\n",
        "\n",
        "\n"
      ],
      "metadata": {
        "id": "OdUgC_Uqk_qC"
      }
    }
  ]
}