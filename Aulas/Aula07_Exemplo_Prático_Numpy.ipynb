{
  "cells": [
    {
      "cell_type": "markdown",
      "id": "a0f13356",
      "metadata": {
        "id": "a0f13356"
      },
      "source": [
        "# 📊 Análise de Desempenho com NumPy\n",
        "Vamos utilizar o NumPy para cálculos de produtividade, bônus e avaliação final, com foco em vetorização e operações básicas com arrays."
      ]
    },
    {
      "cell_type": "code",
      "execution_count": null,
      "id": "2378ed1d",
      "metadata": {
        "id": "2378ed1d"
      },
      "outputs": [],
      "source": [
        "import numpy as np"
      ]
    },
    {
      "cell_type": "markdown",
      "id": "c6e5b0d6",
      "metadata": {
        "id": "c6e5b0d6"
      },
      "source": [
        "## 🔢 Dados Simulados\n",
        "Temos três conjuntos de dados:\n",
        "- `producao`: unidades produzidas por mês\n",
        "- `horas_trabalhadas`: total de horas dedicadas no mês\n",
        "- `avaliacoes`: nota de avaliação do gestor (0 a 10)"
      ]
    },
    {
      "cell_type": "code",
      "execution_count": null,
      "id": "6751487e",
      "metadata": {
        "id": "6751487e"
      },
      "outputs": [],
      "source": [
        "producao = np.array([120, 150, 100, 170, 130, 160])\n",
        "horas_trabalhadas = np.array([160, 170, 150, 180, 160, 175])\n",
        "avaliacoes = np.array([8.5, 9.0, 7.0, 9.5, 8.0, 9.2])"
      ]
    },
    {
      "cell_type": "markdown",
      "id": "93940de5",
      "metadata": {
        "id": "93940de5"
      },
      "source": [
        "## ⚙️ Cálculo da Produtividade\n",
        "Vamos calcular quantas unidades cada funcionário produziu por hora de trabalho."
      ]
    },
    {
      "cell_type": "code",
      "execution_count": null,
      "id": "1204710a",
      "metadata": {
        "id": "1204710a"
      },
      "outputs": [],
      "source": [
        "produtividade = producao / horas_trabalhadas\n",
        "print(\"Produtividade (unidades/hora):\", produtividade.round(2))"
      ]
    },
    {
      "cell_type": "markdown",
      "id": "30f69b78",
      "metadata": {
        "id": "30f69b78"
      },
      "source": [
        "## 💰 Cálculo de Bônus\n",
        "Funcionários com produtividade **acima da média** receberão um bônus de R$500."
      ]
    },
    {
      "cell_type": "code",
      "execution_count": null,
      "id": "b827d4c0",
      "metadata": {
        "id": "b827d4c0"
      },
      "outputs": [],
      "source": [
        "media_prod = produtividade.mean()\n",
        "bonus = np.where(produtividade > media_prod, 500, 0)\n",
        "print(\"Bônus atribuídos:\", bonus)"
      ]
    },
    {
      "cell_type": "markdown",
      "id": "5b841512",
      "metadata": {
        "id": "5b841512"
      },
      "source": [
        "## 🧮 Avaliação Final\n",
        "Cálculo ponderado com 70% da produtividade (normalizada) e 30% da nota do gestor."
      ]
    },
    {
      "cell_type": "code",
      "execution_count": null,
      "id": "f66f6783",
      "metadata": {
        "id": "f66f6783"
      },
      "outputs": [],
      "source": [
        "nota_normalizada = avaliacoes / 10\n",
        "avaliacao_final = (0.7 * produtividade / produtividade.max()) + (0.3 * nota_normalizada)\n",
        "print(\"Avaliação final (escala até 1):\", avaliacao_final.round(2))"
      ]
    },
    {
      "cell_type": "markdown",
      "id": "a5a95a5b",
      "metadata": {
        "id": "a5a95a5b"
      },
      "source": [
        "## 📈 Resumo Final"
      ]
    },
    {
      "cell_type": "code",
      "execution_count": null,
      "id": "b38ed3c3",
      "metadata": {
        "id": "b38ed3c3"
      },
      "outputs": [],
      "source": [
        "print(\"Produtividade média:\", produtividade.mean().round(2))\n",
        "print(\"Maior avaliação final:\", avaliacao_final.max().round(2))\n",
        "print(\"Funcionários com bônus:\", np.count_nonzero(bonus))"
      ]
    }
  ],
  "metadata": {
    "colab": {
      "provenance": []
    },
    "language_info": {
      "name": "python"
    },
    "kernelspec": {
      "name": "python3",
      "display_name": "Python 3"
    }
  },
  "nbformat": 4,
  "nbformat_minor": 5
}