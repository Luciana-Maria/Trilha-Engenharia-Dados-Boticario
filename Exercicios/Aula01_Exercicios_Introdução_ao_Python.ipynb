{
  "nbformat": 4,
  "nbformat_minor": 0,
  "metadata": {
    "colab": {
      "provenance": []
    },
    "kernelspec": {
      "name": "python3",
      "display_name": "Python 3"
    },
    "language_info": {
      "name": "python"
    }
  },
  "cells": [
    {
      "cell_type": "markdown",
      "source": [
        "## **Exercício 1 – Por que Python?**\n",
        "\n",
        "**a) Duas razões para a popularidade do Python em análise de dados:**\n",
        "\n",
        "- Sintaxe simples e légivel(fácil aprendizado e manutenção)\n",
        "- Grande ecossistema de bibliotecas de recursos (materiais,fóruns, exemplos, tutoriais)\n",
        "- versalidade(aplicável em ci~encia de dados, web, automação, inteligência artificial)\n",
        "\n",
        "**b) Biblioteca para análise numérica**\n",
        "- NumPY9cálculos com arrays e operações matemáticas eficientes\n",
        "\n",
        "**C) Biblioteca para visualização de dados:**\n",
        "- Matplotlib ou seaborn(criação de gráficos)\n"
      ],
      "metadata": {
        "id": "YCZDNpEpvazh"
      }
    },
    {
      "cell_type": "markdown",
      "source": [
        "## **Exercício 2 – Ambientes de Trabalho Python**\n",
        "\n",
        "**a) O que é o Google Colab?**\n",
        "\n",
        "**b) Diferença entre célula de código e célula de texto (Markdown):**"
      ],
      "metadata": {
        "id": "w7yUjpS4v_Yw"
      }
    },
    {
      "cell_type": "markdown",
      "metadata": {
        "id": "72188cff"
      },
      "source": [
        "## Resposta Exercício 2:\n",
        "\n",
        "**a) O que é o Google Colab?**\n",
        "\n",
        "O Google Colab (ou Colaboratory) é um serviço gratuito baseado em nuvem que permite escrever e executar código Python em notebooks interativos. Ele oferece acesso a recursos de computação, incluindo GPUs e TPUs, sem a necessidade de configuração local, o que o torna uma ferramenta muito conveniente para aprendizado, desenvolvimento e experimentação em áreas como ciência de dados e aprendizado de máquina.\n",
        "\n",
        "**b) Diferença entre célula de código e célula de texto (Markdown):**\n",
        "\n",
        "*   **Célula de Código:** É onde você escreve e executa código em Python (ou outras linguagens suportadas). Você pode usar essas células para definir variáveis, executar cálculos, importar bibliotecas e interagir com dados. O resultado da execução do código (saída, erros, visualizações) é exibido diretamente abaixo da célula.\n",
        "*   **Célula de Texto (Markdown):** É usada para adicionar texto formatado aos seus notebooks. Você pode usar a sintaxe Markdown para criar títulos, parágrafos, listas, links, imagens e outros elementos de formatação. Essas células são úteis para adicionar explicações, documentação, anotações e estruturar o conteúdo do seu notebook, tornando-o mais legível e compreensível. Elas não executam código."
      ]
    },
    {
      "cell_type": "markdown",
      "source": [
        "## **Exercício 3 – Olá, Mundo!**\n",
        "\n",
        "**a) Escreve um programa que dê a saída Olá, Mundo!**"
      ],
      "metadata": {
        "id": "tlVCJI4Kwugd"
      }
    },
    {
      "cell_type": "code",
      "source": [
        "# Utilização da função print para imprimir o texto\n",
        "print(\"Olá, Mundo!\")"
      ],
      "metadata": {
        "colab": {
          "base_uri": "https://localhost:8080/"
        },
        "id": "abqgL1uSdmBk",
        "outputId": "f43f1ccc-a274-4674-feaf-676944cfce4a"
      },
      "execution_count": null,
      "outputs": [
        {
          "output_type": "stream",
          "name": "stdout",
          "text": [
            "Olá, Mundo!\n"
          ]
        }
      ]
    },
    {
      "cell_type": "markdown",
      "source": [
        "## **Exercício 4 – Sintaxe e Tipos Básicos**\n",
        "\n",
        "**a) Completar os objetos:**\n",
        "\n",
        "```python\n",
        "idade = 23           \n",
        "altura = 1.74        \n",
        "nome = \"Joana\"       \n",
        "```\n",
        "\n",
        "**b) Exibir “nome” na tela:**"
      ],
      "metadata": {
        "id": "T59acYNrxibH"
      }
    },
    {
      "cell_type": "code",
      "source": [
        "# Objetos:\n",
        "idade = 23\n",
        "altura = 1.74\n",
        "nome = \"Joana\"\n",
        "\n",
        "# Exibição da variável nome na tela:\n",
        "print(nome)"
      ],
      "metadata": {
        "colab": {
          "base_uri": "https://localhost:8080/"
        },
        "id": "r_26oPMSd7k9",
        "outputId": "2079ccf8-41fa-4c0a-b0a9-551f0279daa9"
      },
      "execution_count": null,
      "outputs": [
        {
          "output_type": "stream",
          "name": "stdout",
          "text": [
            "Joana\n"
          ]
        }
      ]
    },
    {
      "cell_type": "markdown",
      "source": [
        "## **Exercício 5 – Operadores e Funções**\n",
        "\n",
        "**a) Calcular o dobro:**\n",
        "\n",
        "```python\n",
        "dobro = numero * 2\n",
        "```\n",
        "\n",
        "**b) O que é uma função e exemplo de embutida:**\n",
        "\n",
        "- **Função:** bloco de código reutilizável para realizar uma tarefa.\n",
        "- **Exemplo de função embutida:**  função que existi dentro do python ex.le() - retorna o tamanho de uma sequência.\n",
        "\n"
      ],
      "metadata": {
        "id": "QXv8z-YMx30n"
      }
    },
    {
      "cell_type": "code",
      "source": [
        "# a-Cálculo do dobro:\n",
        "numero = 500\n",
        "dobro = numero * 2"
      ],
      "metadata": {
        "id": "XkR29bGB5Rg3"
      },
      "execution_count": 1,
      "outputs": []
    },
    {
      "cell_type": "code",
      "source": [
        "dobro"
      ],
      "metadata": {
        "colab": {
          "base_uri": "https://localhost:8080/"
        },
        "id": "CiBSb20O6MJL",
        "outputId": "a49c689c-2017-42ba-f92e-427a6e5b3ecc"
      },
      "execution_count": 2,
      "outputs": [
        {
          "output_type": "execute_result",
          "data": {
            "text/plain": [
              "1000"
            ]
          },
          "metadata": {},
          "execution_count": 2
        }
      ]
    },
    {
      "cell_type": "code",
      "source": [
        "#exemplo de função len()tamanho\n",
        "frase = \"hello\"\n",
        "print(len(frase))"
      ],
      "metadata": {
        "colab": {
          "base_uri": "https://localhost:8080/"
        },
        "id": "pCACFrn06YQe",
        "outputId": "99905675-2833-4310-d951-59f9c11f3908"
      },
      "execution_count": 3,
      "outputs": [
        {
          "output_type": "stream",
          "name": "stdout",
          "text": [
            "5\n"
          ]
        }
      ]
    },
    {
      "cell_type": "code",
      "source": [
        "#exemplo de função len()tamanho\n",
        "frase = \"Boa tarde\" # espaço conta como caractere\n",
        "print(len(frase))"
      ],
      "metadata": {
        "colab": {
          "base_uri": "https://localhost:8080/"
        },
        "id": "t6rU-t1Q7_cw",
        "outputId": "a02f5895-8fff-4962-de2c-42312a572394"
      },
      "execution_count": 4,
      "outputs": [
        {
          "output_type": "stream",
          "name": "stdout",
          "text": [
            "9\n"
          ]
        }
      ]
    },
    {
      "cell_type": "markdown",
      "source": [
        "## **Exercício 6 – Estruturas de Dados Fundamentais**\n",
        "\n",
        "**a) Guardar nomes de alunos, permitindo alterar:**\n",
        "\n",
        "\n",
        "**b) Relacionar RGs com nomes:**\n",
        "\n",
        "\n",
        "**c) Armazenar coordenadas (x, y, z) imutáveis:**\n",
        "\n",
        "\n",
        "**d) Números sorteados, sem repetições:**"
      ],
      "metadata": {
        "id": "xOqHOhUB2ISX"
      }
    },
    {
      "cell_type": "code",
      "source": [
        "# a) Guardar nomes de alunos, permitindo alterar:\n",
        "# Lista\n",
        "nomes_alunos = [\"Camila\", \"Lorenzo\", \"Laura\"]\n",
        "\n",
        "# b) Relacionar RGs com nomes:\n",
        "# Dicionário\n",
        "alunos_rg = {\"1234567\": \"Camila\", \"7654321\": \"Lorenzo\", \"9876543\": \"Laura\"}\n",
        "\n",
        "# c) Armazenar coordenadas (x, y, z) imutáveis:\n",
        "# Tupla\n",
        "coordenadas = (10, 20, 30)\n",
        "\n",
        "# d) Números sorteados, sem repetições:\n",
        "# Conjunto\n",
        "numeros_sorteados = {15, 8, 23, 4, 11}"
      ],
      "metadata": {
        "id": "6ci6NW43xD_-"
      },
      "execution_count": null,
      "outputs": []
    }
  ]
}