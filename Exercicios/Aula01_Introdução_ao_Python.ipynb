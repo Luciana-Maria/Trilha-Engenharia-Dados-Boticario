{
  "nbformat": 4,
  "nbformat_minor": 0,
  "metadata": {
    "colab": {
      "provenance": []
    },
    "kernelspec": {
      "name": "python3",
      "display_name": "Python 3"
    },
    "language_info": {
      "name": "python"
    }
  },
  "cells": [
    {
      "cell_type": "markdown",
      "source": [
        "Boa noite!\n",
        "\n",
        " Para executar a célula clica em chift + enter"
      ],
      "metadata": {
        "id": "eiuKcIT10kOy"
      }
    },
    {
      "cell_type": "code",
      "source": [
        "#celular de código\n",
        "# guardar 2 na variável x\n",
        "x = 2"
      ],
      "metadata": {
        "id": "8HjPS3uQ0p5B"
      },
      "execution_count": null,
      "outputs": []
    },
    {
      "cell_type": "code",
      "source": [
        "\n",
        "# para ver o valor de x\n",
        "x"
      ],
      "metadata": {
        "colab": {
          "base_uri": "https://localhost:8080/"
        },
        "id": "uJbvk9hj1Qao",
        "outputId": "74fc98e2-9e40-4065-8da4-5c495a65ba09"
      },
      "execution_count": null,
      "outputs": [
        {
          "output_type": "execute_result",
          "data": {
            "text/plain": [
              "2"
            ]
          },
          "metadata": {},
          "execution_count": 3
        }
      ]
    },
    {
      "cell_type": "markdown",
      "source": [
        "##Execuçao célula a célula.\n",
        "\n",
        "- Número inteiro (2) exige menos armazenamento na memória.\n",
        "- Número float (2.0) exige mais armazenamento na memória."
      ],
      "metadata": {
        "id": "F1x_y3T-2la4"
      }
    },
    {
      "cell_type": "code",
      "source": [
        "#número float atribuir valor a variavel y\n",
        "y = 2.0"
      ],
      "metadata": {
        "id": "mNh3AG-F1u7R"
      },
      "execution_count": null,
      "outputs": []
    },
    {
      "cell_type": "code",
      "source": [
        "#mostrar o valor de y\n",
        "y"
      ],
      "metadata": {
        "colab": {
          "base_uri": "https://localhost:8080/"
        },
        "id": "pESyEkB62PN-",
        "outputId": "1955d754-e7ae-41bb-a247-46c06605305d"
      },
      "execution_count": null,
      "outputs": [
        {
          "output_type": "execute_result",
          "data": {
            "text/plain": [
              "2.0"
            ]
          },
          "metadata": {},
          "execution_count": 8
        }
      ]
    },
    {
      "cell_type": "code",
      "source": [
        "#variável tipo texto\n",
        "texto = \"aula\""
      ],
      "metadata": {
        "id": "E_n11q8k2XRo"
      },
      "execution_count": null,
      "outputs": []
    },
    {
      "cell_type": "code",
      "source": [
        "texto"
      ],
      "metadata": {
        "colab": {
          "base_uri": "https://localhost:8080/",
          "height": 36
        },
        "id": "wkdyUVF63_1U",
        "outputId": "335ee37b-83dd-431d-95b7-26e3bdd6e829"
      },
      "execution_count": null,
      "outputs": [
        {
          "output_type": "execute_result",
          "data": {
            "text/plain": [
              "'aula'"
            ],
            "application/vnd.google.colaboratory.intrinsic+json": {
              "type": "string"
            }
          },
          "metadata": {},
          "execution_count": 10
        }
      ]
    },
    {
      "cell_type": "markdown",
      "source": [
        "## Exemplos Práticos: Olá, Mundo!"
      ],
      "metadata": {
        "id": "lvRv2QVP5KjH"
      }
    },
    {
      "cell_type": "code",
      "source": [
        "print(\" Olá, Mundo!\")"
      ],
      "metadata": {
        "colab": {
          "base_uri": "https://localhost:8080/"
        },
        "id": "3ZTwHpWw5tDn",
        "outputId": "7d76dd72-9134-4594-846c-734e05afad76"
      },
      "execution_count": null,
      "outputs": [
        {
          "output_type": "stream",
          "name": "stdout",
          "text": [
            " Olá, Mundo!\n"
          ]
        }
      ]
    },
    {
      "cell_type": "markdown",
      "source": [
        "## Menos código para operações simples"
      ],
      "metadata": {
        "id": "5PhOtvqC50Y_"
      }
    },
    {
      "cell_type": "code",
      "source": [
        "#listas\n",
        "numeros = [1,2,3]"
      ],
      "metadata": {
        "id": "O_2CuejX6BI_"
      },
      "execution_count": null,
      "outputs": []
    },
    {
      "cell_type": "code",
      "source": [
        "#mostrar a lista numeros\n",
        "numeros"
      ],
      "metadata": {
        "colab": {
          "base_uri": "https://localhost:8080/"
        },
        "id": "I5zs8qye6c67",
        "outputId": "09d7e6b3-6f4c-48a7-9122-09fbe2131509"
      },
      "execution_count": null,
      "outputs": [
        {
          "output_type": "execute_result",
          "data": {
            "text/plain": [
              "[1, 2, 3]"
            ]
          },
          "metadata": {},
          "execution_count": 15
        }
      ]
    },
    {
      "cell_type": "code",
      "source": [
        "#somar os números da lista\n",
        "#usar a função sum() para somar os números da lista\n",
        "#pode usar o print() para mostrar ou usar a função sum() direto\n",
        "print(sum(numeros))"
      ],
      "metadata": {
        "colab": {
          "base_uri": "https://localhost:8080/"
        },
        "id": "l2rg9kAS6qjW",
        "outputId": "cdcfb86e-b36c-4ae9-e3e4-b78fe4da9beb"
      },
      "execution_count": null,
      "outputs": [
        {
          "output_type": "stream",
          "name": "stdout",
          "text": [
            "6\n"
          ]
        }
      ]
    },
    {
      "cell_type": "code",
      "source": [
        "#usar a função sum()\n",
        "sum(numeros)"
      ],
      "metadata": {
        "colab": {
          "base_uri": "https://localhost:8080/"
        },
        "id": "Yy8A5ZfO7VnD",
        "outputId": "dc11c2be-7595-4145-cce1-179f13348b35"
      },
      "execution_count": null,
      "outputs": [
        {
          "output_type": "execute_result",
          "data": {
            "text/plain": [
              "6"
            ]
          },
          "metadata": {},
          "execution_count": 19
        }
      ]
    },
    {
      "cell_type": "code",
      "source": [
        "#Alturas\n",
        "alturas = [170,180,160,165,158]"
      ],
      "metadata": {
        "id": "k64BXUfv79zS"
      },
      "execution_count": null,
      "outputs": []
    },
    {
      "cell_type": "code",
      "source": [
        "sum(alturas)"
      ],
      "metadata": {
        "colab": {
          "base_uri": "https://localhost:8080/"
        },
        "id": "AgGJ2_TF8SaS",
        "outputId": "cdaf1560-51ed-45f1-becb-468a4f374295"
      },
      "execution_count": null,
      "outputs": [
        {
          "output_type": "execute_result",
          "data": {
            "text/plain": [
              "833"
            ]
          },
          "metadata": {},
          "execution_count": 21
        }
      ]
    },
    {
      "cell_type": "code",
      "source": [
        "alturas * 10"
      ],
      "metadata": {
        "colab": {
          "base_uri": "https://localhost:8080/"
        },
        "id": "aYO6VF2BHgxz",
        "outputId": "9b00a03f-7050-4211-efa0-64436d2d4a78"
      },
      "execution_count": null,
      "outputs": [
        {
          "output_type": "execute_result",
          "data": {
            "text/plain": [
              "array([1700, 1800, 1600, 1650, 1580])"
            ]
          },
          "metadata": {},
          "execution_count": 34
        }
      ]
    },
    {
      "cell_type": "markdown",
      "source": [
        "##Biblioteca para analise eficiente"
      ],
      "metadata": {
        "id": "gn9hspcX7sZa"
      }
    },
    {
      "cell_type": "markdown",
      "source": [],
      "metadata": {
        "id": "ZIgk6G4a7QD6"
      }
    },
    {
      "cell_type": "code",
      "source": [
        "#para importar a biblioteca pandas\n",
        "#O panda é  como se fosse o excel dentro do python\n",
        "#O objeto é o dataframe e como se fosse a tabela do excel\n",
        "# import pandas com a sigla pd\n",
        "import pandas as pd"
      ],
      "metadata": {
        "id": "Z9-DOpJW7zk7"
      },
      "execution_count": null,
      "outputs": []
    },
    {
      "cell_type": "code",
      "source": [
        "#criando o dataframe\n",
        "df = pd.DataFrame({\"Produto\": [\"A\", \"B\", \"C\"], \"Vendas\": [10, 20, 15]})"
      ],
      "metadata": {
        "id": "NjYRp4or-hJu"
      },
      "execution_count": null,
      "outputs": []
    },
    {
      "cell_type": "code",
      "source": [
        "#visualizar o dataframe\n",
        "df"
      ],
      "metadata": {
        "colab": {
          "base_uri": "https://localhost:8080/",
          "height": 865
        },
        "id": "ZMHTYK5nAWc9",
        "outputId": "b32e1be6-1f65-4c93-b1dc-279417b26c5d"
      },
      "execution_count": null,
      "outputs": [
        {
          "output_type": "execute_result",
          "data": {
            "text/plain": [
              "  Produto  Vendas\n",
              "0       A      10\n",
              "1       B      20\n",
              "2       C      15"
            ],
            "text/html": [
              "\n",
              "  <div id=\"df-9211c2f3-0b87-4618-ba97-90a2545580dd\" class=\"colab-df-container\">\n",
              "    <div>\n",
              "<style scoped>\n",
              "    .dataframe tbody tr th:only-of-type {\n",
              "        vertical-align: middle;\n",
              "    }\n",
              "\n",
              "    .dataframe tbody tr th {\n",
              "        vertical-align: top;\n",
              "    }\n",
              "\n",
              "    .dataframe thead th {\n",
              "        text-align: right;\n",
              "    }\n",
              "</style>\n",
              "<table border=\"1\" class=\"dataframe\">\n",
              "  <thead>\n",
              "    <tr style=\"text-align: right;\">\n",
              "      <th></th>\n",
              "      <th>Produto</th>\n",
              "      <th>Vendas</th>\n",
              "    </tr>\n",
              "  </thead>\n",
              "  <tbody>\n",
              "    <tr>\n",
              "      <th>0</th>\n",
              "      <td>A</td>\n",
              "      <td>10</td>\n",
              "    </tr>\n",
              "    <tr>\n",
              "      <th>1</th>\n",
              "      <td>B</td>\n",
              "      <td>20</td>\n",
              "    </tr>\n",
              "    <tr>\n",
              "      <th>2</th>\n",
              "      <td>C</td>\n",
              "      <td>15</td>\n",
              "    </tr>\n",
              "  </tbody>\n",
              "</table>\n",
              "</div>\n",
              "    <div class=\"colab-df-buttons\">\n",
              "\n",
              "  <div class=\"colab-df-container\">\n",
              "    <button class=\"colab-df-convert\" onclick=\"convertToInteractive('df-9211c2f3-0b87-4618-ba97-90a2545580dd')\"\n",
              "            title=\"Convert this dataframe to an interactive table.\"\n",
              "            style=\"display:none;\">\n",
              "\n",
              "  <svg xmlns=\"http://www.w3.org/2000/svg\" height=\"24px\" viewBox=\"0 -960 960 960\">\n",
              "    <path d=\"M120-120v-720h720v720H120Zm60-500h600v-160H180v160Zm220 220h160v-160H400v160Zm0 220h160v-160H400v160ZM180-400h160v-160H180v160Zm440 0h160v-160H620v160ZM180-180h160v-160H180v160Zm440 0h160v-160H620v160Z\"/>\n",
              "  </svg>\n",
              "    </button>\n",
              "\n",
              "  <style>\n",
              "    .colab-df-container {\n",
              "      display:flex;\n",
              "      gap: 12px;\n",
              "    }\n",
              "\n",
              "    .colab-df-convert {\n",
              "      background-color: #E8F0FE;\n",
              "      border: none;\n",
              "      border-radius: 50%;\n",
              "      cursor: pointer;\n",
              "      display: none;\n",
              "      fill: #1967D2;\n",
              "      height: 32px;\n",
              "      padding: 0 0 0 0;\n",
              "      width: 32px;\n",
              "    }\n",
              "\n",
              "    .colab-df-convert:hover {\n",
              "      background-color: #E2EBFA;\n",
              "      box-shadow: 0px 1px 2px rgba(60, 64, 67, 0.3), 0px 1px 3px 1px rgba(60, 64, 67, 0.15);\n",
              "      fill: #174EA6;\n",
              "    }\n",
              "\n",
              "    .colab-df-buttons div {\n",
              "      margin-bottom: 4px;\n",
              "    }\n",
              "\n",
              "    [theme=dark] .colab-df-convert {\n",
              "      background-color: #3B4455;\n",
              "      fill: #D2E3FC;\n",
              "    }\n",
              "\n",
              "    [theme=dark] .colab-df-convert:hover {\n",
              "      background-color: #434B5C;\n",
              "      box-shadow: 0px 1px 3px 1px rgba(0, 0, 0, 0.15);\n",
              "      filter: drop-shadow(0px 1px 2px rgba(0, 0, 0, 0.3));\n",
              "      fill: #FFFFFF;\n",
              "    }\n",
              "  </style>\n",
              "\n",
              "    <script>\n",
              "      const buttonEl =\n",
              "        document.querySelector('#df-9211c2f3-0b87-4618-ba97-90a2545580dd button.colab-df-convert');\n",
              "      buttonEl.style.display =\n",
              "        google.colab.kernel.accessAllowed ? 'block' : 'none';\n",
              "\n",
              "      async function convertToInteractive(key) {\n",
              "        const element = document.querySelector('#df-9211c2f3-0b87-4618-ba97-90a2545580dd');\n",
              "        const dataTable =\n",
              "          await google.colab.kernel.invokeFunction('convertToInteractive',\n",
              "                                                    [key], {});\n",
              "        if (!dataTable) return;\n",
              "\n",
              "        const docLinkHtml = 'Like what you see? Visit the ' +\n",
              "          '<a target=\"_blank\" href=https://colab.research.google.com/notebooks/data_table.ipynb>data table notebook</a>'\n",
              "          + ' to learn more about interactive tables.';\n",
              "        element.innerHTML = '';\n",
              "        dataTable['output_type'] = 'display_data';\n",
              "        await google.colab.output.renderOutput(dataTable, element);\n",
              "        const docLink = document.createElement('div');\n",
              "        docLink.innerHTML = docLinkHtml;\n",
              "        element.appendChild(docLink);\n",
              "      }\n",
              "    </script>\n",
              "  </div>\n",
              "\n",
              "\n",
              "    <div id=\"df-f75568b5-c20e-45a2-847b-eb8dfab31bee\">\n",
              "      <button class=\"colab-df-quickchart\" onclick=\"quickchart('df-f75568b5-c20e-45a2-847b-eb8dfab31bee')\"\n",
              "                title=\"Suggest charts\"\n",
              "                style=\"display:none;\">\n",
              "\n",
              "<svg xmlns=\"http://www.w3.org/2000/svg\" height=\"24px\"viewBox=\"0 0 24 24\"\n",
              "     width=\"24px\">\n",
              "    <g>\n",
              "        <path d=\"M19 3H5c-1.1 0-2 .9-2 2v14c0 1.1.9 2 2 2h14c1.1 0 2-.9 2-2V5c0-1.1-.9-2-2-2zM9 17H7v-7h2v7zm4 0h-2V7h2v10zm4 0h-2v-4h2v4z\"/>\n",
              "    </g>\n",
              "</svg>\n",
              "      </button>\n",
              "\n",
              "<style>\n",
              "  .colab-df-quickchart {\n",
              "      --bg-color: #E8F0FE;\n",
              "      --fill-color: #1967D2;\n",
              "      --hover-bg-color: #E2EBFA;\n",
              "      --hover-fill-color: #174EA6;\n",
              "      --disabled-fill-color: #AAA;\n",
              "      --disabled-bg-color: #DDD;\n",
              "  }\n",
              "\n",
              "  [theme=dark] .colab-df-quickchart {\n",
              "      --bg-color: #3B4455;\n",
              "      --fill-color: #D2E3FC;\n",
              "      --hover-bg-color: #434B5C;\n",
              "      --hover-fill-color: #FFFFFF;\n",
              "      --disabled-bg-color: #3B4455;\n",
              "      --disabled-fill-color: #666;\n",
              "  }\n",
              "\n",
              "  .colab-df-quickchart {\n",
              "    background-color: var(--bg-color);\n",
              "    border: none;\n",
              "    border-radius: 50%;\n",
              "    cursor: pointer;\n",
              "    display: none;\n",
              "    fill: var(--fill-color);\n",
              "    height: 32px;\n",
              "    padding: 0;\n",
              "    width: 32px;\n",
              "  }\n",
              "\n",
              "  .colab-df-quickchart:hover {\n",
              "    background-color: var(--hover-bg-color);\n",
              "    box-shadow: 0 1px 2px rgba(60, 64, 67, 0.3), 0 1px 3px 1px rgba(60, 64, 67, 0.15);\n",
              "    fill: var(--button-hover-fill-color);\n",
              "  }\n",
              "\n",
              "  .colab-df-quickchart-complete:disabled,\n",
              "  .colab-df-quickchart-complete:disabled:hover {\n",
              "    background-color: var(--disabled-bg-color);\n",
              "    fill: var(--disabled-fill-color);\n",
              "    box-shadow: none;\n",
              "  }\n",
              "\n",
              "  .colab-df-spinner {\n",
              "    border: 2px solid var(--fill-color);\n",
              "    border-color: transparent;\n",
              "    border-bottom-color: var(--fill-color);\n",
              "    animation:\n",
              "      spin 1s steps(1) infinite;\n",
              "  }\n",
              "\n",
              "  @keyframes spin {\n",
              "    0% {\n",
              "      border-color: transparent;\n",
              "      border-bottom-color: var(--fill-color);\n",
              "      border-left-color: var(--fill-color);\n",
              "    }\n",
              "    20% {\n",
              "      border-color: transparent;\n",
              "      border-left-color: var(--fill-color);\n",
              "      border-top-color: var(--fill-color);\n",
              "    }\n",
              "    30% {\n",
              "      border-color: transparent;\n",
              "      border-left-color: var(--fill-color);\n",
              "      border-top-color: var(--fill-color);\n",
              "      border-right-color: var(--fill-color);\n",
              "    }\n",
              "    40% {\n",
              "      border-color: transparent;\n",
              "      border-right-color: var(--fill-color);\n",
              "      border-top-color: var(--fill-color);\n",
              "    }\n",
              "    60% {\n",
              "      border-color: transparent;\n",
              "      border-right-color: var(--fill-color);\n",
              "    }\n",
              "    80% {\n",
              "      border-color: transparent;\n",
              "      border-right-color: var(--fill-color);\n",
              "      border-bottom-color: var(--fill-color);\n",
              "    }\n",
              "    90% {\n",
              "      border-color: transparent;\n",
              "      border-bottom-color: var(--fill-color);\n",
              "    }\n",
              "  }\n",
              "</style>\n",
              "\n",
              "      <script>\n",
              "        async function quickchart(key) {\n",
              "          const quickchartButtonEl =\n",
              "            document.querySelector('#' + key + ' button');\n",
              "          quickchartButtonEl.disabled = true;  // To prevent multiple clicks.\n",
              "          quickchartButtonEl.classList.add('colab-df-spinner');\n",
              "          try {\n",
              "            const charts = await google.colab.kernel.invokeFunction(\n",
              "                'suggestCharts', [key], {});\n",
              "          } catch (error) {\n",
              "            console.error('Error during call to suggestCharts:', error);\n",
              "          }\n",
              "          quickchartButtonEl.classList.remove('colab-df-spinner');\n",
              "          quickchartButtonEl.classList.add('colab-df-quickchart-complete');\n",
              "        }\n",
              "        (() => {\n",
              "          let quickchartButtonEl =\n",
              "            document.querySelector('#df-f75568b5-c20e-45a2-847b-eb8dfab31bee button');\n",
              "          quickchartButtonEl.style.display =\n",
              "            google.colab.kernel.accessAllowed ? 'block' : 'none';\n",
              "        })();\n",
              "      </script>\n",
              "    </div>\n",
              "\n",
              "  <div id=\"id_05398039-f4bb-47f9-962d-e7f3fa4c9d35\">\n",
              "    <style>\n",
              "      .colab-df-generate {\n",
              "        background-color: #E8F0FE;\n",
              "        border: none;\n",
              "        border-radius: 50%;\n",
              "        cursor: pointer;\n",
              "        display: none;\n",
              "        fill: #1967D2;\n",
              "        height: 32px;\n",
              "        padding: 0 0 0 0;\n",
              "        width: 32px;\n",
              "      }\n",
              "\n",
              "      .colab-df-generate:hover {\n",
              "        background-color: #E2EBFA;\n",
              "        box-shadow: 0px 1px 2px rgba(60, 64, 67, 0.3), 0px 1px 3px 1px rgba(60, 64, 67, 0.15);\n",
              "        fill: #174EA6;\n",
              "      }\n",
              "\n",
              "      [theme=dark] .colab-df-generate {\n",
              "        background-color: #3B4455;\n",
              "        fill: #D2E3FC;\n",
              "      }\n",
              "\n",
              "      [theme=dark] .colab-df-generate:hover {\n",
              "        background-color: #434B5C;\n",
              "        box-shadow: 0px 1px 3px 1px rgba(0, 0, 0, 0.15);\n",
              "        filter: drop-shadow(0px 1px 2px rgba(0, 0, 0, 0.3));\n",
              "        fill: #FFFFFF;\n",
              "      }\n",
              "    </style>\n",
              "    <button class=\"colab-df-generate\" onclick=\"generateWithVariable('df')\"\n",
              "            title=\"Generate code using this dataframe.\"\n",
              "            style=\"display:none;\">\n",
              "\n",
              "  <svg xmlns=\"http://www.w3.org/2000/svg\" height=\"24px\"viewBox=\"0 0 24 24\"\n",
              "       width=\"24px\">\n",
              "    <path d=\"M7,19H8.4L18.45,9,17,7.55,7,17.6ZM5,21V16.75L18.45,3.32a2,2,0,0,1,2.83,0l1.4,1.43a1.91,1.91,0,0,1,.58,1.4,1.91,1.91,0,0,1-.58,1.4L9.25,21ZM18.45,9,17,7.55Zm-12,3A5.31,5.31,0,0,0,4.9,8.1,5.31,5.31,0,0,0,1,6.5,5.31,5.31,0,0,0,4.9,4.9,5.31,5.31,0,0,0,6.5,1,5.31,5.31,0,0,0,8.1,4.9,5.31,5.31,0,0,0,12,6.5,5.46,5.46,0,0,0,6.5,12Z\"/>\n",
              "  </svg>\n",
              "    </button>\n",
              "    <script>\n",
              "      (() => {\n",
              "      const buttonEl =\n",
              "        document.querySelector('#id_05398039-f4bb-47f9-962d-e7f3fa4c9d35 button.colab-df-generate');\n",
              "      buttonEl.style.display =\n",
              "        google.colab.kernel.accessAllowed ? 'block' : 'none';\n",
              "\n",
              "      buttonEl.onclick = () => {\n",
              "        google.colab.notebook.generateWithVariable('df');\n",
              "      }\n",
              "      })();\n",
              "    </script>\n",
              "  </div>\n",
              "\n",
              "    </div>\n",
              "  </div>\n"
            ],
            "application/vnd.google.colaboratory.intrinsic+json": {
              "type": "dataframe",
              "variable_name": "df",
              "summary": "{\n  \"name\": \"df\",\n  \"rows\": 3,\n  \"fields\": [\n    {\n      \"column\": \"Produto\",\n      \"properties\": {\n        \"dtype\": \"string\",\n        \"num_unique_values\": 3,\n        \"samples\": [\n          \"A\",\n          \"B\",\n          \"C\"\n        ],\n        \"semantic_type\": \"\",\n        \"description\": \"\"\n      }\n    },\n    {\n      \"column\": \"Vendas\",\n      \"properties\": {\n        \"dtype\": \"number\",\n        \"std\": 5,\n        \"min\": 10,\n        \"max\": 20,\n        \"num_unique_values\": 3,\n        \"samples\": [\n          10,\n          20,\n          15\n        ],\n        \"semantic_type\": \"\",\n        \"description\": \"\"\n      }\n    }\n  ]\n}"
            }
          },
          "metadata": {},
          "execution_count": 25
        },
        {
          "output_type": "display_data",
          "data": {
            "text/plain": [
              "<google.colab._quickchart_helpers.SectionTitle at 0x7e435669b090>"
            ],
            "text/html": [
              "<h4 class=\"colab-quickchart-section-title\">Distributions</h4>\n",
              "<style>\n",
              "  .colab-quickchart-section-title {\n",
              "      clear: both;\n",
              "  }\n",
              "</style>"
            ]
          },
          "metadata": {}
        },
        {
          "output_type": "display_data",
          "data": {
            "text/plain": [
              "from matplotlib import pyplot as plt\n",
              "df['Vendas'].plot(kind='hist', bins=20, title='Vendas')\n",
              "plt.gca().spines[['top', 'right',]].set_visible(False)"
            ],
            "text/html": [
              "      <div class=\"colab-quickchart-chart-with-code\" id=\"chart-cd0c6acd-a42b-4c17-9be3-f82549d25070\">\n",
              "        <img style=\"width: 180px;\" src=\"data:image/png;base64,iVBORw0KGgoAAAANSUhEUgAAAioAAAGrCAYAAADuNLxTAAAAOnRFWHRTb2Z0d2FyZQBNYXRwbG90\n",
              "bGliIHZlcnNpb24zLjEwLjAsIGh0dHBzOi8vbWF0cGxvdGxpYi5vcmcvlHJYcgAAAAlwSFlzAAAP\n",
              "YQAAD2EBqD+naQAAIFdJREFUeJzt3XtU1HX+x/HXCDVpBZiXlRVHUi5hJoZJhq5dzF3rV2iau7ZZ\n",
              "WnFR67gdd1cz65TdcM92s/YUeFm6uN0WrWXtdipds7KQUlPUFAKHDKVTyZgpyvD5/eGvOc0i/kTn\n",
              "y3zA5+OcOUe+fPzynu9BevadL/N1GWOMAAAALNQh3AMAAAA0h1ABAADWIlQAAIC1CBUAAGAtQgUA\n",
              "AFiLUAEAANYiVAAAgLUIFQAAYC1CBQAAWItQAdDmlJeXy+VyqaqqKtyjAHAYoQLghFxzzTUaM2bM\n",
              "ET93xx13qF+/fq07EIB2hVABcEKmTp2q5cuX66uvvgrafvDgQf3973/X1KlTwzQZgPaAUAFwQkaO\n",
              "HKk+ffpo4cKFQduLior0448/6sYbb9QjjzyilJQURUdHa9CgQXrvvfcC65555hnFxcWpoKBA8fHx\n",
              "io6O1vjx4+Xz+QJrKioqNGLECEVFRSklJUUrV64M+lqbNm3SiBEj1K1bN0VHR+vCCy/UihUrAp/f\n",
              "s2ePJkyYoK5duyoqKkpJSUkqKipy6IgACCVCBcAJcblcmjJlihYtWqSGhobA9vz8fF1//fV67LHH\n",
              "9Pzzz+u1117T999/r7vuukuZmZmqqKgIrN21a5e2bt2qLVu2aOvWrVq/fr0eeeQRSZLf79fVV18t\n",
              "j8ejmpoavfPOO02iSDr8MpPX61Vtba2uuOIKXXPNNaqtrZUk/fWvf9XevXtVWVmpuro6vfPOO7wk\n",
              "BbQVBgBO0HfffWc6duxoli5daowxZtOmTUaSWb9+vYmKijJvvfVW0PrLL7/c3H///cYYYwoLC43b\n",
              "7TYHDx4MfP5Pf/qTGTVqlDHGmA8++MB06NDB7NmzJ/D54uJiI8lUVlY2O1N0dLQpLi42xhhz7733\n",
              "mgsvvNCUlJQYv98fkucMoHVwRgXACevcubN+97vfKT8/X9LhsykXXXSRevToIZ/Pp/HjxysmJibw\n",
              "+Oijj7Rz587A3+/atatOOeWUwMenn3669u7dK0n66quv1LlzZ0VHRwc+f/bZZwd9fa/XqwkTJsjj\n",
              "8SgqKkoxMTHy+XyBMyp//vOf9etf/1pZWVnq0qWLxo8fr/LycseOB4DQIVQAhMS0adP07rvvasOG\n",
              "DXr++ec1bdo0xcTE6LTTTtPy5cu1Z8+ewGPfvn16+umnj2m/cXFx+v7771VXVxfY9t+/lpydna3G\n",
              "xkatXbtWPp9P33//vaKiomSMkSR16tRJ9913nzZs2KCKigpFRkZq0qRJIXvuAJxDqAAIicGDB2vQ\n",
              "oEEaO3asTj31VI0fP15ut1tTpkzRzJkztWXLFhljtH//fr3//vvatm3bMe33wgsvVGJiombMmKF9\n",
              "+/Zp586deuCBB4LW1NXV6YwzzlDnzp21b98+zZ49Wz/88EPg88XFxSorK1NDQ4M6deqkjh07KjIy\n",
              "MqTPH4AzCBUAITNt2jR9+eWXuvnmm+V2uyVJDz/8sK677rrAyz/x8fHKy8vToUOHjmmfkZGR+ve/\n",
              "/63KykrFxsbq8ssv1y233BK05oknntCGDRvUuXNn9evXTz179lRcXFzg85WVlRozZoxiYmLUs2dP\n",
              "7d69W4sXLw7dEwfgGJf56dwoAACAZTijAgAArEWoAAAAaxEqAADAWoQKAACwFqECAACsRagAAABr\n",
              "ESoAAMBa7SJU5s+fH+4RAACAA9pFqOzYsSPcIwAAAAe0i1ABAADtE6ECAACsRagAAABrESoAAMBa\n",
              "hAoAALAWoQIAAKxFqAAAAGsRKgAAwFqECgAAsBahAgAArEWoAAAAaxEqAADAWo6GyvTp0xUfHy+X\n",
              "y6X169c3u27x4sVKTExU3759lZ2drUOHDjk5FgAAaCMcDZVrr71WH3zwgXr37t3smsrKSt19991a\n",
              "vXq1ysvLtXv3bi1YsMDJsQAAQBvhaKgMHz5ccXFxR11TVFSkzMxM9ejRQy6XS1OmTNGLL77Y7Pr6\n",
              "+nr5fL6gh9/vD/XoAADAApHhHsDr9QadcYmPj5fX6212fV5enubOnRu0bciQIY7MFn/H647sV5Kq\n",
              "5v2PY/sG2hOn/h3ybxDtTXv9t9LmLqadPXu26urqgh7p6enhHgsAADgg7GdUPB6PKioqAh9XVVXJ\n",
              "4/E0u97tdsvtdgdti4iIcGw+AAAQPmE/ozJu3DgVFxdr165dMsYoPz9fEyZMCPdYAADAAo6GSm5u\n",
              "ruLi4vTVV1/pN7/5jRISEiRJWVlZKi4uliT16dNHc+fO1dChQ5WQkKBu3bopNzfXybEAAEAb4ehL\n",
              "PwUFBUfcvmjRoqCPs7OzlZ2d7eQoAACgDQr7Sz8AAADNIVQAAIC1CBUAAGAtQgUAAFiLUAEAANYi\n",
              "VAAAgLUIFQAAYC1CBQAAWItQAQAA1iJUAACAtQgVAABgLUIFAABYi1ABAADWIlQAAIC1CBUAAGAt\n",
              "QgUAAFiLUAEAANYiVAAAgLUIFQAAYC1CBQAAWItQAQAA1iJUAACAtQgVAABgLUIFAABYi1ABAADW\n",
              "IlQAAIC1CBUAAGAtQgUAAFiLUAEAANYiVAAAgLUIFQAAYC1CBQAAWItQAQAA1iJUAACAtQgVAABg\n",
              "LUIFAABYi1ABAADWIlQAAIC1CBUAAGAtQgUAAFiLUAEAANYiVAAAgLUIFQAAYC1CBQAAWItQAQAA\n",
              "1iJUAACAtQgVAABgLUIFAABYi1ABAADWIlQAAIC1CBUAAGAtQgUAAFiLUAEAANYiVAAAgLUIFQAA\n",
              "YC1CBQAAWItQAQAA1iJUAACAtQgVAABgLUIFAABYi1ABAADWcjRUtm/froyMDCUlJWnw4MEqKytr\n",
              "sqaxsVEzZsxQv379NGDAAF166aUqLy93ciwAANBGOBoqubm5ysnJ0bZt2zRr1ixNnjy5yZri4mJ9\n",
              "+OGH2rBhgz7//HONGDFCd955p5NjAQCANsKxUKmtrVVpaakmTpwoSRo3bpyqq6ubnC1xuVyqr6/X\n",
              "gQMHZIyRz+dTXFycU2MBAIA2JNKpHVdXVys2NlaRkYe/hMvlksfjkdfrVUJCQmDd1VdfrZUrV6pH\n",
              "jx4688wz1bNnT61atarZ/dbX16u+vj5om9/vd+ZJAACAsAr7xbSlpaXatGmTdu7cqa+//lojRozQ\n",
              "lClTml2fl5en6OjooEdJSUkrTgwAAFqLY6HSq1cv1dTUqKGhQZJkjJHX65XH4wla99xzz+myyy5T\n",
              "TEyMOnTooEmTJmnlypXN7nf27Nmqq6sLeqSnpzv1NAAAQBg5Firdu3dXWlqalixZIklaunSp4uLi\n",
              "gl72kaQ+ffpoxYoVOnjwoCRp+fLl6t+/f7P7dbvdioqKCnpEREQ49TQAAEAYOXaNiiQVFBRo8uTJ\n",
              "euihhxQVFaXCwkJJUlZWljIzM5WZmalbb71VW7ZsUWpqqk455RT16NFD+fn5To4FAADaCEdDJTk5\n",
              "WWvWrGmyfdGiRYE/u91uLVy40MkxAABAGxX2i2kBAACaQ6gAAABrESoAAMBahAoAALAWoQIAAKxF\n",
              "qAAAAGsRKgAAwFqECgAAsBahAgAArEWoAAAAaxEqAADAWoQKAACwFqECAACsRagAAABrESoAAMBa\n",
              "hAoAALAWoQIAAKxFqAAAAGsRKgAAwFqECgAAsBahAgAArEWoAAAAaxEqAADAWoQKAACwFqECAACs\n",
              "RagAAABrESoAAMBahAoAALAWoQIAAKxFqAAAAGsRKgAAwFqECgAAsBahAgAArEWoAAAAaxEqAADA\n",
              "WoQKAACwFqECAACsRagAAABrESoAAMBahAoAALAWoQIAAKxFqAAAAGsRKgAAwFqECgAAsBahAgAA\n",
              "rEWoAAAAaxEqAADAWoQKAACwFqECAACsRagAAABrESoAAMBahAoAALAWoQIAAKxFqAAAAGsRKgAA\n",
              "wFqECgAAsBahAgAArEWoAAAAaxEqAADAWoQKAACwFqECAACsRagAAABrORoq27dvV0ZGhpKSkjR4\n",
              "8GCVlZUdcd3GjRt1ySWXKCUlRSkpKVq2bJmTYwEAgDYi0smd5+bmKicnR5MnT1ZRUZEmT56stWvX\n",
              "Bq358ccfNXr0aD333HMaNmyY/H6/vvvuOyfHAgAAbYRjZ1Rqa2tVWlqqiRMnSpLGjRun6upqlZeX\n",
              "B6174YUXNGTIEA0bNkySFBERoW7dujW73/r6evl8vqCH3+936mkAAIAwcixUqqurFRsbq8jIwydt\n",
              "XC6XPB6PvF5v0LrNmzfL7Xbrqquu0sCBA3XjjTfqm2++aXa/eXl5io6ODnqUlJQ49TQAAEAYtThU\n",
              "3n777ZAO0NDQoHfffVcFBQVat26devbsqalTpza7fvbs2aqrqwt6pKenh3QmAABghxaHyn333afk\n",
              "5GTNnz9fPp+v2XW9evVSTU2NGhoaJEnGGHm9Xnk8nqB1Ho9Hl156qXr27CmXy6WJEyfq448/bna/\n",
              "brdbUVFRQY+IiIiWPg0AANAGtDhUPvzwQ7300kvatGmTkpKSNG3aNG3evLnJuu7duystLU1LliyR\n",
              "JC1dulRxcXFKSEgIWvfb3/5Wa9euDUTPG2+8odTU1ON5LgAAoJ05rmtUzj//fC1cuFBvvfWWli9f\n",
              "rgEDBmjkyJHauHFj0LqCggIVFBQoKSlJ8+bNU2FhoSQpKytLxcXFkg6fUbnzzjuVkZGhAQMGaMWK\n",
              "FcrPzz/BpwUAANqD4/r15HfffVdPPvmkNm7cqFtvvVW33HKL/vOf/+iaa64J+q2e5ORkrVmzpsnf\n",
              "X7RoUdDHN9xwg2644YbjGQUAALRjLQ6VlJQUde3aVdOnT9fYsWMD14dce+21Wrx4ccgHBAAAJ68W\n",
              "h8qSJUs0aNCgI37uzTffPOGBAAAAftLia1Q+/fTToHeO/fbbb7Vw4cKQDgUAACAdR6g89dRTOuus\n",
              "swIfd+nSRU899VRIhwIAAJCOI1SMMU228Rb2AADACS0OldjYWL3yyiuBj19++WXFxsaGdCgAAADp\n",
              "OC6mffzxxzV69GjNnDlTktSpUyf961//CvlgAAAALQ6Vc845R5s3b9YXX3wh6fB7pfAW9gAAwAnH\n",
              "9YZvLpdLMTExamho0M6dOyWpyT18AAAATlSLQ+WZZ57R9OnTdcopp6hDh8OXuLhcLtXW1oZ8OAAA\n",
              "cHJrcajcf//9Wrt2rZKTk52YBwAAIKDFv/XTtWtXIgUAALSKFofKmDFj9Pjjj6u2tlY+ny/wAAAA\n",
              "CLUWv/QzZ84cSdKMGTPkcrlkjJHL5eJN3wAAQMi1OFQaGxudmAMAAKCJFr/0Ix2+MeHzzz8vSdqz\n",
              "Z49qampCOhQAAIB0nDclvPnmm3XvvfdKOnz35N///vehngsAAKDlobJgwQJ9/PHHioqKkiT17dtX\n",
              "33zzTcgHAwAAaHGouN1udezYMWhbZORxvcEtAADAUbU4VLp166Zt27bJ5XJJOvxOtbx9PgAAcMJx\n",
              "3T35uuuu09atW9WrVy9FRUVp+fLlTswGAABOci0OlYSEBH3yySf64osvZIzh7skAAMAxLQ4Vr9cr\n",
              "STr99NMlibsnAwAAx7Q4VAYNGhR4R9oDBw7oxx9/VJcuXbh7MgAACLkWh8p//yrysmXLtGHDhpAN\n",
              "BAAA8JPjemfanxs7dqxef/31UMwCAAAQpMVnVH5+p2S/369PPvmEuycDAABHtDhUYmJiAteoRERE\n",
              "KDExUU888YQTswEAgJMcd08GAADWOuFrVAAAAJzS4jMqHTp0CLx9/s8ZY+RyueT3+0MyGAAAQItD\n",
              "5b777tP+/fs1depUSVJ+fr46duyo22+/PdSzAQCAk1yLQ+XVV1/Vp59+Gvj4gQce0KBBgzRnzpyQ\n",
              "DgYAANDia1T27t0b9C60tbW12rt3b0iHAgAAkI7jjMof//hHpaam6sorr5QkvfXWW7r33ntDPRcA\n",
              "AEDLQyU3N1dDhw7VypUrJUkzZszQueeeG/LBAAAAWhwqktSlSxedd955uuSSS9TQ0KCDBw/q1FNP\n",
              "DfVsAADgJNfia1SKioo0ZMgQ3XTTTZKksrIyjRkzJtRzAQAAtDxU8vLy9NlnnykmJkaSlJqaqh07\n",
              "doR6LgAAgJaHSkREhLp06RK0jZd9AACAE1ocKmeeeaZ2794deHfa9957T2eddVbIBwMAAGjxxbR/\n",
              "+ctfdMUVV+jLL7/UsGHDVFlZqddff92J2QAAwEmuRaHS2Ngov9+vlStX6qOPPpIxRhkZGYHrVQAA\n",
              "AEKpRaHSoUMH5eTkaMOGDbriiiucmgkAAEDScVyjkpiYqPLycidmAQAACNLia1S+++47DRw4UBkZ\n",
              "GTrjjDMC25ctWxbSwQAAAI45VHJycrRgwQJNmjRJmZmZ6ty5s5NzAQAAHHuolJaWSpImTZqktLQ0\n",
              "ffbZZ44NBQAAIB3HNSqSZIwJ9RwAAABNHPMZlf3792vjxo0yxujAgQOBP/9kwIABjgwIAABOXi0K\n",
              "lczMzMDHP/+zy+XSl19+GdrJAADASe+YQ6WqqsrBMQAAAJo6rmtUAAAAWgOhAgAArEWoAAAAaxEq\n",
              "AADAWoQKAACwFqECAACsRagAAABrESoAAMBahAoAALCWo6Gyfft2ZWRkKCkpSYMHD1ZZWVmza40x\n",
              "uuyyyxQTE+PkSAAAoA1xNFRyc3OVk5Ojbdu2adasWZo8eXKzax977DH17dvXyXEAAEAb41io1NbW\n",
              "qrS0VBMnTpQkjRs3TtXV1SovL2+ytqysTK+99pruuOOO/3e/9fX18vl8QQ+/3x/y+QEAQPg5FirV\n",
              "1dWKjY1VZOTh+x66XC55PB55vd6gdYcOHVJ2drYKCgoUERHx/+43Ly9P0dHRQY+SkhJHngMAAAiv\n",
              "sF9MO3fuXI0dO1YpKSnHtH727Nmqq6sLeqSnpzs8JQAACIdIp3bcq1cv1dTUqKGhQZGRkTLGyOv1\n",
              "yuPxBK1btWqVvF6v/va3v6mhoUE+n0/x8fFau3atunXr1mS/brdbbrc7aNuxnIkBAABtj2NnVLp3\n",
              "7660tDQtWbJEkrR06VLFxcUpISEhaN3q1au1Y8cOVVVV6YMPPlBUVJSqqqqOGCkAAODk4uhLPwUF\n",
              "BSooKFBSUpLmzZunwsJCSVJWVpaKi4ud/NIAAKAdcOylH0lKTk7WmjVrmmxftGjREdfHx8drz549\n",
              "To4EAADakLBfTAsAANAcQgUAAFiLUAEAANYiVAAAgLUIFQAAYC1CBQAAWItQAQAA1iJUAACAtQgV\n",
              "AABgLUIFAABYi1ABAADWIlQAAIC1CBUAAGAtQgUAAFiLUAEAANYiVAAAgLUIFQAAYC1CBQAAWItQ\n",
              "AQAA1iJUAACAtQgVAABgLUIFAABYi1ABAADWIlQAAIC1CBUAAGAtQgUAAFiLUAEAANYiVAAAgLUI\n",
              "FQAAYC1CBQAAWItQAQAA1iJUAACAtQgVAABgLUIFAABYi1ABAADWIlQAAIC1CBUAAGAtQgUAAFiL\n",
              "UAEAANYiVAAAgLUIFQAAYC1CBQAAWItQAQAA1iJUAACAtQgVAABgLUIFAABYi1ABAADWIlQAAIC1\n",
              "CBUAAGAtQgUAAFiLUAEAANYiVAAAgLUIFQAAYC1CBQAAWItQAQAA1iJUAACAtQgVAABgLUIFAABY\n",
              "i1ABAADWIlQAAIC1CBUAAGAtQgUAAFjL0VDZvn27MjIylJSUpMGDB6usrKzJmhUrVig9PV39+vXT\n",
              "ueeeq5kzZ6qxsdHJsQAAQBvhaKjk5uYqJydH27Zt06xZszR58uQmazp37qyXXnpJmzdv1qeffqqP\n",
              "PvpIzz33nJNjAQCANsKxUKmtrVVpaakmTpwoSRo3bpyqq6tVXl4etO78889Xnz59JEmnnXaaBg4c\n",
              "qKqqqmb3W19fL5/PF/Tw+/1OPQ0AABBGjoVKdXW1YmNjFRkZKUlyuVzyeDzyer3N/p1du3apqKhI\n",
              "V111VbNr8vLyFB0dHfQoKSkJ+fwAACD8rLmY1ufz6eqrr9bMmTN1wQUXNLtu9uzZqqurC3qkp6e3\n",
              "4qQAAKC1RDq14169eqmmpkYNDQ2KjIyUMUZer1cej6fJ2r1792rUqFEaPXq0ZsyYcdT9ut1uud3u\n",
              "oG0REREhnR0AANjBsTMq3bt3V1pampYsWSJJWrp0qeLi4pSQkBC07ocfftCoUaM0atQo3XXXXU6N\n",
              "AwAA2iBHX/opKChQQUGBkpKSNG/ePBUWFkqSsrKyVFxcLEmaP3++SkpKtGzZMg0cOFADBw7Ugw8+\n",
              "6ORYAACgjXDspR9JSk5O1po1a5psX7RoUeDPc+bM0Zw5c5wcAwAAtFHWXEwLAADw3wgVAABgLUIF\n",
              "AABYi1ABAADWIlQAAIC1CBUAAGAtQgUAAFiLUAEAANYiVAAAgLUIFQAAYC1CBQAAWItQAQAA1iJU\n",
              "AACAtQgVAABgLUIFAABYi1ABAADWIlQAAIC1CBUAAGAtQgUAAFiLUAEAANYiVAAAgLUIFQAAYC1C\n",
              "BQAAWItQAQAA1iJUAACAtQgVAABgLUIFAABYi1ABAADWIlQAAIC1CBUAAGAtQgUAAFiLUAEAANYi\n",
              "VAAAgLUIFQAAYC1CBQAAWItQAQAA1iJUAACAtQgVAABgLUIFAABYi1ABAADWIlQAAIC1CBUAAGAt\n",
              "QgUAAFiLUAEAANYiVAAAgLUIFQAAYC1CBQAAWItQAQAA1iJUAACAtQgVAABgLUIFAABYi1ABAADW\n",
              "IlQAAIC1CBUAAGAtQgUAAFiLUAEAANYiVAAAgLUIFQAAYC1CBQAAWItQAQAA1iJUAACAtRwNle3b\n",
              "tysjI0NJSUkaPHiwysrKjrhu8eLFSkxMVN++fZWdna1Dhw45ORYAAGgjHA2V3Nxc5eTkaNu2bZo1\n",
              "a5YmT57cZE1lZaXuvvturV69WuXl5dq9e7cWLFjg5FgAAKCNcCxUamtrVVpaqokTJ0qSxo0bp+rq\n",
              "apWXlwetKyoqUmZmpnr06CGXy6UpU6boxRdfbHa/9fX18vl8QQ+/3+/U0wAAAGEU6dSOq6urFRsb\n",
              "q8jIw1/C5XLJ4/HI6/UqISEhsM7r9ap3796Bj+Pj4+X1epvdb15enubOnRu07ZxzztGMGTNCOr/f\n",
              "71dsSYnS09MVERER0n1L0owZ74V8n22V3+9XiYPHGoe11eM81qH9OvVvsK0e57aG49yUE/9W/H6/\n",
              "LrroAceOc+/evfWHP/zhqGscCxWnzJ49u0mUuN1uud3ukH4dn8+n6Ohovf3224qKigrpvhGMY906\n",
              "OM6tg+PcOjjOrcOG4+xYqPTq1Us1NTVqaGhQZGSkjDHyer3yeDxB6zwejyoqKgIfV1VVNVnzc05E\n",
              "CQAAsJNj16h0795daWlpWrJkiSRp6dKliouLC3rZRzp87UpxcbF27dolY4zy8/M1YcIEp8YCAABt\n",
              "iKO/9VNQUKCCggIlJSVp3rx5KiwslCRlZWWpuLhYktSnTx/NnTtXQ4cOVUJCgrp166bc3FwnxwIA\n",
              "AG2Eo9eoJCcna82aNU22L1q0KOjj7OxsZWdnOzlKi7ndbt1zzz28zNQKONatg+PcOjjOrYPj3Dps\n",
              "OM4uY4wJ21cHAAA4Ct5CHwAAWItQAQAA1iJUAACAtQgVAABgLULl/0yfPl3x8fFyuVxav359YPux\n",
              "3gEax+ZIx/nAgQMaM2aMkpKSlJqaqpEjRza5JxRaprnv558UFhbK5XLptddea/XZ2pPmjnN9fb1u\n",
              "u+02JSYm6rzzzgvc8wzHp7nj/MYbbygtLU0DBw5U//799eyzz4ZvyHbgaD+La2trNWrUKCUmJqp/\n",
              "//56//33W28wA2OMMatWrTLV1dWmd+/eZt26dYHtl156qSksLDTGGPPPf/7TXHDBBeEZsJ040nHe\n",
              "v3+/ef31101jY6Mxxpgnn3zSXHzxxeEbsh1o7vvZGGMqKyvNRRddZIYMGWJeffXVsMzXXjR3nG+/\n",
              "/XZz2223Bb6na2pqwjRh+3Ck49zY2Gg6d+5sNmzYYIw5/H3tdruNz+cL46Rt29F+Ft90003mnnvu\n",
              "McYYU1JSYnr27GkOHjzYKnNxRuX/DB8+XHFxcUHbjvUO0Dh2RzrOp512mq688kq5XC5J0pAhQ1RV\n",
              "VRWG6dqPIx1nSWpsbFRWVpaefPJJ3n8iBI50nPft26fFixfrwQcfDHxP9+jRIxzjtRvNfT+7XC7t\n",
              "2bNH0uF70nTp0oXv6xNwtJ/Fr7zyiqZMmSJJGjx4sH75y19q1apVrTIXoXIUR7sDNJwzf/58jR49\n",
              "OtxjtEuPPvqohg4dqkGDBoV7lHaroqJCZ511lh566CFdcMEF+tWvfqX33uNu6aHmcrn08ssva+zY\n",
              "serdu7eGDRumZ599Vqeeemq4R2s3fvpZ/O233+rQoUNBwR0fH99q/y1sc3dPRvv20EMPqby8nB/s\n",
              "Dti0aZOWLl3auq8tn4QaGhq0Y8cO9evXT/PmzdO6des0cuRIlZWV6Re/+EW4x2s3Ghoa9MADD2jZ\n",
              "smUaPny41q5dq8zMTG3cuFFdu3YN93ht3s9/Fu/fvz+ss3BG5Sh+fgdoSc3eARqh8fDDD2vZsmV6\n",
              "88031alTp3CP0+6sXr1aVVVVSkxMVHx8vD7++GPl5OTo6aefDvdo7YrH41GHDh10/fXXS5LOP/98\n",
              "nX322dq4cWOYJ2tf1q9fr6+//lrDhw+XdPjliLi4OK1bty7Mk7V9//2zuEuXLoqMjNSuXbsCa6qq\n",
              "qlrtv4WEylEc6x2gceIeffRRvfjii3rnnXcUExMT7nHapalTp6qmpkZVVVWqqqrSkCFDtGDBAk2d\n",
              "OjXco7UrXbt21YgRI/T2229LkiorK1VZWamUlJQwT9a+/PQ/klu2bJEklZeXq6KiQsnJyWGerG1r\n",
              "7mfx+PHjlZ+fL0lau3atdu7cqYsvvrh1hmqVS3bbgJycHNOzZ08TERFhunfvbvr27WuMMWbr1q1m\n",
              "yJAhJjEx0QwaNMh8/vnnYZ60bTvSca6urjaSTJ8+fUxqaqpJTU016enp4R61TWvu+/nnLr74Yn7r\n",
              "5wQ1d5wrKirMJZdcYvr3728GDBhgioqKwjxp29bccX7hhRcCx7h///7mH//4R5gnbduO9rN4165d\n",
              "ZuTIkSYhIcH069fPrFixotXm4qaEAADAWrz0AwAArEWoAAAAaxEqAADAWoQKAACwFqECAACsRagA\n",
              "AABrESoAAMBahAoAALAWoQIAAKxFqAAAAGv9LyPG8F55BykBAAAAAElFTkSuQmCC\n",
              "\">\n",
              "      </div>\n",
              "      <script type=\"text/javascript\">\n",
              "        (() => {\n",
              "          const chartElement = document.getElementById(\"chart-cd0c6acd-a42b-4c17-9be3-f82549d25070\");\n",
              "          async function getCodeForChartHandler(event) {\n",
              "            const chartCodeResponse =  await google.colab.kernel.invokeFunction(\n",
              "                'getCodeForChart', [\"chart-cd0c6acd-a42b-4c17-9be3-f82549d25070\"], {});\n",
              "            const responseJson = chartCodeResponse.data['application/json'];\n",
              "            await google.colab.notebook.addCell(responseJson.code, 'code');\n",
              "          }\n",
              "          chartElement.onclick = getCodeForChartHandler;\n",
              "        })();\n",
              "      </script>\n",
              "      <style>\n",
              "        .colab-quickchart-chart-with-code  {\n",
              "            display: block;\n",
              "            float: left;\n",
              "            border: 1px solid transparent;\n",
              "        }\n",
              "\n",
              "        .colab-quickchart-chart-with-code:hover {\n",
              "            cursor: pointer;\n",
              "            border: 1px solid #aaa;\n",
              "        }\n",
              "      </style>"
            ]
          },
          "metadata": {}
        },
        {
          "output_type": "display_data",
          "data": {
            "text/plain": [
              "<google.colab._quickchart_helpers.SectionTitle at 0x7e436366c090>"
            ],
            "text/html": [
              "<h4 class=\"colab-quickchart-section-title\">Categorical distributions</h4>\n",
              "<style>\n",
              "  .colab-quickchart-section-title {\n",
              "      clear: both;\n",
              "  }\n",
              "</style>"
            ]
          },
          "metadata": {}
        },
        {
          "output_type": "display_data",
          "data": {
            "text/plain": [
              "from matplotlib import pyplot as plt\n",
              "import seaborn as sns\n",
              "df.groupby('Produto').size().plot(kind='barh', color=sns.palettes.mpl_palette('Dark2'))\n",
              "plt.gca().spines[['top', 'right',]].set_visible(False)"
            ],
            "text/html": [
              "      <div class=\"colab-quickchart-chart-with-code\" id=\"chart-6f7aaaec-5a0e-437a-898f-e02acef1313f\">\n",
              "        <img style=\"width: 180px;\" src=\"data:image/png;base64,iVBORw0KGgoAAAANSUhEUgAAAiAAAAGZCAYAAACwpIo8AAAAOnRFWHRTb2Z0d2FyZQBNYXRwbG90\n",
              "bGliIHZlcnNpb24zLjEwLjAsIGh0dHBzOi8vbWF0cGxvdGxpYi5vcmcvlHJYcgAAAAlwSFlzAAAP\n",
              "YQAAD2EBqD+naQAAFFpJREFUeJzt3X+QlXXd8PHPwjI7GLGgSfFAsCKogMgCio0aN5iMRFCODFZT\n",
              "Q6MI5PhMTWqUTTNGOoNZevdrTBLMMf/hRg3F1BrDcXCKfgw2Qlo3hAuU0A8xfpgsLHs9fzTsc+8t\n",
              "2Fnc87mWw+s1c2Y8F9fZ85nvMJ431/mePXVFURQBAJCoV9kDAAAnHwECAKQTIABAOgECAKQTIABA\n",
              "OgECAKQTIABAOgECAKQTIABAuh4dIN/61rfKHgEAqIIeHSDbtm0rewQAoAp6dIAAALVJgAAA6QQI\n",
              "AJBOgAAA6QQIAJBOgAAA6QQIAJBOgAAA6QQIAJBOgAAA6QQIAJBOgAAA6QQIAJBOgAAA6QQIAJBO\n",
              "gAAA6QQIAJBOgAAA6QQIAJBOgAAA6QQIAJBOgAAA6QQIAJBOgAAA6QQIAJBOgAAA6QQIAJBOgAAA\n",
              "6eqKoijKHuJYzp94RVz6H9eWPQYA1JQ7/nNW2SO4AgIA5BMgAEA6AQIApBMgAEA6AQIApBMgAEA6\n",
              "AQIApBMgAEA6AQIApBMgAEA6AQIApBMgAEA6AQIApBMgAEA6AQIApBMgAEA6AQIApBMgAEA6AQIA\n",
              "pBMgAEA6AQIApBMgAEA6AQIApBMgAEA6AQIApBMgAEA6AQIApKtqgLS1tcWSJUvinHPOiXPPPTea\n",
              "m5tj4cKF8Y9//KOaTwsA9HD11fzh8+fPj927d8cvfvGLGDhwYBRFEQ899FDs3r07BgwYUM2nBgB6\n",
              "sKoFyJYtW2LVqlWxffv2GDhwYERE1NXVxdy5c496fmtra7S2tnY6VrS3V2s8AKBEVXsLZsOGDTFq\n",
              "1Kh417veVdH5S5cujcbGxk63nX/572qNBwCUqMdsQr355ptjz549nW6D331W2WMBAFVQtbdgJk6c\n",
              "GJs3b45XX301TjvttH97fkNDQzQ0NHQ6Vterx/QRANCNqvYKP3LkyJgzZ07Mnz+/41MvRVHEww8/\n",
              "HFu3bq3W0wIAJ4CqXmK47777Yvz48XHhhRfG2LFjY8yYMfHTn/40Tj311Go+LQDQw9UVRVGUPcSx\n",
              "nD/xirj0P64tewwAqCl3/OesskfoOZtQAYCThwABANIJEAAgnQABANIJEAAgnQABANIJEAAgnQAB\n",
              "ANIJEAAgnQABANIJEAAgnQABANIJEAAgnQABANIJEAAgnQABANIJEAAgnQABANIJEAAgnQABANIJ\n",
              "EAAgnQABANIJEAAgnQABANIJEAAgXX3ZA7yVKVNHxB13zSp7DACgm7kCAgCkEyAAQDoBAgCkEyAA\n",
              "QDoBAgCkEyAAQDoBAgCkEyAAQDoBAgCkEyAAQDoBAgCkEyAAQDoBAgCkEyAAQDoBAgCkEyAAQDoB\n",
              "AgCkEyAAQDoBAgCkEyAAQDoBAgCkEyAAQDoBAgCkEyAAQDoBAgCkEyAAQDoBAgCkEyAAQDoBAgCk\n",
              "EyAAQDoBAgCkEyAAQDoBAgCkEyAAQDoBAgCkEyAAQDoBAgCkEyAAQDoBAgCkEyAAQDoBAgCkEyAA\n",
              "QDoBAgCkEyAAQDoBAgCkEyAAQDoBAgCkEyAAQDoBAgCkEyAAQDoBAgCkEyAAQDoBAgCkEyAAQDoB\n",
              "AgCkEyAAQDoBAgCkEyAAQDoBAgCkEyAAQDoBAgCkqyuKoih7iGO5emxd3HyBRgKA7nTW/YfLHsEV\n",
              "EAAgnwABANIJEAAgnQABANIJEAAgnQABANIJEAAgnQABANIJEAAgnQABANIJEAAgXf3xPGjHjh2x\n",
              "bt26iIiYMmVKDB06tFuHAgBqW5evgDz66KMxYcKEWLVqVaxatSomTpwYa9asqcZsAECN6vIVkCVL\n",
              "lsT69etj5MiRERGxZcuWuOqqq2L27NndPhwAUJu6fAXk8OHDHfERETFy5Mhob2/v1qEAgNrW5QAZ\n",
              "NGhQLF++PNrb26O9vT1WrFgRp59+ejVmAwBqVJcD5Hvf+14sX748+vbtG3379o3ly5fHPffcU43Z\n",
              "AIAa1eU9ICNHjoz169fH/v37IyKiX79+3T4UAFDbunwFZPLkyRHxr/A4Eh9HjgEAVKLLAdLW1tbp\n",
              "/qFDh2Lfvn3dNhAAUPsqDpCvfe1rMXDgwNi4cWOceuqpHbf+/fvHlClTqjkjAFBj6oqiKCo5cc+e\n",
              "PfHaa6/Fdddd12nTaf/+/WPgwIFVGe7qsXVx8wV+WzwAdKez7j9c9giVb0JtbGyMxsbGePLJJ6s5\n",
              "DwBwEujyp2DOOOOMqKure9PxrVu3dstAAEDt63KAPP744x3/feDAgfjhD38Yp512WrcOBQDUtor3\n",
              "gLyViy66KH7+8593xzyd2AMCAN3vhNoDciyvvvpq7Nq166h/1tTUFA0NDdG3b99obW2NCRMmxL33\n",
              "3hvveMc73u7TAgAnsC4HyIQJEzr2gBw+fDi2bdsWixcvPub5K1eujObm5mhvb4/Zs2fH/fffH9df\n",
              "f/3xTwwAnPC6HCDf/OY3//+D6+tjxIgRMXjw4H/7uIMHD8Y///nPY35kt7W1NVpbWzsdO+xLdgGg\n",
              "JnXLHpBj+Z9vwbS0tMSkSZPiJz/5SdTXv7l7vvKVr8SSJUs6HRv/roj/+pA9IADQnXrCHpCKA2Ta\n",
              "tGlH/fjtEWvXrn3Tsaampli9enU0NzdHW1tbLFq0KAYMGBB33nnnm8492hWQ/3thY3z5QgECAN2p\n",
              "JwRIxa/uN910U9x4440xceLEiIi45pprYv78+dGrV6+YNGnSv318fX19zJkzJ5566qmj/nlDQ0P0\n",
              "79+/06239gCAmlTxHpAPfehDERFx6623xnPPPdfxNsrcuXMr/i6YtWvXxtlnn30cYwIAtaTLm1B3\n",
              "797d6a2YXr16xe7du495/kc/+tHo27dvtLW1xfDhwzt9jwwAcHLqcoBcdtllMWPGjJg3b15ERDz4\n",
              "4IMxffr0o57b0tLytoYDAGpTlwPk29/+dixbtixWr14dERFXXHFFLFiwoLvnAgBq2HF/DPfIw97q\n",
              "kzFvl1/FDgDd74T6FMwRr7zySsycOTNOOeWUOOWUU2LWrFmxc+fOaswGANSoLgfIokWL4pJLLomd\n",
              "O3fGzp0745JLLomFCxdWYzYAoEZ1eQ/Ijh07Ys2aNR33v/jFL0Zzc3N3zgQA1LguXwEpiqLTt9/u\n",
              "2rUrqvjb3AGAGtTlKyA33XRTTJgwIT74wQ9GRMRTTz0VX//617t9MACgdnUpQIqiiMsuuyyefvrp\n",
              "eOaZZyIi4sYbb4yxY8dWZTgAoDZ1+QrI9OnTY9OmTaIDADhuXdoDUldXF0OHDo2///3v1ZoHADgJ\n",
              "dPkKSL9+/aK5uTlmzpwZ/fr16zh+1113detgAEDt6lKAbNq0Kf7whz/EtGnTYsiQIdWaCQCocRUH\n",
              "yN133x1f+tKX4uyzz441a9bEfffdF1deeWU1ZwMAalTFe0DuvvvueOGFF+KXv/xlrFu3zlsuAMBx\n",
              "qzhA+vTpE8OGDYuIiHHjxsXrr79etaEAgNpW8VswBw4ciI0bN3b81tP/ff+8886rzoQAQM2pOEDe\n",
              "eOON+PCHP9zp2JH7dXV1sXXr1u6dDACoWRUHSEtLSxXHAABOJl3+MjoAgLdLgAAA6QQIAJBOgAAA\n",
              "6QQIAJBOgAAA6QQIAJCuS9+Gm23g5Z+Ls3znDADUHFdAAIB0AgQASCdAAIB0AgQASCdAAIB0AgQA\n",
              "SCdAAIB0AgQASCdAAIB0AgQASCdAAIB0AgQASCdAAIB0AgQASCdAAIB0AgQASCdAAIB0AgQASCdA\n",
              "AIB0AgQASCdAAIB0AgQASCdAAIB0AgQASCdAAIB0AgQASCdAAIB0AgQASCdAAIB0AgQASCdAAIB0\n",
              "AgQASCdAAIB0AgQASCdAAIB0AgQASCdAAIB0AgQASCdAAIB0AgQASCdAAIB0AgQASCdAAIB0AgQA\n",
              "SCdAAIB0AgQASCdAAIB0AgQASCdAAIB0AgQASCdAAIB0AgQASCdAAIB0AgQASCdAAIB0AgQASCdA\n",
              "AIB0AgQASCdAAIB0AgQASCdAAIB0dUVRFGUPcSz9Lr8gBnzsA2WPAQA15U9X3172CK6AAAD5BAgA\n",
              "kE6AAADpBAgAkE6AAADpBAgAkE6AAADpBAgAkE6AAADpBAgAkE6AAADpBAgAkE6AAADpBAgAkE6A\n",
              "AADpBAgAkE6AAADpBAgAkE6AAADpBAgAkE6AAADpBAgAkE6AAADpBAgAkE6AAADpBAgAkK7qAbJv\n",
              "377o169fzJ8/v9pPBQCcIKoeICtXroxJkybFI488Evv376/20wEAJ4CqB8iKFSviC1/4QkyZMiVW\n",
              "rlxZ7acDAE4A9dX84S+++GLs2LEjLr/88mhra4vbb7/9mG/FtLa2Rmtra+eDh4tqjgcAlKSqV0BW\n",
              "rFgR8+bNi969e8fMmTPj5Zdfjpdeeumo5y5dujQaGxs73Q6+vLOa4wEAJakriqIqlxkOHToUQ4YM\n",
              "iT59+kSfPn0iIuK1116LBQsWxDe+8Y03nX+0KyD/58pLY8AnLqvGeABw0vrT1beXPUL13oJ57LHH\n",
              "YsSIEbF+/fqOYy+99FJMnTo1li5d2hElRzQ0NERDQ0PnH9K7rlrjAQAlqtpbMCtWrIhPfOITnY6N\n",
              "Hj06hgwZEmvWrKnW0wIAJ4CqXQF54oknjnp8w4YN1XpKAOAE4TehAgDpBAgAkE6AAADpBAgAkE6A\n",
              "AADpBAgAkE6AAADpBAgAkE6AAADpBAgAkE6AAADpBAgAkE6AAADpBAgAkE6AAADpBAgAkE6AAADp\n",
              "BAgAkE6AAADpBAgAkE6AAADpBAgAkE6AAADpBAgAkE6AAADp6sse4K0sHPv+uOvq28seAwDoZq6A\n",
              "AADpBAgAkE6AAADpBAgAkE6AAADpBAgAkE6AAADpBAgAkE6AAADpBAgAkE6AAADpBAgAkE6AAADp\n",
              "BAgAkE6AAADpBAgAkE6AAADpBAgAkE6AAADpBAgAkE6AAADpBAgAkE6AAADpBAgAkE6AAADpBAgA\n",
              "kE6AAADpBAgAkE6AAADpBAgAkK6+7AGOpbW1NZ588sk4fPhw9O7du+xxThqHDx+OX/3qVzF58mTr\n",
              "nszal8O6l8falyNj3YcPHx6f/exn3/KcuqIoiqo8+9u0d+/eaGxsjD179kT//v3LHuekYd3LY+3L\n",
              "Yd3LY+3L0VPW3VswAEA6AQIApBMgAEC6HhsgDQ0Nccstt0RDQ0PZo5xUrHt5rH05rHt5rH05esq6\n",
              "99hNqABA7eqxV0AAgNolQACAdAIEAEhXeoBs3rw5LrroojjrrLPiggsuiN/97ndHPW/FihUxatSo\n",
              "OPPMM2PBggVx6NCh5ElrSyXrvnbt2pg8eXKMGTMmxo4dG4sXL4729vYSpq0tlf6dj4goiiIuvfTS\n",
              "GDBgQN6ANarSdd+4cWNMnTo1Ro8eHaNHj45HHnkkedLaU8nat7e3xw033BBjxoyJ8847L6ZNmxZb\n",
              "tmwpYdra8ZnPfCaampqirq4ufvvb3x7zvNJeX4uSTZs2rfjBD35QFEVRrFq1qjj//PPfdM7WrVuL\n",
              "wYMHFzt37iza29uL2bNnF9/97neTJ60tlaz7hg0bij/+8Y9FURTFG2+8UVx88cUdj+H4VbL2R9x5\n",
              "553FtddeWzQ2NuYMV8MqWffXX3+9OOOMM4p169YVRVEUbW1txV//+tfMMWtSJWv/ox/9qJg8eXJx\n",
              "8ODBoiiK4tZbby3mzp2bOWbNefbZZ4sdO3YUw4cPL55//vmjnlPm62upAfKXv/yleOc731kcOnSo\n",
              "KIqiaG9vL9797ncXmzdv7nTeHXfcUSxatKjj/o9//OPi4osvTp21llS67v/b9ddfX9xyyy0JE9au\n",
              "rqz9pk2bive///3Fli1bBMjbVOm633vvvcXHP/7xMkasWZWu/erVq4vx48cXe/fuLdrb24vPf/7z\n",
              "xec+97kyRq45bxUgZb6+lvoWzI4dO2Lw4MFRX/+v78Srq6uLYcOGxfbt2zudt3379hg+fHjH/aam\n",
              "pjedQ+UqXff/adeuXfHQQw/FrFmzssasSZWu/aFDh2LBggWxbNkyX9LVDSpd9xdffDEaGhpi1qxZ\n",
              "0dzcHPPmzYu//e1vZYxcMypd+9mzZ8fUqVPjPe95TwwePDh+9rOfxVe/+tUyRj6plPn6WvoeEHq+\n",
              "vXv3xuzZs2Px4sVx/vnnlz3OSWHJkiVx5ZVXxujRo8se5aTS1tYWTz/9dCxbtiyef/75GDJkSFx3\n",
              "3XVlj3VS+M1vfhObNm2KP//5z/HKK6/EBz7wgfj0pz9d9lhUUakB8t73vjd27twZbW1tEfGvDXfb\n",
              "t2+PYcOGdTpv2LBhsW3bto77LS0tbzqHylW67hER+/btixkzZsRHPvKRuOGGG7JHrTmVrv2zzz4b\n",
              "3/nOd6KpqSkuueSS2Lt3bzQ1NfnX+HHqyv9rpk2bFkOGDIm6urr45Cc/GevXry9j5JpR6do/8MAD\n",
              "HRuue/XqFZ/61KfimWeeKWPkk0qZr6+lBsigQYNi4sSJ8eCDD0ZExMMPPxxDhw6NkSNHdjpvzpw5\n",
              "8dhjj8WuXbuiKIq455574mMf+1gZI9eEStd9//79MWPGjJgxY0Z8+ctfLmPUmlPp2q9bty62bdsW\n",
              "LS0t8dxzz0X//v2jpaUlTj/99DLGPuFVuu5XXXVV/PrXv469e/dGRMQTTzwR48ePT5+3llS69iNG\n",
              "jIi1a9fGwYMHIyLi8ccfj3PPPTd93pNNqa+vKTtN3sLvf//74n3ve18xatSoYtKkScULL7xQFEVR\n",
              "zJ8/v3j00Uc7zvv+979fjBgxohgxYkRxzTXXdOyU5vhUsu633XZbUV9fX4wfP77jdtttt5U5dk2o\n",
              "9O/8ES+//LJNqN2g0nV/4IEHirFjxxbjxo0rZsyYUWzfvr2skWtGJWt/4MCB4tprry3OOeecYty4\n",
              "ccX06dM7PoXH8Vm4cGExZMiQonfv3sWgQYOKM888syiKnvP66rtgAIB0NqECAOkECACQToAAAOkE\n",
              "CACQToAAAOkECACQToAAAOkECACQToAAAOkECACQToAAAOn+H3SCiFCBrmdPAAAAAElFTkSuQmCC\n",
              "\">\n",
              "      </div>\n",
              "      <script type=\"text/javascript\">\n",
              "        (() => {\n",
              "          const chartElement = document.getElementById(\"chart-6f7aaaec-5a0e-437a-898f-e02acef1313f\");\n",
              "          async function getCodeForChartHandler(event) {\n",
              "            const chartCodeResponse =  await google.colab.kernel.invokeFunction(\n",
              "                'getCodeForChart', [\"chart-6f7aaaec-5a0e-437a-898f-e02acef1313f\"], {});\n",
              "            const responseJson = chartCodeResponse.data['application/json'];\n",
              "            await google.colab.notebook.addCell(responseJson.code, 'code');\n",
              "          }\n",
              "          chartElement.onclick = getCodeForChartHandler;\n",
              "        })();\n",
              "      </script>\n",
              "      <style>\n",
              "        .colab-quickchart-chart-with-code  {\n",
              "            display: block;\n",
              "            float: left;\n",
              "            border: 1px solid transparent;\n",
              "        }\n",
              "\n",
              "        .colab-quickchart-chart-with-code:hover {\n",
              "            cursor: pointer;\n",
              "            border: 1px solid #aaa;\n",
              "        }\n",
              "      </style>"
            ]
          },
          "metadata": {}
        },
        {
          "output_type": "display_data",
          "data": {
            "text/plain": [
              "<google.colab._quickchart_helpers.SectionTitle at 0x7e43560ca0d0>"
            ],
            "text/html": [
              "<h4 class=\"colab-quickchart-section-title\">Values</h4>\n",
              "<style>\n",
              "  .colab-quickchart-section-title {\n",
              "      clear: both;\n",
              "  }\n",
              "</style>"
            ]
          },
          "metadata": {}
        },
        {
          "output_type": "display_data",
          "data": {
            "text/plain": [
              "from matplotlib import pyplot as plt\n",
              "df['Vendas'].plot(kind='line', figsize=(8, 4), title='Vendas')\n",
              "plt.gca().spines[['top', 'right']].set_visible(False)"
            ],
            "text/html": [
              "      <div class=\"colab-quickchart-chart-with-code\" id=\"chart-f3962e43-d16e-423e-883c-d05081c7a96d\">\n",
              "        <img style=\"width: 180px;\" src=\"data:image/png;base64,iVBORw0KGgoAAAANSUhEUgAAApcAAAFuCAYAAADUGTPdAAAAOnRFWHRTb2Z0d2FyZQBNYXRwbG90\n",
              "bGliIHZlcnNpb24zLjEwLjAsIGh0dHBzOi8vbWF0cGxvdGxpYi5vcmcvlHJYcgAAAAlwSFlzAAAP\n",
              "YQAAD2EBqD+naQAARCpJREFUeJzt3XdclXX/x/H3YYsy3AsBF+4tiFscaZa3I7dp5swsMyvN+27c\n",
              "9evOtNRsus3MkZlZaeNWc6aIC/cCRcSFExCVda7fH8e4pdRADhzgvJ6Px/mD67oOfM7V8eLV93DA\n",
              "ZBiGIQAAAMAKHGw9AAAAAAoO4hIAAABWQ1wCAADAaohLAAAAWA1xCQAAAKshLgEAAGA1xCUAAACs\n",
              "hrgEAACA1RCXAAAAsBriEgByUUREhEwmk6Kiomw9CgDkCOISgN3q3r27unXrds99r776qmrWrJm7\n",
              "AwFAAUBcArBbo0aN0urVqxUTE5Nhe3JysubPn69Ro0bZaDIAyL+ISwB2q0OHDqpUqZLmzJmTYfuK\n",
              "FSt08+ZNDRo0SFOnTlWNGjXk5eWlRo0aaf369enHffHFF/Lx8dGsWbPk7+8vLy8v9erVS/Hx8enH\n",
              "REZGql27dvL09FSNGjW0YcOGDF/r4MGDateunUqWLCkvLy81adJEv/32W/r+69evq2/fvipRooQ8\n",
              "PT0VEBCgFStW5NAZAYDsIy4B2C2TyaRnnnlGc+fOVWpqavr2mTNnasCAAZo+fboWLVqkVatW6dq1\n",
              "a3rttdf0j3/8Q5GRkenHXrhwQUePHtWRI0d09OhRhYeHa+rUqZKktLQ0denSRb6+vjp//rzWrl37\n",
              "l5CVLC/BR0dHKzY2Vo8++qi6d++u2NhYSdL777+vhIQEnTp1SnFxcVq7di0v1wPI04hLAHbt6aef\n",
              "1rVr1/TDDz9Ikg4dOqQtW7bo2Wef1fTp0zV58mRVq1ZNDg4O6t69u5o1a6alS5em39/JyUlTpkxR\n",
              "oUKFVLZsWXXr1k1hYWGSpNDQUB07dkwffvihChcuLB8fH73++usZvn7t2rXVoUMHFSpUSK6urvr3\n",
              "v/8tk8mkHTt2SJJcXFx05coVHT16VIZhyM/Pj7gEkKcRlwDsWtGiRdWnTx/NnDlTkmXVsmnTpipT\n",
              "pozi4+PVq1cveXt7p9+2bdums2fPpt+/RIkScnZ2Tv+4cOHCSkhIkCTFxMSoaNGi8vLySt9fsWLF\n",
              "DF8/Ojpaffv2la+vrzw9PeXt7a34+Pj0lctXXnlFjzzyiIYNG6bixYurV69eioiIyLHzAQDZRVwC\n",
              "sHvPPvus1q1bp3379mnRokV69tln5e3tLTc3N61evVrXr19PvyUmJurzzz/P1Of18fHRtWvXFBcX\n",
              "l77tz7+CaPjw4TKbzdq5c6fi4+N17do1eXp6yjAMSZK7u7vefvtt7du3T5GRkXJyctJTTz1ltccO\n",
              "ANZGXAKwe4GBgWrUqJF69OghFxcX9erVS66urnrmmWc0fvx4HTlyRIZh6NatW9q8ebOOHz+eqc/b\n",
              "pEkTVa1aVePGjVNiYqLOnj2rd955J8MxcXFxKlKkiIoWLarExERNnDhRN27cSN//ww8/6NChQ0pN\n",
              "TZW7u7sKFSokJycnqz5+ALAm4hIAZFm9PHnypIYMGSJXV1dJ0gcffKB+/fqlvzTu7++vSZMmKSUl\n",
              "JVOf08nJST/++KNOnTqlsmXLqn379ho6dGiGYz766CPt27dPRYsWVc2aNVW+fHn5+Pik7z916pS6\n",
              "desmb29vlS9fXhcvXtS8efOs98ABwMpMxh+vvQAAAADZxMolAAAArIa4BAAAgNUQlwAAALAa4hIA\n",
              "AABWQ1wCAADAaohLAAAAWA1xCQAAAKvJM3E5Y8YMW48AAACAbMozcXn69GlbjwAAAIBsyjNxCQAA\n",
              "gPyPuAQAAIDVEJcAAACwGuISAAAAVkNcAgAAwGqISwAAAFgNcQkAAACrIS4BAABgNVmKy9u3b6tb\n",
              "t24KCAhQvXr11KFDB0VEREiSYmNj1alTJ1WtWlW1a9fW5s2bc2RgAAAA5F1ZXrkcMWKEjh07pn37\n",
              "9qlr164aNmyYJOnVV19VcHCwTpw4oQULFqh///5KSUmx+sAAAADIu7IUl25uburcubNMJpMkKTg4\n",
              "WFFRUZKk5cuX65lnnpEkBQYGqly5ctq0aZN1pwUAAECe5pSdO8+YMUNdu3bVlStXlJKSojJlyqTv\n",
              "8/f3V3R09D3vl5SUpKSkpAzb0tLSsjMKAOQZcbdS9PaPh1WssLOGtayk0p5uth4JAHLNQ8flu+++\n",
              "q4iICK1fv163bt3K0n0nTZqkt956K8O24ODghx0FAPKMuJspGjh/h/bHxEmSFm4/rX6BFTSqTRWV\n",
              "8SIyARR8D/Vu8Q8++EArV67Uzz//LHd3dxUvXlxOTk66cOFC+jFRUVHy9fW95/0nTpyouLi4DLeg\n",
              "oKCHewQAkEdcv5msAfNCtT8mTsUKu6iRX1Elp5q1cPtptZqyQW98f1Dn47L2P+MAkN9kOS6nTZum\n",
              "pUuXau3atfL29k7f3qtXL82cOVOStHPnTp09e1atW7e+5+dwdXWVp6dnhpujo+PDPQIAyAOu30zW\n",
              "gLk7dPBsvIoXdtHS4cFa8UxTLR7WRIH+RZWcZtaX20+r9ZSNem3VAZ27TmQCKJhMhmEYmT04JiZG\n",
              "FSpUUKVKleTh4SHJEoo7duzQxYsXNXDgQJ06dUouLi765JNPFBISkulBxo0bp2nTpmX9EQCAjV1L\n",
              "tITl4fPxKlHERUuGByugtEf6fsMwtD3yij5cf0Jhp65KkpwdTerduIKeDami8t6FbDU6AFhdluIy\n",
              "JxGXAPKjq3fC8sidsFw6PFhV7wrLP9seeUUz1h9X6Mn/RWbPRhU0OqSyfIq659bYAJBj+As9APCQ\n",
              "riYmq/+c0Dth6fq3YSlJTSsX17IRTbVsRLCaViqulDRDS8Oi1eb9jXr12/06c/VmLk0PADmDuASA\n",
              "h3DlRpL6zwnV0QsJKunhqmUj/j4s7xZcqbiWjgjW8pFN1bxKcaWaDS3beUYhH2zUhBX7FX2FyASQ\n",
              "PxGXAJBFl28kqf+cHelhuXR4sKqUKvJQnyuoYjEtHmZ580/LqiWUajb09a4zCpm6Ua98s0+nryRa\n",
              "eXoAyFnEJQBkweU7K5bHLiao1J0Vy4cNy7s19i+mRUOb6NtRlshMMxv6ZneM2k7dpJeW71PUZSIT\n",
              "QP5AXAJAJl1KSFK/2aE6fvGGSntawrJyyeyH5d0a+f0Rmc3UOqCk0syGvt0To7ZTN2rc8nCdIjIB\n",
              "5HHEJQBkQmzCbfWbE6oTsTdUxtNNy0Y0VSUrh+XdGvkV1cIhQfru2WYKqVZSZkNauees2k3dqBe/\n",
              "DlfkpRs59rUBIDuISwD4G7EJt9VvdqgiYm+orJeblo0IVsUShXPlazfwLaoFTwdp1ejmalu9lMyG\n",
              "9N3es+owbZPGLturiFgiE0DeQlwCwAPExlvCMvJSosrdCUv/XArLu9Wv4K35gwP1w3PN1b6GJTJX\n",
              "hZ9Th+mbNGbpXkXEJuT6TABwL8QlANzHxfjb6pshLJvKr3juh+Xd6vp4a+5TgVr9fAt1qFlahiH9\n",
              "sO+cOkzfrOeW7NHxi0QmANsiLgHgHi7eWbE8eTlR5b0LadmIpvItnnf+gk7t8l6aM6ixVj/fQo/c\n",
              "iczV+8+r44ebNXrJHh27QGQCsA3iEgD+5EKcZcXyf2EZnKfC8m61y3tp9qDGWjOmhTrVKiPDkNbc\n",
              "icxnF+/W0Qvxth4RgJ0hLgHgLufjbqnv7O06dTlRPkUtYVmhWN4My7vVKuelmQMb6ecXWqpznTKS\n",
              "pJ8OXFCnD7fomUW7dfgckQkgdxCXAHDHueu31Hd2qKKu3MxXYXm3GmU99dmARvplbEs9VqesTCbp\n",
              "l0MX1PmjLRq5aJcOnYuz9YgACjjiEgAknb0Tlqev3FSFYoX09cim8imav8LybtXLeOrTAQ3169hW\n",
              "eryuJTJ/PXRRj320VcO/3KWDZ4lMADmDuARg92Ku3VTf2dsVffWmfIu56+sRTVXeu5Ctx7KKgNIe\n",
              "+qR/Q/13bCv9o145mUzS2sMX9fjHWzVs4U4diCEyAVgXcQnArlnCMlRnrt6SX3F3LRsRrHIFJCzv\n",
              "VrW0hz7q10BrX2ylrvXLycEkrTsSqy6fbNXQL3Zqf8x1W48IoIAgLgHYrTNXLWEZc+2W/AtwWN6t\n",
              "SikPzejbQGvHtVb3BuXlYJLWH43VPz75XU8vCFP4meu2HhFAPkdcArBLd4dlxRKFtWxEU5X1Kthh\n",
              "ebfKJYtoep/6WjeutXo0tETmhmOX1O3T3/XU/DDtib5m6xEB5FPEJQC7E33FEpZnr99SpRKFtXR4\n",
              "sMp4udl6LJuoVLKIpvWur/UvtdETDX3k6GDSpuOX1OOzbRo0P0y7TxOZALKGuARgVyxhud0SliUL\n",
              "a+kI+w3Lu1UsUVhTe9fT+nGt1auRJTI3H7+kJz7fpoHzdmhX1FVbjwggnyAuAdiN01cS1Wf2dp2L\n",
              "u63KJQtr2fBglfYkLO/mX6Kw3u9VTxteaqM+jSvIycGkLScuq+fM7RowN1Rhp4hMAA9GXAKwC1GX\n",
              "E9VnVqjO3wnLpSOCVYqwvC/f4u6a3LOuNrzcRn0DLZH5e8QV9Z61Xf3nhGrHySu2HhFAHkVcAijw\n",
              "Tl1OVN/ZoboQf1tVShXRshFNVcqDsMyMCsXc9d4TlsjsF+QrJweTtkVeUZ/Zoeo7e7u2RxKZADIi\n",
              "LgEUaCcv3VDf2dt1If62qpYqoqXDg1XSw9XWY+U7FYq5a1KPOtr4Shv1b+IrZ0eTQk9eVb85oeo9\n",
              "a7u2RV6WYRi2HhNAHkBcAiiwIi/dUN/ZoboYn6SA0kW0dARhmV0+Rd31bvc62vhKiJ4M9pWLo4PC\n",
              "Tl1V/zk71GdWqH6PIDIBe0dcAiiQImJvqN/sUMUmJKlaaQ8tHR6sEkUIS2sp711I73SzrGQODPaz\n",
              "RGbUVQ2Yu0O9Zm7XlhOXiEzAThGXAAqciNgb6jfHEpbVy3hoyfAmKk5Y5ohy3oX0f91qa9P4Nnqq\n",
              "qZ9cnBy06/Q1DZwXpic+36bNx4lMwN4QlwAKlIjYBPWdHapL6WEZTFjmgrJehfRW19raMj5Eg5v5\n",
              "y8XJQXuir2vQ/DD1+HybNh6LJTIBO0FcAigwTly0hOXlG0mqUdZTS4cHq1hhF1uPZVdKe7rp3/+o\n",
              "pS3jQ/R0c3+5Ojlob/R1DV6wU90/26YNRCZQ4BGXAAqE4+lhmayaZT21ZFgTFSUsbaa0p5ve7GKJ\n",
              "zKEtKsrN2UHhZ67r6QU71e3T3/Xb0YtEJlBAEZcA8r1jFxLUb3aoriQmq1Y5Ty0ZTljmFaU83fT6\n",
              "4zW1ZXxbDW9picx9MXEa8sUudf30d607TGQCBQ1xCSBfO3ohXv3mWMKydnlPLR7WRN7uhGVeU9LD\n",
              "Vf96zBKZI1pVUiFnR+2PidOwL3epyydbtZbIBAoM4hJAvnXkfLz6zQ7V1cRk1SnvpcVDgwnLPK6k\n",
              "h6v+2bmGtkwI0cjWleTu4qiDZ+M1/Mtdevzjrfr10AUiE8jniEsA+dLhc/HqPydU126mqJ6Pl74a\n",
              "1kRe7s62HguZVKKIqyY+WkNbJ7TVqDaVVdjFUYfOxWvkot3q/NFW/XLwvMxmIhPIj4hLAPnOoXNx\n",
              "6j/3TlhW8NaXQ5vIqxBhmR8VK+yiCZ2qa8uEtnr2TmQeOR+vZ77ao84fbdHPB4hMIL8hLgHkKwfP\n",
              "xqn/nB26fjNF9St4a9HQIMKyAChW2EXjO1XX1glt9VxIFRVxddLRCwkatXiPHp2xRWv2E5lAfkFc\n",
              "Asg3Dp6N04C5OxR3K0UNfL315dAgeboRlgVJ0cIuerljNW2dEKIxbavIw9VJxy4maPSSPeo0Y7N+\n",
              "3HdOaUQmkKcRlwDyhQMxceo/J1Rxt1LU0NdbXw4hLAsyb3cXjXukmrZOaKsx7arKw81Jxy/e0PNL\n",
              "96rjh5v1A5EJ5FnEJYA8b3/MdQ2YG6r426lq5FdUC4cEyYOwtAte7s4a1yFAWye01dj2VeXp5qSI\n",
              "2Bsas3SvHpm+Sd+HnyUygTyGuASQp+07c10D5u5Q/O1UNSYs7ZZXIWeNbR+gra+21bgOAfJ0c1Lk\n",
              "pUS9sCxcHaZv0nd7Y5SaZrb1mABEXALIw/ZGX9OTc3co4XaqAv2L6oshQSri6mTrsWBDnm7OGtOu\n",
              "qra+2lYvdQiQVyFnnbyUqBe/3qcO0zdr5R4iE7A14hJAnrQn+poGzQtTQlKqgvyL6YunCUv8j6eb\n",
              "s55vV1VbJ4TolY7V5O3urFOXEzVu+T61n7ZJK3YTmYCtEJcA8pzdp/8Xlk0qFtOCpwNVmLDEPXi4\n",
              "OWt0SBVtndBW4ztVU1F3Z0VduamXv9mndtM2afmuM0ohMoFcRVwCyFN2n76qp+aH6UZSqoIrEZbI\n",
              "nCKuTnq2jSUyJ3SqrmKFXXT6yk2NX7Ff7aZu0vKdRCaQW4hLAHnGrqirGjTPEpZNKxXX/MGBcnch\n",
              "LJF5hV2dNKpNZW0ZH6KJj1ZX8cIuir56U+O/3a+2UzdqWVi0klOJTCAnEZcA8oSdUZYVy8TkNDWr\n",
              "TFgiewq7Omlk68raMiFE/+pcQyWKuOjM1Vt6deUBhXywUUt2EJlATiEuAdhc2Kn/hWWLKiU076lA\n",
              "FXJxtPVYKADcXZw0vFUlbRnfVq89VkMlirjq7PVb+ud3lshcvOM0kQlYWZbicsyYMfL395fJZFJ4\n",
              "eHj69p9++kkNGzZU/fr1Vbt2bS1cuNDacwIooHacvKLBC8J0MzlNLauW0NynGhOWsLpCLo4a1rKS\n",
              "towP0euP11RJD0tk/uu7g2rz/gYtCj2tpNQ0W48JFAgmwzAy/acNNm/erEqVKqlFixZatWqV6tev\n",
              "L8MwVLx4cW3cuFF169ZVVFSUqlevrkuXLsnDwyPTg4wbN07Tpk17qAcBIH8KPXlFTy/YqVsplrCc\n",
              "M6ix3JwJS+S82ylpWhoWrc83Rio2IUmSVNbLTaPaVFbvxhV4HgLZkKWVy1atWsnHx+cv200mk65f\n",
              "vy5Jio+PV/HixeXq6mqVAQEUTNsiL6eHZauAkoQlcpWbs6Oebl5Rm8eH6N9daqq0p6vOx93WG98f\n",
              "Upv3N2rhtijdTmElE3gY2f5peZPJpK+//lo9evRQ4cKFde3aNa1cuVIuLi73vU9SUpKSkpIybEtL\n",
              "4x8xYC+2RVzWkIU7dTvFrNYBJTVrYCPCEjbh5uyowc0rqm+Qr5bvOqPPNkTqQvxtvfnDIX22MULP\n",
              "tK6sfkG+PD+BLMj2G3pSU1P1zjvvaOXKlTp9+rTWr1+vgQMH6vLly/e9z6RJk+Tl5ZXhFhYWlt1R\n",
              "AOQDv98VliHVCEvkDW7OjhrU1F+bxrfR/3WrrbJebroYn6S3fjysVlM2aN7WU6xkApmU7bgMDw/X\n",
              "uXPn1KpVK0lSYGCgfHx8tHfv3vveZ+LEiYqLi8twCwoKyu4oAPK4rScua8gXlrBsW72UZhKWyGNc\n",
              "nRw1MNhPG19po3e61VY5LzfFJiTp/1YfVsspGzR3y0ndSiYygQfJdlxWqFBB58+f15EjRyRJERER\n",
              "ioyMVLVq1e57H1dXV3l6ema4OTryDQYoyDYfv6ShC3cqKdWsdtVL6fMnG8rViX/3yJtcnRz1ZLCf\n",
              "Nr4Sone711F570K6lJCkd9YcUcspGzRn80ndTE619ZhAnpSln7kcOXKk1qxZowsXLqhjx47y8PBQ\n",
              "RESEZs+erd69e8vBwUFms1mffPKJfH19c2pmAPnMpuOXNPzLXUpONat9jdL6dEADwhL5gouTg/o3\n",
              "8VXPRj5auSdGn2yIUMy1W/rPT0c0a3OkhrespIFN/fiF/8BdsvSriHISv4oIKJg2HovViEW7lZxq\n",
              "VoeapfVp/4ZyceLvNyB/Skkzp0fmmau3JEnFC7toeKtKGhjsp8KuRCbAFR5AjtlwLFYjvrSE5SOE\n",
              "JQoAZ0cH9Qn01W8vtdGUnnXlV9xdVxKT9d7PR9VyygZ9tjFCN5J4uRz2jas8gByx4WisRn65W8lp\n",
              "ZnWqVUafDiAsUXA4Ozqod+MKWj+utT7oVU9+xd11NTFZU345ppaTf9OnGyKUcDvF1mMCNsGVHoDV\n",
              "rT9yUSMXWcLy0dpl9HH/BnJ25HKDgsfJ0UE9G/lo/bjWmtqrniqWKKxrN1P0/q/H1HLKBn3y2wki\n",
              "E3aHqz0Aq1p3+KKe+coSlp3rlNFH/QhLFHxOjg56opGP1r7YStP71FOlEoV1/WaKPvjvcbWYvEEf\n",
              "rT+heCITdoIrPgCrWXv4okYt3q2UNEOP1S2rGX0JS9gXJ0cHdW/go7XjWmtG3/qqVLKw4m6laNra\n",
              "42rx3m/6cN1xxd0iMlGwcdUHYBW/HrqgZ++E5eN1y2pGn/qEJeyWo4NJXeuX19oXLZFZpVQRxd9O\n",
              "1YfrTqjF5N80fS2RiYKLKz+AbPvl4AWNXrxHKWmGutQrpw/71JcTYQmkR+avY1vp434NVLVUESXc\n",
              "TtWM9SfU4r3fNO2/xxR3k8hEwcLVH0C2/HLwvJ5bskepZkNd65fT9N71CEvgTxwdTOpSr5x+HdtK\n",
              "n/RvoIDSRZSQlKqPfotQi8m/aep/j+n6zWRbjwlYBd8BADy0nw6c1+gle5VqNtStfjlN682KJfAg\n",
              "Dg4mPV63nH55oZU+G9BQ1ct4KCEpVR//FqEWkzfo/V+P6loikYn8je8CAB7Kmv3n9fzSvUozG+rR\n",
              "oLym9q4vRweTrccC8gUHB5M61ymrn8a01MwnLZF5IylVn26IVIvJv2nyL0d1lchEPkVcAsiy1fvP\n",
              "acyyO2HZsLze71WPsAQegoODSZ1q/xGZjVSzrKcSk9P0+UZLZL7381FduZFk6zGBLCEuAWTJD/vO\n",
              "6YVl4UozG+rZyEfv9yQsgeyyRGYZrRnTQrMHNlKtcp66mZymmZsi1WLyBk366YguE5nIJ4hLAJn2\n",
              "ffhZjb2zYtmrkY8mP1GXsASsyGQy6ZFaZbT6+RaaO6ixapf31K2UNM3afFItJ2/Qf9Yc1qUEIhN5\n",
              "G3EJIFO+Dz+rF78Ol9mQ+jSuQFgCOchkMql9zdL68bkWmvdUY9X18dKtlDTN2XJKLaf8pndWH1Zs\n",
              "wm1bjwncE3EJ4G99tzcmPSz7BlbQpB515EBYAjnOZDKpXY3S+n50cy0YHKh6Fbx1O8WsuVtPqeXk\n",
              "DXr7x8OKjScykbcQlwAeaOWeGI1bvk9mQ+oXVEHvdicsgdxmMpkUUr2UVj3bTF88Haj6FbyVlGrW\n",
              "/N9PqeWUDfr3D4d0kchEHkFcArivFbtj9NI3+2QYUv8mvvpPN8ISsCWTyaQ21Urpu2ebaeGQIDX0\n",
              "tUTmF9ui0iPzQhyRCdsiLgHc0ze7zuiVFZawfDLYV+90rU1YAnmEyWRS64CS+nZUMy0aGqTGfkWV\n",
              "fCcyW72/QW98f1Dn427ZekzYKSdbDwAg71m+84wmrNwvw5AGBvvp7a61ZDIRlkBeYzKZ1LJqSbWo\n",
              "UkLbIq/ow3XHtTPqmr7cflrLws6od6CPnm1TReW8C9l6VNgR4hJABl/vjNarKw/IMKSnmvrp3/8g\n",
              "LIG8zmQyqXmVEmpWubi2R17Rh+tPKOzUVX0VGq2vd55R78YV9GxIFZUnMpELiEsA6ZaGRWviygOS\n",
              "pMHN/PVml5qEJZCPmEwmNatSQs2qlND2yCuasf64Qk9e1eId0Vq+64x6Nqqg0SGV5VPU3dajogDj\n",
              "Zy4BSJKW7PhfWD7dnLAE8rumlYtr2YimWjYiWE0rFVdKmqGlYdFq8/5GTVy5X2eu3rT1iCigiEsA\n",
              "WrzjtP75nSUshzSvqDceJyyBgiK4UnEtHRGs5SObqnmV4ko1G1oadkYhH2zUhBX7FX2FyIR1EZeA\n",
              "nVsUelr/+u6gJGlYi4p6/fEahCVQAAVVLKbFw4K14pmmalm1hFLNhr7edUYhUzfqlW/26fSVRFuP\n",
              "iAKCuATs2Jfbo/T6KktYDm9ZUf96jLAECrrG/sW0aGgTfTvKEplpZkPf7I5R26mb9PI3+xR1mchE\n",
              "9hCXgJ1auC1Kb3x/SJI0slUl/bMzYQnYk0Z+f0RmM7UOKKk0s6EVu2PUbtomjVserlNEJh4ScQnY\n",
              "oQW/n9KbP1jC8pnWlfXqo9UJS8BONfIrqoVDgvTds80UUs0SmSv3nFW7qRv14tfhirx0w9YjIp8h\n",
              "LgE7M3/rKb3142FJ0qg2lTWhUzXCEoAa+BbVgqeDtGp0c7WtXkpmQ/pu71l1mLZJY5ftVUQskYnM\n",
              "IS4BOzJ3y0m9vdoSlqNDKmt8R8ISQEb1K3hr/uBA/fBcc7WvYYnMVeHn1GH6Jo1ZulcRsQm2HhF5\n",
              "HHEJ2Im5W07qnTVHJEnPt62ilx8hLAHcX10fb819KlCrn2+hDjVLyzCkH/adU4fpm/Xckj06fpHI\n",
              "xL0Rl4AdmL05Mj0sx7StonEdAghLAJlSu7yX5gxqrNXPt9AjdyJz9f7z6vjhZo1eskfHLhCZyIi4\n",
              "BAq4WZsi9e5PRyVJL7SrqnGsWAJ4CLXLe2n2oMZaM6aFOtUqI8OQ1tyJzGcX79bRC/G2HhF5BHEJ\n",
              "FGCfb4zUpJ8tYTm2fVW92CHAxhMByO9qlfPSzIGN9PMLLdW5ThlJ0k8HLqjTh1v0zKLdOnyOyLR3\n",
              "xCVQQH26IUKTf7GE5YvtAzS2PWEJwHpqlPXUZwMa6ZexLfVYnbIymaRfDl1Q54+2aOSiXTp0Ls7W\n",
              "I8JGiEugAPp0Q4Te//WYJOmlDgF6oX1VG08EoKCqXsZTnw5oqF/HttLjdS2R+euhi3rso60a/uUu\n",
              "HTxLZNob4hIoYD5efyI9LF/pWE3PtyMsAeS8gNIe+qR/Q/13bCv9o145mUzS2sMX9fjHWzVs4S4d\n",
              "iCEy7QVxCRQgM9ad0NS1xyVZwnJ0SBUbTwTA3lQt7aGP+jXQ2hdbqWv9cnIwSeuOXFSXT7Zq6Bc7\n",
              "tT/muq1HRA4jLoEC4sN1xzV9nSUsJ3SqTlgCsKkqpTw0o28DrR3XWt0blJeDSVp/NFb/+OR3Pb0g\n",
              "TOFnrtt6ROQQ4hLI5wzD0LS1x/XhuhOSpImPVteoNpVtPBUAWFQuWUTT+9TXunGt1aOhJTI3HLuk\n",
              "bp/+rsELwrQ3+pqtR4SVEZdAPmYYhqavPa6P1lvC8p+dq2tka8ISQN5TqWQRTetdX+tfaqMnGvrI\n",
              "0cGkjccuqftn2zRofph2nyYyCwriEsin/lix/Oi3CEnSa4/V0IhWhCWAvK1iicKa2rue1o9rrV6N\n",
              "LJG5+fglPfH5Ng2ct0O7oq7aekRkE3EJ5EOGYeiD/x7Tx3eF5bCWlWw8FQBknn+Jwnq/Vz1teKmN\n",
              "+jSuICcHk7acuKyeM7frybk7tJPIzLeISyCfMQxDU349pk83REqS3ni8JmEJIN/yLe6uyT3rasPL\n",
              "bdQ30BKZWyMuq9fM7eo/J1Q7Tl6x9YjIIuISyEcMw9DkX47p842WsPx3l5oa0qKijacCgOyrUMxd\n",
              "7z1hicx+Qb5ydjRpW+QV9Zkdqr6zt2t7JJGZXxCXQD5hGIbe+/moZm6yhOVb/6ilwc0JSwAFS4Vi\n",
              "7prUo442vNxGA5pYIjP05FX1mxOqPrO2a1vkZRmGYesx8QDEJZAPGIahd386olmbT0qS3u5aS081\n",
              "87ftUACQg3yKuus/3eto4yshejLYVy6ODtpx6qr6z9mhPrNC9XsEkZlXEZdAHmcYhv6z5ojmbDkl\n",
              "Sfq/brU1qKm/bYcCgFxS3ruQ3ulWRxtfaaNBTf3k4uigsKirGjB3h3rN3K6tJ4jMvCZLcTlmzBj5\n",
              "+/vLZDIpPDw8fXtSUpKee+45Va1aVXXq1NGTTz5p7TkBu2QYhv5v9RHN3WoJy/90r62BwX42ngoA\n",
              "cl8570J6u2ttbRrfRk819ZOLk4N2nb6mJ+ftUM+Z27X5+CUiM4/IUlz27NlTW7dulZ9fxm9ur776\n",
              "qkwmk44fP64DBw7ogw8+sOqQgD0yDENvrz6s+b9bwvLd7nU0oAlhCcC+lfUqpLe61taW8SEa3Mxf\n",
              "Lk4O2n36mgbND1OPz7dp47FYItPGTMZD/Bfw9/fXqlWrVL9+fSUmJqps2bKKiYmRp6fnQw8ybtw4\n",
              "TZs27aHvDxQkhmHorR8P64ttUZKk93rUUd8gX9sOBQB50MX425q5KVJLdkQrKdUsSapfwVsvtK+q\n",
              "NgElZTKZbDyh/cn2z1xGRkaqWLFievfdd9W4cWO1bNlS69evf+B9kpKSFB8fn+GWlpaW3VGAAsEw\n",
              "DL35wyF9sS1KJpM0+QnCEgDup7Snm97sUktbxodoaIuKcnN2UPiZ63p6wU51+/R3/Xb0IiuZuSzb\n",
              "cZmamqrTp0+rZs2a2rVrlz766CP16dNHFy9evO99Jk2aJC8vrwy3sLCw7I4C5HuGYeiN7w/py+2n\n",
              "LWHZo676BBKWAPB3Snm66fXHa2rL+LYa3tISmfti4jTki13q+unvWneYyMwt2Y5LX19fOTg4aMCA\n",
              "AZKkBg0aqGLFijpw4MB97zNx4kTFxcVluAUFBWV3FCBfM5sNvf79QS0KtYTllCfqqndgBVuPBQD5\n",
              "SkkPV/3rMUtkjmhVSYWcHbU/Jk7DvtylLp9s1VoiM8dlOy5LlCihdu3a6ddff5UknTp1SqdOnVKN\n",
              "GjXuex9XV1d5enpmuDk6OmZ3FCDfMpsNvfb9QX0VGi2TSXq/Zz31akxYAsDDKunhqn92rqEtE0I0\n",
              "snUlubs46uDZeA3/cpce/3irfj10gcjMIVl6Q8/IkSO1Zs0aXbhwQcWLF5eHh4ciIiJ08uRJDR06\n",
              "VJcvX5aDg4PeeOMNPfHEE1kahDf0wF6ZzYb+teqAloadkckkTe1VTz0a+th6LAAoUK4mJmvOlpP6\n",
              "cluUEpMt7/OoUdZTL7SrokdqlpGDA2/8sZaHerd4TiAuYY/MZkP//O6Alu08IweTNLV3PXVvQFgC\n",
              "QE65mpisuVtOauFdkVm9jIdeaFdVHWsRmdbAX+gBbMRsNvTqyv3pYTm9T33CEgByWLHCLhrfqbq2\n",
              "Tmir50KqqIirk45eSNCoxXv06IwtWrP/vMzmPLHulm8Rl4ANmM2GJny7X8t3xaSHZdf65W09FgDY\n",
              "jaKFXfRyx2raOiFEY9pWkYerk45dTNDoJXvUacZmrd5/jsh8SMQlkMvSzIbGf7tf3+yOkaODSTP6\n",
              "NiAsAcBGvN1dNO6Rato6oa3GtKsqDzcnHb94Q88t2auOH27WD/vOKY3IzBLiEshFaWZDr6zYpxXp\n",
              "YVlfXeqVs/VYAGD3vNydNa5DgLZOaKux7avK081JJ2JvaMzSvXpk+iZ9H36WyMwk4hLIJWlmQ698\n",
              "s08r95yVo4NJH/VtoMfrEpYAkJd4FXLW2PYB2vpqW43rECBPNydFXkrUC8vC1WH6Jq3aS2T+HeIS\n",
              "yAVpZkMvLQ/Xyr2WsPy4XwM9VresrccCANyHp5uzxrSrqq2vttVLHQLkVchZJy8lauzX4eowbZNW\n",
              "7olRaprZ1mPmScQlkMNS08watzxcq8LPycnBpE/6NVDnOoQlAOQHnm7Oer5dVW2dEKJXOlaTt7uz\n",
              "Tl5O1Ljl+9R+2iat2E1k/hlxCeSg1DSzXly+T9//EZb9G+pRwhIA8h0PN2eNDqmirRPaanynairq\n",
              "7qyoKzf18jf71G7aJn2z6wyReQdxCeSQ1DSzxn4drh/3WcLy0wEN1al2GVuPBQDIhiKuTnq2jSUy\n",
              "J3SqrmKFXXT6yk29smK/2k7dpOU7zyjFziOTuARyQEqaWS8sC9fq/efl7GjSZwMaqmMtwhIACorC\n",
              "rk4a1aaytowP0cRHq6t4YRdFX72p8d/uV9upG7UsLNpuI5O4BKzMEpZ7teaAJSw/H9BIjxCWAFAg\n",
              "FXZ10sjWlbVlQoj+1bmGShRx0Zmrt/TqygNq8/5GLQ2LVnKqfUUmcQlYUUqaWWOW7tVPBy7IxdFB\n",
              "M59spPY1S9t6LABADnN3cdLwVpW0ZXxbvfZYDZUo4qqz129p4soDCvlgoxbvOG03kUlcAlaSnGrW\n",
              "c0v26OeDd8JyYEO1q0FYAoA9KeTiqGEtK2nL+BC9/nhNlfSwROa/vjuoNu9v0KLQ00pKTbP1mDmK\n",
              "uASs4I+w/PXQRbk4OWjWoEZqW52wBAB7VcjFUUNbVNSW8SF6s0tNlfJw1bm423p91UG1eX+jFm2P\n",
              "KrCRSVwC2ZScatboJXv038OWsJw9sJFCqpWy9VgAgDzAzdlRTzevqM3jQ/TvLjVV2tNV5+Nu6/Xv\n",
              "D6n1lI1auC1Kt1MKVmQSl0A2JKWm6dnFu7X2TljOGdRYbQhLAMCfuDk7anDzitr0Soje7lpLZTzd\n",
              "dCH+tt784ZBav79BC34/VWAik7gEHlJSapqe/WqP1h2JlauTg+YOaqzWASVtPRYAIA9zc3bUoKb+\n",
              "2jS+jf6vW22V9XLTxfgkvfXjYbWaskHzt+b/yCQugYeQlJqmUV/t0fqjlrCc91SgWhGWAIBMcnVy\n",
              "1MBgP218pY3e6VZb5bzcFJuQpLdXH1bLKRs0d8tJ3UrOn5FJXAJZdDslTc8s2q3fjsbKzdlB8wcH\n",
              "qkXVErYeCwCQD7k6OerJYD9tfCVE73avo/LehXQpIUnvrDmillM2aM7mk7qZnGrrMbOEuASy4HZK\n",
              "mkYu2q0Nxy5ZwvKpQDWvQlgCALLHxclB/Zv4asPLbfRejzryKVpIl28k6T8/HVGrKRs0e3NkvolM\n",
              "4hLIpNspaRqxaLc2Hb+UvmLZjLAEAFiRi5OD+gZZInPyE3VUoVghXb6RrHd/OqqWkzdo5qZIJSbl\n",
              "7cgkLoFMuJ2SpuFf7tLm45dUyNlRCwYHqVllwhIAkDOcHR3UJ9BXv73URlN61pVfcXddSUzWez8f\n",
              "VcspG/TZxgjdyKORSVwCf+OPsNxy4rLcXRz1xdOBalq5uK3HAgDYAWdHB/VuXEHrx7XWB73qya+4\n",
              "u64mJmvKL8fUcvJv+nRDhMxmw9ZjZkBcAg9wKzlNwxbeHZZBalKJsAQA5C4nRwf1bOSj9eNaa2qv\n",
              "eqpYorCu3UzRjlNX5eBgsvV4GTjZegAgr7qVnKahC3dqW+QVFXZx1BdDghToX8zWYwEA7JiTo4Oe\n",
              "aOSjrvXL6cf951S5ZBFbj/QXxCVwDzeTUzX0i13aftISlguHBKkxYQkAyCOcHB3UvYGPrce4J+IS\n",
              "+JObyaka8sVOhZ68qiKuTlo4JFCN/AhLAAAyg7gE7nIzOVVPL9ipHaf+CMsgNfIrauuxAADIN4hL\n",
              "4I7EpFQ9/cVOhZ26Kg9XJy0cGqSGvoQlAABZQVwCkm4kperpBWHaGXVNHq5O+nJokBoQlgAAZBlx\n",
              "Cbt3IylVg+eHadfpa/Jwc9KioU1Uv4K3rccCACBfIi5h1xJup2jwgp3affqaPN2c9NWwJqrr423r\n",
              "sQAAyLeIS9ithNspemp+mPZEX5enm5MWDwtWHR8vW48FAEC+RlzCLsXfCcu90dflVchZi4c1Ue3y\n",
              "hCUAANlFXMLuxN9O0aB5YQo/c13e7s76aihhCQCAtRCXsCtxt1I0aH6Y9t0Jy8XDmqhWOcISAABr\n",
              "IS5hN+JupWjQvB3aFxOnou7OWjwsWDXLedp6LAAAChTiEnYh7maKBs7fof0xcSpW2EWLhzVRjbKE\n",
              "JQAA1kZcosC7fjNZT87boYNn41WssIuWDG+i6mUISwAAcgJxiQLt+s1kDZi7Q4fOxat4YRctGR6s\n",
              "amU8bD0WAAAFFnGJAutaoiUsD5+PV4kilrAMKE1YAgCQk4hLFEhX74TlkTthuXR4sKoSlgAA5Dji\n",
              "EgXO1cRk9Z8TqqMXElSiiKuWDm9CWAIAkEuISxQoV24kacDcHTp6IUElPVy1dHiwqpQqYuuxAACw\n",
              "G8QlCozLN5I0YM4OHbtIWAIAYCvEJQqEyzeS1H9OqI5fvKFSHq5aOiJYlUsSlgAA5DbiEvnepQRL\n",
              "WJ6IvaHSnpYVy0qEJQAANuGQlYPHjBkjf39/mUwmhYeH/2X/ggULZDKZtGrVKiuNBzxYbMJt9bsT\n",
              "lmU83bRsRFPCEgAAG8pSXPbs2VNbt26Vn5/fX/ZFRUVpzpw5Cg4OttpwwIPEJtxWv9mhioi9obJe\n",
              "blo2IlgVSxS29VgAANi1LMVlq1at5OPj85ftZrNZw4YN08cffyxXV1erDQfcT2y8JSwjLyWq3J2w\n",
              "9CcsAQCwOav8zOW0adPUvHlzNWrUKFPHJyUlKSkpKcO2tLQ0a4wCO3DxTlievPxHWDaVb3F3W48F\n",
              "AACUxZXLezl48KC+/fZbvfbaa5m+z6RJk+Tl5ZXhFhYWlt1RYAfuDsvy3oUISwAA8phsx+WWLVsU\n",
              "FRWlqlWryt/fX6GhoRoxYoQ+//zz+95n4sSJiouLy3ALCgrK7igo4C7E3VbfDGEZTFgCAJDHZPtl\n",
              "8VGjRmnUqFHpH7dp00Zjx45Vt27d7nsfV1fXv/xspqOjY3ZHQQF2Pu6W+s0OVdSVm/IpWkhLhwer\n",
              "QjHCEgCAvCZLK5cjR46Uj4+PYmJi1LFjR1WpUiWn5gLSnbt+S33vCstlIwhLAADyqiytXM6aNetv\n",
              "j9m4cePDzgL8xdnrlhXL6Ks3VaGY5Wcsy3sXsvVYAADgPvgLPcizYq7dVL85oTpz9ZZ8i7lr2Yhg\n",
              "lSMsAQDI04hL5Ekx126q7+xQxVy7Jb/i7lo6nLAEACA/IC6R55y5almxjLl2S/7F3bV0RLDKehGW\n",
              "AADkB8Ql8pQzVy0rlmev31LFEoW1dHiwyni52XosAACQSdn+PZeAtURf+V9YViIsAQDIl1i5RJ5g\n",
              "CcvtOhd3W5VKWsKytCdhCQBAfkNcwuZOX0lU39mhOh93W5XvhGUpwhIAgHyJuIRNRV22hOWF+Dth\n",
              "OSJYpTwISwAA8iviEjZz6nKi+t0Jy6qlimjJ8GCV9HD9+zsCAIA8i7iETZy8dEP95oTqYnwSYQkA\n",
              "QAFCXCLXRV66oX6zQxWbkKSA0pawLFGEsAQAoCAgLpGrImJvqP8cS1hWL+OhxcOaqDhhCQBAgUFc\n",
              "ItdExCao35wdukRYAgBQYBGXyBUnLlrC8vINS1guGR6sYoVdbD0WAACwMuISOc4SlqG6fCNZNct6\n",
              "avGwJipKWAIAUCARl8hRxy4kqP+cUF1JTFatcp76aihhCQBAQUZcIsf8OSwXD2sib3fCEgCAgoy4\n",
              "RI44eiFe/efs0NXEZNUp76VFQ4MISwAA7ABxCas7fC5eA+aG6trNFNX18dKiIU3k5e5s67EAAEAu\n",
              "cLD1AChY7g7Lej5eWjSUsAQAwJ6wcgmrOXQuTgPm7tD1mymqV8FbXw4JklchwhIAAHtCXMIqDp61\n",
              "hGXcrRTVr+CtL4cGydONsAQAwN7wsjiy7e6wbOBLWAIAYM9YuUS2HIiJ04C5oYq/naqGvt5aOCRI\n",
              "HoQlAAB2i7jEQ9t35roGztuh+NupauRXVAuHBKmIK08pAADsGS+L46GEn7muJ++EZWPCEgAA3EEN\n",
              "IMv2Rl/ToHlhSkhKVZB/Mc1/OpCwBAAAkohLZNGe6Gt66o+wrFhMCwYHqjBhCQAA7uBlcWTa7tP/\n",
              "W7FsQlgCAIB7oAyQKbtPX9VT83fqRlKqgisV0/zBgXJ34ekDAAAyog7wt3ZFXdVT88OUmJymppWK\n",
              "a/7gQBVycbT1WAAAIA/iZXE80M6oqxp0JyybVSYsAQDAgxGXuK+wU5YVy5vJaWpRpYTmPUVYAgCA\n",
              "B+NlcdxT6MkrGvLFTt1MTlPLqiU0Z1BjuTkTlgAA4MGIS/zF9khLWN5KISwBAEDW8LI4MtgWeTk9\n",
              "LFsHlCQsAQBAlrByiXTbIi5ryMKdup1iVptqJTXzyUaEJQAAyBJWLiFJ+j3isp7+whKWIYQlAAB4\n",
              "SKxcQltPXNbQhTuVlGpW2+ql9PmTDeXqRFgCAICsY+XSzm0+fik9LNvXICwBAED2sHJpxzYdv6Th\n",
              "X+5ScqpZ7WuU1qcDGhCWAAAgW4hLO7XxWKxGLNqt5FSzOtQsrU/7N5SLEwvZAAAge6gJO7ThaKxG\n",
              "fGkJy0cISwAAYEWsXNqZ345e1DOL9ig5zaxOtcro4/4N5OxIWAIAAOugKuzI+iP/C8tHaxOWAADA\n",
              "+li5tBPrDl/UqMW7lZJmqHOdMprRl7AEAADWR1zagf8euqDRS/YoJc3QY3XL6sM+9QlLAACQI7JU\n",
              "GGPGjJG/v79MJpPCw8MlSbdv31a3bt0UEBCgevXqqUOHDoqIiMiJWfEQfr0rLB+vW1YzCEsAAJCD\n",
              "slQZPXv21NatW+Xn55dh+4gRI3Ts2DHt27dPXbt21bBhw6w6JB7OLwcvaPRiS1h2qVdOH/apLyfC\n",
              "EgAA5KAslUarVq3k4+OTYZubm5s6d+4sk8kkSQoODlZUVJTVBsTD+fnAeT23ZI9SzYa61i+n6b3r\n",
              "EZYAACDHWf1nLmfMmKGuXbs+8JikpCQlJSVl2JaWlmbtUezWTwfO6/mle5VmNtStfjlN7V1fjg4m\n",
              "W48FAADsgFWXst59911FRERo0qRJDzxu0qRJ8vLyynALCwuz5ih2a83+/4VljwblCUsAAJCrrBaX\n",
              "H3zwgVauXKmff/5Z7u7uDzx24sSJiouLy3ALCgqy1ih268d95zRm2Z2wbFhe7/eqR1gCAIBcZZWX\n",
              "xadNm6alS5dq3bp18vb2/tvjXV1d5erqmmGbo6OjNUaxWz/sO6cXvw5XmtlQz0Y+mvxEXcISAADk\n",
              "uiytXI4cOVI+Pj6KiYlRx44dVaVKFcXExOill17S9evXFRISovr166tJkyY5NS/u4fvwsxp7Z8Wy\n",
              "F2EJAABsKEsrl7NmzbrndsMwrDIMsm7V3rMatzxcZkPq07iCJvWoIwfCEgAA2Ai/myYf+25vTHpY\n",
              "9g0kLAEAgO3x5x/zqW93x+jlFftkGFK/oAr6TzfCEgAA2B4rl/nQirvCsn8TX8ISAADkGcRlPvPN\n",
              "rjN65U5YPhnsq3e61iYsAQBAnsHL4vnI8p1nNGHlfhmGNDDYT293rZX+ZzcBAADyAuIyn/h6Z7Qm\n",
              "fHtAkvRUUz/9+x+EJQAAyHuIy3xgaVi0Jq60hOXgZv56s0tNwhIAAORJxGUet2RHtP75nSUsn27u\n",
              "rzceJywBAEDeRVzmYV+FntZrqw5KkoY0r6jXH69BWAIAgDyNuMyjFoWe1ut3wnJYi4r612OEJQAA\n",
              "yPuIyzzoy+1ReuP7Q5Kk4S0r6p+dCUsAAJA/EJd5zMJtUXrzB0tYjmxVSa8+Wp2wBAAA+QZxmYcs\n",
              "+P2U3vrxsCTpmdaVNaFTNcISAADkK8RlHjF/6ym9vdoSlqPaVNb4joQlAADIf4jLPGDulpN6Z80R\n",
              "SdLokMp6+RHCEgAA5E/EpY3dHZbPt62icR0CCEsAAJBvEZc2NHtzpN796agkaUzbKnqRsAQAAPkc\n",
              "cWkjszZFatLPlrB8oV1VvdghwMYTAQAAZB9xaQOfb4zU5F8sYTm2fVWNbU9YAgCAgoG4zGWfbojQ\n",
              "+78ekyS92D5AL7SvauOJAAAArIe4zEV3h+VLHQL0fDvCEgAAFCzEZS75eP0JTV17XJL0SsdqGh1S\n",
              "xcYTAQAAWB9xmQtmrDuh6esISwAAUPARlznsw3XH9eG6E5KkCZ2qa1SbyjaeCAAAIOcQlznEMAxN\n",
              "X3dCH623hOXER6trZGvCEgAAFGzEZQ4wDEPT1x7XR79FSJL+2bm6RrQiLAEAQMFHXFqZYRiatva4\n",
              "Pr4Tlq89VkPDWlay8VQAAAC5g7i0IsMw9MF/j+nTDZGSCEsAAGB/iEsrMQxDU349ps83WsLyjcdr\n",
              "akiLijaeCgAAIHcRl1ZgGIYm/3JMMzdZwvLfXWpqcHPCEgAA2B/iMpsMw9B7Px/VrM0nJUlv/aOW\n",
              "nmrmb9uhAAAAbIS4zAbDMPTuT0c0Z8spSdLbXWtpUFN/2w4FAABgQ8TlQzIMQ/9Zc0Rzt1rC8v+6\n",
              "1dbAYD8bTwUAAGBbxOVDMAxD/7f6iOb/bgnL/3SvrQFNCEsAAADiMosMw9Dbqw9rwe9RkqR3u9dR\n",
              "/ya+th0KAAAgjyAus8AwDL3142F9sS1KkvRejzrqG0RYAgAA/IG4zCTDMPTmD4f05fbTMpksYdkn\n",
              "kLAEAAC4G3GZCYZh6I3vD2lRqCUsJ/eoq96BFWw9FgAAQJ5DXP4Ns9nQGz8c1Feh0TKZpClP1FWv\n",
              "xoQlAADAvRCXD2A2G3rt+4NassMSlu/3rKeejXxsPRYAAECeRVzeh9ls6F+rDmhp2BmZTNLUXvXU\n",
              "oyFhCQAA8CDE5T2YzYb++d0BLdt5Rg4maWrveuregLAEAAD4O8Tln5jNhl5duV/Ld8XIwSRN71Nf\n",
              "XeuXt/VYAAAA+QJxeRez2dCEb/frm92EJQAAwMMgLu9IuxOWK3bHyNHBpA/71FeXeuVsPRYAAEC+\n",
              "QlzKEpavrNinlXvOytHBpBl96+vxuoQlAABAVtl9XKaZDb3yzT6t3GsJy4/6NtBjdcvaeiwAAIB8\n",
              "ySErB48ZM0b+/v4ymUwKDw9P337ixAk1a9ZMAQEBCgwM1KFDh6w9Z45IMxt6aXm4Vu49KycHkz7p\n",
              "R1gCAABkR5bismfPntq6dav8/PwybB85cqRGjBih48ePa8KECRo8eLA1Z8wRqWlmjVserlXh5yxh\n",
              "2b+BHq1DWAIAAGRHluKyVatW8vHJ+PseY2NjtWvXLj355JOSpCeeeEJnzpxRRESE9aa0stQ0s15c\n",
              "vk/fp4dlQ3WqTVgCAABkV7Z/5vLMmTMqW7asnJwsn8pkMsnX11fR0dGqUqXKPe+TlJSkpKSkDNvS\n",
              "0tKyO0qmpKaZNfbrcK3ef17OjiZ92r+hHqlVJle+NgAAQEGXpZVLa5k0aZK8vLwy3MLCwnLlax+/\n",
              "eENrD1+Us6NJnw1oRFgCAABYUbbjskKFCjp//rxSU1MlSYZhKDo6Wr6+vve9z8SJExUXF5fhFhQU\n",
              "lN1RMqVmOU/NHxyozwc0UoeapXPlawIAANiLbMdlqVKl1LBhQ3311VeSpG+//VY+Pj73fUlcklxd\n",
              "XeXp6Znh5ujomN1RMq15lRJqT1gCAABYXZbicuTIkfLx8VFMTIw6duyYHpCzZs3SrFmzFBAQoPfe\n",
              "e08LFizIkWEBAACQt2XpDT2zZs265/Zq1app+/btVhkIAAAA+ZdN3tADAACAgom4BAAAgNUQlwAA\n",
              "ALAa4hIAAABWQ1wCAADAaohLAAAAWA1xCQAAAKshLgEAAGA1xCUAAACsxmQYhmHrISSpR48e8vf3\n",
              "z5WvlZaWprCwMAUFBeXq3zTP6zgv98e5uTfOy/1xbu6N83J/nJt747zcny3OjZ+fn1544YUHHpNn\n",
              "4jI3xcfHy8vLS3FxcfL09LT1OHkG5+X+ODf3xnm5P87NvXFe7o9zc2+cl/vLq+eGl8UBAABgNcQl\n",
              "AAAArIa4BAAAgNXYZVy6urrqzTfflKurq61HyVM4L/fHubk3zsv9cW7ujfNyf5ybe+O83F9ePTd2\n",
              "+YYeAAAA5Ay7XLkEAABAziAuAQAAYDXEJQAAAKymQMXliRMn1KxZMwUEBCgwMFCHDh2653Hz5s1T\n",
              "1apVVblyZQ0fPlwpKSmZ2pefZebc/PbbbwoKClLNmjVVq1YtjR8/XmazWZIUFRUlR0dH1a9fP/0W\n",
              "GRmZ2w/D6jJzXjZu3KhChQpleOy3bt1K32/Pz5kFCxZkOC8lSpRQjx49JBXc58yYMWPk7+8vk8mk\n",
              "8PDw+x5nb9eZzJwXe7zGSJk7N/Z4ncnMebHHa8zt27fVrVs3BQQEqF69eurQoYMiIiLueezq1atV\n",
              "vXp1Va1aVT169FB8fHym9uU4owAJCQkxFixYYBiGYXzzzTdG48aN/3LMyZMnjbJlyxrnz583zGaz\n",
              "0aVLF+OTTz752335XWbOzZ49e4zIyEjDMAzj1q1bRvPmzdPvc+rUKcPLyyuXps09mTkvGzZsMOrV\n",
              "q3fP+9v7c+bPatWqZaxYscIwjIL7nNm0aZNx5swZw8/Pz9i7d+89j7HH60xmzos9XmMMI3Pnxh6v\n",
              "M5k5L39mD9eYW7duGWvWrDHMZrNhGIbx8ccfG61bt/7LcQkJCUapUqWMI0eOGIZhGKNHjzZefvnl\n",
              "v92XGwpMXF68eNHw8PAwUlJSDMMwDLPZbJQuXdo4ceJEhuOmTJlijBw5Mv3jNWvWGM2bN//bfflZ\n",
              "Zs/Nn40ePdp48803DcMomP+IM3teHnTR5znzP6GhoUbJkiWN5ORkwzAK5nPmbg/6hmiP15k/ZCUU\n",
              "Cvo15s8eNi55zljY2zXmDzt37jT8/Pz+sn358uVGx44d0z8+dOiQUb58+b/dlxsKzMviZ86cUdmy\n",
              "ZeXk5CRJMplM8vX1VXR0dIbjoqOj5efnl/6xv79/+jEP2pefZfbc3O3ChQtasWKFHn/88fRtiYmJ\n",
              "CgwMVMOGDfX2228rLS0tx2fPSVk5L5GRkWrYsKECAwP12WefpW/nOfM/8+bN08CBA+Xs7Jy+raA9\n",
              "ZzLLHq8zWWUP15issrfrTFbZ6zVmxowZ6tq161+23+t5cf78eaWmpj5wX25wypWvgnwlPj5eXbp0\n",
              "0fjx49W4cWNJUtmyZXX27FmVKlVKV69eVZ8+fTR16lSNHz/extPmvIYNGyomJkZeXl6KiYlR586d\n",
              "VaJECfXu3dvWo+UZiYmJWrZsmUJDQ9O32fNzBg/GNeavuM48mL1eY959911FRERo/fr1th4lSwrM\n",
              "ymWFChUyVLlhGIqOjpavr2+G43x9fXX69On0j6OiotKPedC+/Cyz50aSEhIS1KlTJ3Xt2lXjxo1L\n",
              "3+7q6qpSpUpJkooVK6YhQ4Zoy5YtufMAckhmz4unp6e8vLwkST4+PurXr1/6Y+c5Y/HNN9+oVq1a\n",
              "qlmzZvq2gvicySx7vM5klj1dY7LCHq8zWWGP15gPPvhAK1eu1M8//yx3d/e/7L/X8+KPV5wetC83\n",
              "FJi4LFWqlBo2bKivvvpKkvTtt9/Kx8dHVapUyXDcE088oR9++EEXLlyQYRiaOXOm+vbt+7f78rPM\n",
              "npsbN26oU6dO6tSpk1577bUM+2JjY9PfnZiUlKSVK1eqQYMGufMAckhmz8v58+fT39GakJCg1atX\n",
              "pz92e3/O/GHevHkaOnRohm0F8TmTWfZ4nckMe7vGZIU9Xmeywt6uMdOmTdPSpUu1du1aeXt73/OY\n",
              "Tp06ac+ePTp69Kgk6bPPPkt/XjxoX67ItZ/uzAVHjx41goODjapVqxqNGjUy9u/fbxiGYQwdOtT4\n",
              "/vvv04+bPXu2UalSJaNSpUrGkCFD0n84+O/25WeZOTfvvPOO4eTkZNSrVy/99s477xiGYRjffvut\n",
              "UatWLaNu3bpGzZo1jeeee864ffu2zR6PtWTmvHz88cdGzZo10x/7m2++mf4uPsOw7+fMH8cVKVLE\n",
              "iI+Pz3D/gvqcGTFihFG+fHnD0dHRKFWqlFG5cmXDMLjOZOa82OM1xjAyd27s8TqT2X9L9naNOXPm\n",
              "jCHJqFSpUvq/k6CgIMMwDOP11183Pv/88/Rjv//+e6NatWpG5cqVja5duxrXr1/P1L6cxt8WBwAA\n",
              "gNUUmJfFAQAAYHvEJQAAAKyGuAQAAIDVEJcAAACwGuISAAAAVkNcAgAAwGqISwAAAFgNcQkAAACr\n",
              "IS4BAABgNcQlAAAArIa4BAAAgNX8Pz76w9UkVv18AAAAAElFTkSuQmCC\n",
              "\">\n",
              "      </div>\n",
              "      <script type=\"text/javascript\">\n",
              "        (() => {\n",
              "          const chartElement = document.getElementById(\"chart-f3962e43-d16e-423e-883c-d05081c7a96d\");\n",
              "          async function getCodeForChartHandler(event) {\n",
              "            const chartCodeResponse =  await google.colab.kernel.invokeFunction(\n",
              "                'getCodeForChart', [\"chart-f3962e43-d16e-423e-883c-d05081c7a96d\"], {});\n",
              "            const responseJson = chartCodeResponse.data['application/json'];\n",
              "            await google.colab.notebook.addCell(responseJson.code, 'code');\n",
              "          }\n",
              "          chartElement.onclick = getCodeForChartHandler;\n",
              "        })();\n",
              "      </script>\n",
              "      <style>\n",
              "        .colab-quickchart-chart-with-code  {\n",
              "            display: block;\n",
              "            float: left;\n",
              "            border: 1px solid transparent;\n",
              "        }\n",
              "\n",
              "        .colab-quickchart-chart-with-code:hover {\n",
              "            cursor: pointer;\n",
              "            border: 1px solid #aaa;\n",
              "        }\n",
              "      </style>"
            ]
          },
          "metadata": {}
        },
        {
          "output_type": "display_data",
          "data": {
            "text/plain": [
              "<google.colab._quickchart_helpers.SectionTitle at 0x7e43560c91d0>"
            ],
            "text/html": [
              "<h4 class=\"colab-quickchart-section-title\">Faceted distributions</h4>\n",
              "<style>\n",
              "  .colab-quickchart-section-title {\n",
              "      clear: both;\n",
              "  }\n",
              "</style>"
            ]
          },
          "metadata": {}
        },
        {
          "output_type": "stream",
          "name": "stderr",
          "text": [
            "<string>:5: FutureWarning: \n",
            "\n",
            "Passing `palette` without assigning `hue` is deprecated and will be removed in v0.14.0. Assign the `y` variable to `hue` and set `legend=False` for the same effect.\n",
            "\n"
          ]
        },
        {
          "output_type": "display_data",
          "data": {
            "text/plain": [
              "from matplotlib import pyplot as plt\n",
              "import seaborn as sns\n",
              "figsize = (12, 1.2 * len(df['Produto'].unique()))\n",
              "plt.figure(figsize=figsize)\n",
              "sns.violinplot(df, x='Vendas', y='Produto', inner='stick', palette='Dark2')\n",
              "sns.despine(top=True, right=True, bottom=True, left=True)"
            ],
            "text/html": [
              "      <div class=\"colab-quickchart-chart-with-code\" id=\"chart-4598968e-1818-4db1-8778-1bddafbee473\">\n",
              "        <img style=\"width: 180px;\" src=\"data:image/png;base64,iVBORw0KGgoAAAANSUhEUgAAA9IAAAFICAYAAAC88cbSAAAAOnRFWHRTb2Z0d2FyZQBNYXRwbG90\n",
              "bGliIHZlcnNpb24zLjEwLjAsIGh0dHBzOi8vbWF0cGxvdGxpYi5vcmcvlHJYcgAAAAlwSFlzAAAP\n",
              "YQAAD2EBqD+naQAAGBhJREFUeJzt3XmM1PX9x/HXIrpicVFR0YqKBqQeKJeVeqyaYlS8oUrqQU1X\n",
              "wU2bxlRbbdND0wpqrT00alVQU+NRlGjx6qGtR1NU6gXWqIgrtAJG8UArqyvz+8Ow/VGh5aOMMwuP\n",
              "RzLJzne/M/Ne8slknny/M9NQqVQqAQAAAFZLt1oPAAAAAF2JkAYAAIACQhoAAAAKCGkAAAAoIKQB\n",
              "AACggJAGAACAAkIaAAAACghpAAAAKCCkAQAAoICQBgAAgAJCGgAAAAoIaQAAACggpAEAAKCAkAYA\n",
              "AIACQhoAAAAKCGkAAAAoIKQBAACggJD+hFpbW9Pa2lrrMQAAAPiUdK/1AF3dokWLaj0CAAAAnyJH\n",
              "pAEAAKCAkAYAAIACQhoAAAAKCGkAAAAoIKQBAACggJAGAACAAkIaAAAACghpAAAAKCCkAQAAoICQ\n",
              "BgAAgAJCGgAAAAoIaQAAACggpAEAAKCAkAYAAIACQhoAAAAKCGkAAAAoIKQBAACggJAGAACAAkIa\n",
              "AAAACghpAAAAKCCkAQAAoICQBgAAgAJCGgAAAAoIaQAAACggpAEAAKCAkAYAAIACQhoAAAAKCGkA\n",
              "AAAoIKQBAACggJAGAACAAkIaAAAACghpAAAAKFD1kF6yZEl69uyZlpaWaj8UAAAAVF3VQ/rmm2/O\n",
              "sGHDMm3atLz99tvVfjgAAACoqqqH9OTJk3PWWWelubk5N998c7UfDgAAAKqqezXv/O9//3vmz5+f\n",
              "gw8+OB0dHTn//PNXeYp3e3t72tvbV9jW2NiYxsbGao4IAAAARap6RHry5MkZN25c1ltvvYwaNSov\n",
              "vvhinnnmmZXuO2nSpPTq1WuFy6RJk6o5HgAAABRrqFQqlWrc8fvvv59tttkm66+/ftZff/0kyeuv\n",
              "v55TTz01F1100Uf276pHpEePHp0kmTZtWo0nAQAA4NNQtVO7f/vb32bHHXfMjBkzOrc988wzOeCA\n",
              "AzJp0qTOuF6uK0QzAAAAVO3U7smTJ+eEE05YYdvOO++cbbbZJtOnT6/WwwIAAEBVVe2I9F133bXS\n",
              "7Y899li1HhIAAACqrupffwUAAABrEyENAAAABYQ0AAAAFBDSAAAAUEBIAwAAQAEhDQAAAAWENAAA\n",
              "ABQQ0gAAAFBASAMAAEABIQ0AAAAFhDQAAAAUENIAAABQQEgDAABAASENAAAABYQ0AAAAFBDSAAAA\n",
              "UEBIAwAAQAEhDQAAAAWENAAAABQQ0gAAAFBASAMAAEABIQ0AAAAFhDQAAAAUENIAAABQQEgDAABA\n",
              "ASENAAAABYQ0AAAAFBDSAAAAUEBIAwAAQAEhDQAAAAWENAAAABQQ0gAAAFCge60H6Or69OlT6xEA\n",
              "AAD4FDVUKpVKrYcAAACArsKp3QAAAFBASAMAAEABIQ0AAAAFhDQAAAAUENIAAABQQEgDAABAASEN\n",
              "AAAABYQ0AAAAFBDSAAAAUEBIAwAAQAEhDQAAAAWENAAAABQQ0gAAAFBASAMAAEABIQ0AAAAFhDQA\n",
              "AABV1dramtbW1lqPscZ0r/UAAAAArN0WLVpU6xHWKEekAQAAoICQBgAAgAJCGgAAAAoIaQAAACgg\n",
              "pAEAAKCAkAYAAIACQhoAAAAKCGkAAAAoIKQBAACggJAGAACAAkIaAAAACghpAAAAKCCkAQAAoICQ\n",
              "BgAAgAJCGgAAAAoIaQAAACggpAEAAKCAkAYAAIAC3T/OjebPn58HH3wwSdLc3Jy+ffuu0aEAAACg\n",
              "XhUfkb799tszZMiQTJ06NVOnTs3QoUMzffr0aswGAAAAdaf4iPS5556bGTNmpH///kmSOXPm5Ljj\n",
              "jssRRxyxxocDAACAelN8RPqDDz7ojOgk6d+/f5YtW7ZGhwIAAIB6VRzSW265Za6++uosW7Ysy5Yt\n",
              "y+TJk7PFFltUYzYAAACoO8Uhffnll+fqq69Ojx490qNHj1x99dW54oorqjEbAAAA1J3i90j3798/\n",
              "M2bMyNtvv50k6dmz5xofCgAAAOpV8RHpz3/+80k+DOjlEb18GwAAAKztikO6o6Njhevvv/9+lixZ\n",
              "ssYGAgAAgHq22iF9wQUXZNNNN82sWbOy2WabdV6amprS3NxczRkBAACgbqz2e6RPO+20jB07Nq2t\n",
              "rSt8uFhTU1M23XTTqgwHAAAA9Wa1Q7pXr17p1atX7r777mrOAwAAAHWt+FO7d9hhhzQ0NHxk+9y5\n",
              "c9fIQAAAAFDPikP6jjvu6Px56dKl+fWvf53evXuv0aEAAACgXhWH9K677rrC9WHDhmXvvffO97//\n",
              "/TU2FAAAANSr4pD+T6+99loWLly40t/169cvjY2N6dGjR9rb2zNkyJBcddVV+cxnPvNJHxYAAABq\n",
              "ojikhwwZ0vke6Q8++CAvvfRSvv3tb69y/5tvvjmDBw/OsmXLcsQRR+Taa6/N1772tY8/MQAAANRQ\n",
              "cUj//Oc///eNu3fPjjvumK233vp/3u69997Lv/71r1V+VVZ7e3va29tX2NbY2JjGxsbSEQEAAKBq\n",
              "upXeYP/99++87LPPPv8zoseOHZvBgwdnq622Srdu3XLcccetdL9JkyZ1fsXW8sukSZNKxwMAAICq\n",
              "aqhUKpXV2fHAAw9c6ddeLXffffd9ZFu/fv1y2223ZfDgweno6MiECROyySab5Kc//elH9nVEGgAA\n",
              "YO00evToJMm0adNqPMmasdpHpM8888ycccYZGTp0aJLkq1/9alpaWtKtW7cMGzbsf96+e/fuGTNm\n",
              "TO65556V/r6xsTFNTU0rXEQ0AAAA9Wa13yN92GGHJUl+9KMf5aGHHkr37h/e9Nhjj01zc/Nq3cd9\n",
              "992XgQMHfowxAQAAoD4Uf9jY4sWLVzjFu1u3blm8ePEq9x87dmx69OiRjo6ObL/99rniiis+3qQA\n",
              "AABQB4pDeuTIkTnkkEMybty4JMn111+fgw46aKX7trW1faLhAAAAoN4Uh/Qvf/nL/OpXv8ptt92W\n",
              "JDn66KNz6qmnrum5AAAAoC6t9qd2/6flN/tvn+QNAAAA6+yndi/38ssvZ9SoUdloo42y0UYb5fDD\n",
              "D8+CBQuqMRsAAADUneKQnjBhQvbdd98sWLAgCxYsyL777pvx48dXYzYAAACoO8XvkZ4/f36mT5/e\n",
              "ef3ss8/O4MGD1+RMAAAAULeKj0hXKpUsXLiw8/rChQvzMd9mDQAAAF1O8RHpM888M0OGDMmhhx6a\n",
              "JLnnnnvyk5/8ZI0PBgAAAPWoKKQrlUpGjhyZP/7xj/nTn/6UJDnjjDOy6667VmU4AAAAqDfFR6QP\n",
              "OuigzJ49WzwDAACwTip6j3RDQ0P69u2bV199tVrzAAAAQF0rPiLds2fPDB48OKNGjUrPnj07t198\n",
              "8cVrdDAAAACoR0UhPXv27Dz77LM58MADs80221RrJgAAAKhbqx3Sl112Wb773e9m4MCBmT59eqZM\n",
              "mZLRo0dXczYAAACoO6v9HunLLrssTz31VB5++OE8+OCDTuUGAABgnbTaIb3++utnu+22S5IMGjQo\n",
              "77zzTtWGAgAAgHq12qd2L126NLNmzUqlUlnp9d133706EwIAAEAdWe2Qfvfdd3PkkUeusG359YaG\n",
              "hsydO3fNTgYAAAB1aLVDuq2trYpjAAAAQNew2u+RBgAAAIQ0AAAAFBHSAAAAUEBIAwAAQAEhDQAA\n",
              "AAWENAAAABQQ0gAAAFBASAMAAEABIQ0AAAAFhDQAAAAUENIAAABQQEgDAABAASENAAAABbrXegAA\n",
              "AADWbn369Kn1CGtUQ6VSqdR6CAAAAOgqnNoNAAAABYQ0AAAAFBDSAAAAUEBIAwAAQAEhDQAAAAWE\n",
              "NAAAABQQ0gAAAFBASAMAAEABIQ0AAAAFhDQAAAAUENIAAABQQEgDAABAASENAAAABYQ0AAAAFBDS\n",
              "AAAAUEBIAwAAQAEhDQBrmdbW1rS2ttZ6DABYa3Wv9QAAwJq1aNGiWo8AAGs1R6QBAACggJAGAACA\n",
              "AkIaAAAACghpAAAAKCCkAQAAoICQBgAAgAJCGgAAAAoIaQAAACggpAEAAKCAkAYAAIACQhoAAAAK\n",
              "CGkAAAAoIKQBAACggJAGAACAAkIaAAAACghpAAAAKCCkAQAAoICQBgAAgAJCGgAAAAoIaQAAACgg\n",
              "pAEAAKCAkAYAAIACQhoAAAAKCGkAAAAoIKQBAACggJAGAACAAkIaAAAACghpAAAAKCCkAQAAoICQ\n",
              "BgAAgAJCGgAAAAoIaQAAAChQ1ZDu6OjIueeem8997nPZbbfdMnjw4IwfPz5vvPFGNR8WAAAAqqZ7\n",
              "Ne+8paUlixcvzl//+tdsuummqVQqueWWW7J48eJssskm1XxoAAAAqIqqhfScOXMyderUzJs3L5tu\n",
              "ummSpKGhIccee2y1HhIAAACqrmoh/dhjj2XAgAHZfPPNV2v/9vb2tLe3r7CtsbExjY2N1RgPAAAA\n",
              "Ppa6+bCxSZMmpVevXitcJk2aVOuxAAAAYAUNlUqlUo07njNnTnbffffMnz8/vXv3/p/7OyINAGvG\n",
              "6NGjkyTTpk2r8SQAsHaq2hHp/v37Z8yYMWlpaen8lO5KpZJbb701c+fO/cj+jY2NaWpqWuEiogEA\n",
              "AKg3VT21e8qUKdljjz2y1157Zdddd80uu+yS3//+99lss82q+bAAAABQNVU7tRsAqA2ndgNAddXN\n",
              "h40BAABAVyCkAQAAoICQBgAAgAJCGgAAAAoIaQAAACggpAEAAKCAkAYAAIACQhoAAAAKCGkAAAAo\n",
              "IKQBAACggJAGAACAAkIaAAAACghpAAAAKCCkAQAAoICQBgAAgAJCGgAAAAoIaQAAACggpAEAAKCA\n",
              "kAYAAIACQhoAAAAKCGkAAAAoIKQBAACggJAGAACAAkIaAAAACghpAAAAKCCkAQAAoICQBgAAgAJC\n",
              "GgAAAAoIaQAAACggpAEAAKCAkAYAAIACQhoAAAAKdK/1AADAmtWnT59ajwAAa7WGSqVSqfUQAAAA\n",
              "0FU4tRsAAAAKCGkAAAAoIKQBAACggJAGAACAAkIaAAAACghpAAAAKCCkAQAAoICQ/oTa29tzzjnn\n",
              "pL29vdajwEpZo9Q7a5R6Z41S76xRuoK1bZ02VCqVSq2H6Mreeuut9OrVK2+++WaamppqPQ58hDVK\n",
              "vbNGqXfWKPXOGqUrWNvWqSPSAAAAUEBIAwAAQAEhDQAAAAWE9CfU2NiYH/7wh2lsbKz1KLBS1ij1\n",
              "zhql3lmj1DtrlK5gbVunPmwMAAAACjgiDQAAAAWENAAAABQQ0gAAAFBASBf4xje+kX79+qWhoSFP\n",
              "PPFE5/bnn38+e++9d3baaafsueeeefrpp2s3JOu0la3RpUuX5uijj85OO+2UPfbYIwcddFDmzJlT\n",
              "20FZZ63qeXS5a665Jg0NDbnttts+9dlguVWt0/b29nz961/PgAEDMmjQoJx44om1G5J12qrW6F13\n",
              "3ZWhQ4dm8ODB2W233XLdddfVbkjWWf/ttecrr7ySQw45JAMGDMhuu+2WBx54oMbTfnxCusCXvvSl\n",
              "PPTQQ9l+++1X2D5hwoSMHz8+zz33XM4666ycfPLJtRmQdd6q1uj48ePz7LPP5sknn8xRRx2VU045\n",
              "pUYTsq5b1RpNkra2tlx11VUZMWJEDSaDf1vVOj377LPT0NCQ5557LrNmzcpFF11UowlZ161sjVYq\n",
              "lZx44om59tpr88QTT+SOO+7IhAkTsmTJkhpOyrpqVa89zz777IwYMSLPP/98rrnmmhx//PF5//33\n",
              "azztxyOkCzQ3N6dv374rbHvllVcyc+bMzv+VHjNmTObPn++IHzWxsjW64YYbZtSoUWloaEiSjBgx\n",
              "Im1tbTWYDla+RpNk2bJlOeWUU3LJJZesNV+LQde1snX6zjvvZPLkyTnvvPM6n0+32mqrWowHq3wu\n",
              "bWhoyBtvvJEkeeutt9K7d2/PqXzq/ttrz9/85jc57bTTkiR77rlnPvvZz+b++++v1aifiJD+hObP\n",
              "n5+tt9463bt3T/LhE9h2222XefPm1XgyWLlf/OIXOeqoo2o9Bqzg4osvzj777JNhw4bVehRYqRde\n",
              "eCGbbbZZJk6cmOHDh2e//fbLvffeW+uxoFNDQ0NuvvnmjB49Ottvv3323XffXHfdddlggw1qPRrr\n",
              "uOWvPV977bW8//77K/wnZL9+/bpsN3Wv9QDAp2fixImZM2eOF3/UldmzZ+fWW2/t0u+TYu3X0dGR\n",
              "l156KbvsskvOP//8PP744znooIPy9NNPp0+fPrUeD9LR0ZEf//jHmTZtWpqbm/Poo4/myCOPzKxZ\n",
              "s7L55pvXejzWUf//tee7775b63HWKEekP6Ftt902CxYsSEdHR5IP358yb968bLfddjWeDFZ00UUX\n",
              "Zdq0abn77ruz0UYb1Xoc6PTggw+mra0tAwYMSL9+/TJjxoyMHz8+l19+ea1Hg07bbbddunXrlhNO\n",
              "OCFJMmTIkOywww6ZNWtWjSeDDz3xxBN5+eWX09zcnOTD02b79u2bxx9/vMaTsa76z9eevXv3Tvfu\n",
              "3bNw4cLOfdra2rpsNwnpT2jLLbfM0KFDc/311ydJbr311vTt2zf9+/ev8WTwbxdffHFuvPHG/OEP\n",
              "f8gmm2xS63FgBa2trVmwYEHa2trS1taWESNG5Morr0xra2utR4NOm2++eb74xS/md7/7XZLkxRdf\n",
              "zIsvvpidd965xpPBh5Yf3HnmmWeSJHPmzMkLL7yQgQMH1ngy1kWreu157LHH5oorrkiSPProo/nn\n",
              "P/+Z/fffv0ZTfjINlUqlUushuooJEybkzjvvzMKFC9O7d+9svPHGmTNnTp599tmcfPLJee2119LU\n",
              "1JRrrrkmgwYNqvW4rINWtkb//Oc/Z9ttt82OO+6YjTfeOEnS2NiYhx9+uMbTsi5a1fPo/3fAAQfk\n",
              "9NNPz9FHH12bIVnnrWqdzp07Ny0tLXn11VfTrVu3/OAHP8iYMWNqPS7roFWt0RtvvDETJ05Mt27d\n",
              "smzZsnznO9/J8ccfX+txWcf84x//WOVrz0WLFuWkk07Kiy++mA022CCXXnppDjzwwBpP/PEIaQAA\n",
              "ACjg1G4AAAAoIKQBAACggJAGgDowatSoXHrppR/Zvscee2TatGmf+P5nz56dfv36feL7AQCENADU\n",
              "hZaWllxzzTUrbJs5c2YWLFiQI444okZTAQArI6QBoA4ceeSRmT9/fp566qnObVOmTMm4ceNy0003\n",
              "Za+99srQoUPT3NycJ598Mkly7bXXZuTIkfnyl7+cQYMGZfjw4Zk7d27n7c8555wMGDAgw4YNy003\n",
              "3dS5vaOjIwcffHCGDx+eXXfdNccff3zeeeedJMnzzz+fffbZJ3vssUcGDRqU733ve5/SvwAAdB1C\n",
              "GgDqwPrrr5+TTjopU6ZMSZIsXbo0N954Y4455pjceOONeeCBB/LYY4/lvPPOW+HrbB599NFMnDgx\n",
              "s2bNysiRI3PBBRckSe68885MnTo1f/vb3zJz5sy0tbV13ma99dbLDTfckJkzZ2b27Nnp1atXLrnk\n",
              "kiTJpZdemsMPPzxPPvlkZs2alW9+85uf3j8CAHQR3Ws9AADwoZaWluy///658MILM23atOy88865\n",
              "/fbb8+STT2avvfbq3G/x4sV59913kyRf+MIXssMOO3T+vDyI77333hx33HFpampK8uH3zj700ENJ\n",
              "kkqlkp/97Ge5884709HRkTfffDN77713kqS5uTnf+ta38vbbb2f//ffPyJEjP7W/HwC6CkekAaBO\n",
              "7LLLLunfv3+mT5+eKVOmpKWlJZVKJV/5ylfyxBNPdF4WLFiQHj16JEk23HDDztuvt9566ejoWOl9\n",
              "NzQ0dP58ww035L777sv999+fWbNm5cwzz8zSpUuTJGPGjMlf/vKXDBw4sPPoNACwIiENAHWkpaUl\n",
              "EydOzCOPPJKxY8fmyCOPzPXXX5958+YlSZYtW5aZM2f+z/sZOXJkpk6dmiVLlqRSqeTKK6/s/N3r\n",
              "r7+ezTffPE1NTVmyZEmuvfbazt89//zz6dOnT8aNG5cLL7wwM2bMWON/IwB0dU7tBoA6Mnbs2Jx+\n",
              "+ukZO3Zsevbsmf322y8XXnhhjjnmmHR0dOS9997LYYcdluHDh//X+xk1alQeeeSRDB06NE1NTTn0\n",
              "0EM7fzdu3LjcfvvtGThwYLbYYovst99+eemll5Ikt9xyS66//vpssMEGWbZsWa644oqq/r0A0BU1\n",
              "VCqVSq2HAAAAgK7Cqd0AAABQQEgDAABAASENAAAABYQ0AAAAFBDSAAAAUEBIAwAAQAEhDQAAAAWE\n",
              "NAAAABQQ0gAAAFBASAMAAEABIQ0AAAAF/g/PbKcd1HZyWgAAAABJRU5ErkJggg==\n",
              "\">\n",
              "      </div>\n",
              "      <script type=\"text/javascript\">\n",
              "        (() => {\n",
              "          const chartElement = document.getElementById(\"chart-4598968e-1818-4db1-8778-1bddafbee473\");\n",
              "          async function getCodeForChartHandler(event) {\n",
              "            const chartCodeResponse =  await google.colab.kernel.invokeFunction(\n",
              "                'getCodeForChart', [\"chart-4598968e-1818-4db1-8778-1bddafbee473\"], {});\n",
              "            const responseJson = chartCodeResponse.data['application/json'];\n",
              "            await google.colab.notebook.addCell(responseJson.code, 'code');\n",
              "          }\n",
              "          chartElement.onclick = getCodeForChartHandler;\n",
              "        })();\n",
              "      </script>\n",
              "      <style>\n",
              "        .colab-quickchart-chart-with-code  {\n",
              "            display: block;\n",
              "            float: left;\n",
              "            border: 1px solid transparent;\n",
              "        }\n",
              "\n",
              "        .colab-quickchart-chart-with-code:hover {\n",
              "            cursor: pointer;\n",
              "            border: 1px solid #aaa;\n",
              "        }\n",
              "      </style>"
            ]
          },
          "metadata": {}
        }
      ]
    },
    {
      "cell_type": "code",
      "source": [
        "# Bibloteca numpy para realizar operações\n",
        "#objeto é chamado de array que em portuguê é  vetor\n",
        "import numpy as np\n"
      ],
      "metadata": {
        "id": "sDW_oahDAfRp"
      },
      "execution_count": null,
      "outputs": []
    },
    {
      "cell_type": "code",
      "source": [
        "arr = np.array([1,2,3,4])\n",
        "print(arr * 10)"
      ],
      "metadata": {
        "colab": {
          "base_uri": "https://localhost:8080/"
        },
        "id": "0MABJtWaBMhd",
        "outputId": "b693af37-cbe2-4562-a9cd-49daf1c536e5"
      },
      "execution_count": null,
      "outputs": [
        {
          "output_type": "stream",
          "name": "stdout",
          "text": [
            "[10 20 30 40]\n"
          ]
        }
      ]
    },
    {
      "cell_type": "code",
      "source": [
        "arr * 10"
      ],
      "metadata": {
        "colab": {
          "base_uri": "https://localhost:8080/"
        },
        "id": "n4oCjN6QEH-Q",
        "outputId": "ee12ed26-09fb-4807-a3e6-96e6f72785ba"
      },
      "execution_count": null,
      "outputs": [
        {
          "output_type": "execute_result",
          "data": {
            "text/plain": [
              "array([10, 20, 30, 40])"
            ]
          },
          "metadata": {},
          "execution_count": 30
        }
      ]
    },
    {
      "cell_type": "code",
      "source": [
        "#para transformar altura em uma array\n",
        "alturas = np.array([170,180,160,165,158])"
      ],
      "metadata": {
        "id": "l9hT4R0MFbft"
      },
      "execution_count": null,
      "outputs": []
    },
    {
      "cell_type": "code",
      "source": [
        "#para mostrar a média das alturas\n",
        "np.mean(alturas)"
      ],
      "metadata": {
        "colab": {
          "base_uri": "https://localhost:8080/"
        },
        "id": "t0HxNWiOGFIc",
        "outputId": "9ec9234c-b1b6-4854-a226-56a0ad472eb9"
      },
      "execution_count": null,
      "outputs": [
        {
          "output_type": "execute_result",
          "data": {
            "text/plain": [
              "np.float64(166.6)"
            ]
          },
          "metadata": {},
          "execution_count": 33
        }
      ]
    },
    {
      "cell_type": "markdown",
      "source": [
        "##Usando o Goglee Colab\n",
        "\n",
        " **Isso é Destaque!**\n",
        " - Listas,anotações e explicações ficam junto do código.\n",
        "\n"
      ],
      "metadata": {
        "id": "MUvVuacZEhTw"
      }
    },
    {
      "cell_type": "markdown",
      "source": [
        "## Função Print() e Sintxe Básica"
      ],
      "metadata": {
        "id": "0jfrGzNvKU6b"
      }
    },
    {
      "cell_type": "code",
      "source": [
        "#\n",
        "nome = \"Lucas\"\n",
        "idade = 22\n",
        "print(\"Nome:\",nome,\"Idade:\", idade)"
      ],
      "metadata": {
        "colab": {
          "base_uri": "https://localhost:8080/"
        },
        "id": "vJdmcuSsKQ0L",
        "outputId": "dc1d146a-8463-437c-b4b5-d0642e63fd06"
      },
      "execution_count": null,
      "outputs": [
        {
          "output_type": "stream",
          "name": "stdout",
          "text": [
            "Nome: Lucas Idade: 22\n"
          ]
        }
      ]
    },
    {
      "cell_type": "markdown",
      "source": [
        "##Definindo sua propria função"
      ],
      "metadata": {
        "id": "2rr60oldPNO0"
      }
    },
    {
      "cell_type": "code",
      "source": [
        "#função def\n",
        "# pode colocar vários comandos\n",
        "def saudacao(nome):#parametro da função saudação\n",
        "  print(\"Bem vindo,\" ,nome)\n",
        "  print(\"Benevuto\", nome)"
      ],
      "metadata": {
        "id": "McXk5XpKPVkx"
      },
      "execution_count": null,
      "outputs": []
    },
    {
      "cell_type": "code",
      "source": [
        "#chamar a função\n",
        "saudacao(\"Maria\") #argumento é o nome Maria"
      ],
      "metadata": {
        "colab": {
          "base_uri": "https://localhost:8080/"
        },
        "id": "drlzbVKSRJjG",
        "outputId": "f4764bc1-ac04-4fe6-8665-8c8a728470f0"
      },
      "execution_count": null,
      "outputs": [
        {
          "output_type": "stream",
          "name": "stdout",
          "text": [
            "Bem vindo, Maria\n",
            "Benevuto Maria\n"
          ]
        }
      ]
    },
    {
      "cell_type": "markdown",
      "source": [
        "##Indentação\n",
        "\n",
        "- Tab do teclado"
      ],
      "metadata": {
        "id": "VVn1LtH7TMtH"
      }
    },
    {
      "cell_type": "code",
      "source": [
        "#clica no tab do teclado para deixar o print dentro\n",
        "\n",
        "def saudacao(nome):\n",
        "  print(\"Bem vindo,\" ,nome)\n",
        "  print(\"Benevuto\", nome)"
      ],
      "metadata": {
        "id": "kHm-ubPbTSNg"
      },
      "execution_count": null,
      "outputs": []
    },
    {
      "cell_type": "code",
      "source": [],
      "metadata": {
        "id": "sxZvPJifZps6"
      },
      "execution_count": null,
      "outputs": []
    }
  ]
}