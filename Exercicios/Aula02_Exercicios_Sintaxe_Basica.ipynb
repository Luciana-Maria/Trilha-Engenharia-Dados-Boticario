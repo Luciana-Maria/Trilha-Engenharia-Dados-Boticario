{
  "nbformat": 4,
  "nbformat_minor": 0,
  "metadata": {
    "colab": {
      "provenance": []
    },
    "kernelspec": {
      "name": "python3",
      "display_name": "Python 3"
    },
    "language_info": {
      "name": "python"
    }
  },
  "cells": [
    {
      "cell_type": "markdown",
      "source": [
        "## **Exercício 1 – Identificando Tipos de Dados**\n",
        "\n",
        "| **Variável** | **Tipo correto (int, float, str)** |\n",
        "| --- | --- |\n",
        "| idade | int |\n",
        "| salario | float |\n",
        "| nome | str |\n",
        "| numero_filhos | int |\n",
        "| cidade | int |\n",
        "| altura | float |\n"
      ],
      "metadata": {
        "id": "t0xyldjN3b_I"
      }
    },
    {
      "cell_type": "markdown",
      "source": [
        "## **Exercício 2 – Trabalhando com operadores**\n",
        "\n",
        "```python\n",
        "idade_joao = 22\n",
        "idade_maria = 28\n",
        "salario_joao = 1500.00\n",
        "salario_maria = 2300.25\n",
        "```\n",
        "\n",
        "A) Some as idades:\n",
        "\n",
        "B) Calcule a diferença de Salario entre Maria e João:\n",
        "\n",
        "C) Crie uma variavel que responda se Maria ganha mais que João:"
      ],
      "metadata": {
        "id": "OI7hcnEm3lHr"
      }
    },
    {
      "cell_type": "code",
      "source": [
        "idade_joao = 22\n",
        "idade_maria = 28\n",
        "salario_joao = 1500.00\n",
        "salario_maria = 2300.25\n",
        "\n",
        "# A) Some as idades:\n",
        "soma = idade_joao + idade_maria # 22 + 28 =50\n",
        "print(soma)\n",
        "\n",
        "# B) Calcule a diferença de Salario entre Maria e João:\n",
        "diferenca = salario_maria - salario_joao\n",
        "print(diferenca)\n",
        "\n",
        "# C) Crie uma variavel que responda se Maria ganha mais que João:\n",
        "if salario_maria > salario_joao:\n",
        "  print(\"Maria ganha mais que João\")\n",
        "else:\n",
        "  print(\"Maria não ganha mais que João\")"
      ],
      "metadata": {
        "colab": {
          "base_uri": "https://localhost:8080/"
        },
        "id": "9xtlve20heqW",
        "outputId": "debeb361-222e-47ac-d33d-bf73bb066d60"
      },
      "execution_count": null,
      "outputs": [
        {
          "output_type": "stream",
          "name": "stdout",
          "text": [
            "50\n",
            "800.25\n",
            "Maria ganha mais que João\n"
          ]
        }
      ]
    },
    {
      "cell_type": "code",
      "source": [
        "#Maria ganha mais que João?\n",
        "maria_ganha_mais_que_joão = salario_maria > salario_joao"
      ],
      "metadata": {
        "id": "rqJ8cFgvTbfB"
      },
      "execution_count": null,
      "outputs": []
    },
    {
      "cell_type": "code",
      "source": [
        "maria_ganha_mais_que_joão"
      ],
      "metadata": {
        "colab": {
          "base_uri": "https://localhost:8080/"
        },
        "id": "qoXQtawGUTKc",
        "outputId": "4f1c9093-0fc5-42ac-d4c7-efad1e8fb5db"
      },
      "execution_count": null,
      "outputs": [
        {
          "output_type": "execute_result",
          "data": {
            "text/plain": [
              "True"
            ]
          },
          "metadata": {},
          "execution_count": 8
        }
      ]
    },
    {
      "cell_type": "markdown",
      "source": [
        "## **Exercício 3 – Manipulação de Strings**\n",
        "\n",
        "```python\n",
        "nome = \"  maria da silva  \"\n",
        "email = \"Maria.Silva@EMAIL.com\"\n",
        "```\n",
        "\n",
        "A) Remova os espaços antes e depois do nome:\n",
        "\n",
        "B) Faça com que todas as letras do e-mail sejam minusculas:\n",
        "\n",
        "C) Substitua “silva” por “oliveira”"
      ],
      "metadata": {
        "id": "TpeESJ2T33yW"
      }
    },
    {
      "cell_type": "code",
      "source": [
        "nome = \"  maria da silva  \"\n",
        "email = \"Maria.Silva@EMAIL.com\"\n",
        "\n",
        "# A) Remova os espaços antes e depois do nome:\n",
        "novoNome = nome.strip()\n",
        "print(novoNome)\n",
        "\n",
        "# B) Faça com que todas as letras do e-mail sejam minusculas:\n",
        "novoEmail = email.lower()\n",
        "print(novoEmail)\n",
        "\n",
        "# C) Substitua “silva” por “oliveira”\n",
        "print(novoNome.replace(\"silva\", \"oliveira\"))\n",
        "print(novoEmail.replace(\"silva\", \"oliveira\"))"
      ],
      "metadata": {
        "colab": {
          "base_uri": "https://localhost:8080/"
        },
        "id": "nHvRwptjjI_c",
        "outputId": "6e0c7303-8093-4bb1-efc3-3496b10c05cd"
      },
      "execution_count": null,
      "outputs": [
        {
          "output_type": "stream",
          "name": "stdout",
          "text": [
            "maria da silva\n",
            "maria.silva@email.com\n",
            "maria da oliveira\n",
            "maria.oliveira@email.com\n"
          ]
        }
      ]
    },
    {
      "cell_type": "markdown",
      "source": [
        "## **Exercício 4 – Por que a indentação é importante?**\n",
        "\n",
        "```python\n",
        "idade = 17\n",
        "if idade >= 18:\n",
        "print(\"Maior de idade\")\n",
        "else:\n",
        "print(\"Menor de idade\")\n",
        "```\n",
        "A) Como corrigir? E qual é o motivo do erro?"
      ],
      "metadata": {
        "id": "umTYcYgD39Aj"
      }
    },
    {
      "cell_type": "code",
      "source": [
        "# O motivo do erro é indentação\n",
        "idade = 17\n",
        "\n",
        "if idade >= 18:\n",
        "  print(\"Maior de idade\")\n",
        "else:\n",
        "  print(\"Menor de idade\")"
      ],
      "metadata": {
        "colab": {
          "base_uri": "https://localhost:8080/"
        },
        "id": "kP0MWPhqlnzH",
        "outputId": "599bc314-b690-43c3-af2b-f8944069ad88"
      },
      "execution_count": null,
      "outputs": [
        {
          "output_type": "stream",
          "name": "stdout",
          "text": [
            "Menor de idade\n"
          ]
        }
      ]
    },
    {
      "cell_type": "markdown",
      "source": [
        "## **Exercício 5 – Refletindo**\n",
        "\n",
        "Responda verdadeiro ou falso\n",
        "\n",
        "a) O tipo float armazena qualquer número com parte decimal.\n",
        "**~~Verdadeiro**\n",
        "\n",
        "b) O operador **`==`** compara igualdade de valores.\n",
        "**~~Verdadeiro**\n",
        "\n",
        "c) O método **`.replace`** substitui trechos em strings.\n",
        "**~~Verdadeiro**\n",
        "\n",
        "d) Variáveis int aceitam apenas números inteiros, sem letras.\n",
        "**~~Verdadeiro**\n",
        "\n",
        "e) A indentação em Python é obrigatória, pois define os blocos de código (não é só estética!).\n",
        "**~~Verdadeiro**"
      ],
      "metadata": {
        "id": "CNkW_3nz4cua"
      }
    },
    {
      "cell_type": "markdown",
      "source": [
        "## **Exercício 6 – Explorando na Prática**\n",
        "\n",
        "```python\n",
        "nome1 = \"  JoANA \"\n",
        "nome2 = \"CAMILA\"\n",
        "nome3 = \"lucas\"\n",
        "```\n",
        "\n",
        "A) Elimine os espaços extras de todos os nomes:\n",
        "\n",
        "B) Padronize todos os nomes com a primeira letra maiúscula:"
      ],
      "metadata": {
        "id": "A3SX6Lsa4nGG"
      }
    },
    {
      "cell_type": "code",
      "source": [
        "nome1 = \"  JoANA \"\n",
        "nome2 = \"CAMILA\"\n",
        "nome3 = \"lucas\"\n",
        "\n",
        "print(nome1)\n",
        "print(nome2)\n",
        "print(nome3)"
      ],
      "metadata": {
        "colab": {
          "base_uri": "https://localhost:8080/"
        },
        "id": "dqYTEOVY0kt4",
        "outputId": "cb398c0e-8488-4c51-cf1f-cf7bc056609b"
      },
      "execution_count": null,
      "outputs": [
        {
          "output_type": "stream",
          "name": "stdout",
          "text": [
            "  JoANA \n",
            "CAMILA\n",
            "lucas\n"
          ]
        }
      ]
    },
    {
      "cell_type": "code",
      "source": [
        "# A) Elimine os espaços extras de todos os nomes:\n",
        "nome1_strip = nome1.strip()\n",
        "nome2_strip = nome2.strip()\n",
        "nome3_strip = nome3.strip()\n",
        "\n",
        "print(nome1_strip )\n",
        "print(nome2_strip )\n",
        "print(nome3_strip )"
      ],
      "metadata": {
        "colab": {
          "base_uri": "https://localhost:8080/"
        },
        "id": "X94kLHdN1Vjn",
        "outputId": "7f2a56c0-841e-4ad3-eff8-519ad04162d6"
      },
      "execution_count": null,
      "outputs": [
        {
          "output_type": "stream",
          "name": "stdout",
          "text": [
            "JoANA\n",
            "CAMILA\n",
            "lucas\n"
          ]
        }
      ]
    },
    {
      "cell_type": "code",
      "source": [
        "# B) Para Padronar todos os nomes com a primeira letra maiúscula utilize a função capitalize():\n",
        "nome1_cap = nome1_strip.capitalize()\n",
        "nome2_cap = nome2_strip.capitalize()\n",
        "nome3_cap = nome3_strip.capitalize()\n",
        "\n",
        "print(nome1_cap)\n",
        "print(nome2_cap)\n",
        "print(nome3_cap)"
      ],
      "metadata": {
        "colab": {
          "base_uri": "https://localhost:8080/"
        },
        "id": "nNijm0fznX8U",
        "outputId": "fc646fa4-a5b8-4521-bdcd-39a0dfb4a9ce"
      },
      "execution_count": null,
      "outputs": [
        {
          "output_type": "stream",
          "name": "stdout",
          "text": [
            "Joana\n",
            "Camila\n",
            "Lucas\n"
          ]
        }
      ]
    },
    {
      "cell_type": "code",
      "source": [
        "#Resolvendo as duas quetões de uma só vez com as funções:\n",
        "#strip() elimina espaço no inicio e final\n",
        "#capitalize() coloca a primeira letra em maiúscula\n",
        "\n",
        "nome1 = \"  JoANA \"\n",
        "nome2 = \"CAMILA\"\n",
        "nome3 = \"lucas\"\n",
        "\n",
        "#Padronizar espaço strip() e Primeira letra maiúscula capitalize()\n",
        "nome1_padrao = nome1.strip().capitalize()\n",
        "nome2_padrao = nome2.strip().capitalize()\n",
        "nome3_padrao = nome3.strip().capitalize()\n",
        "\n",
        "print(nome1_padrao)\n",
        "print(nome2_padrao)\n",
        "print(nome3_padrao)"
      ],
      "metadata": {
        "colab": {
          "base_uri": "https://localhost:8080/"
        },
        "id": "MvVDRs_xDSdN",
        "outputId": "af664a89-b09e-45bd-a61c-2046455e45ce"
      },
      "execution_count": null,
      "outputs": [
        {
          "output_type": "stream",
          "name": "stdout",
          "text": [
            "Joana\n",
            "Camila\n",
            "Lucas\n"
          ]
        }
      ]
    }
  ]
}