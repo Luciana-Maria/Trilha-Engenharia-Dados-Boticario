{
  "nbformat": 4,
  "nbformat_minor": 0,
  "metadata": {
    "colab": {
      "provenance": []
    },
    "kernelspec": {
      "name": "python3",
      "display_name": "Python 3"
    },
    "language_info": {
      "name": "python"
    }
  },
  "cells": [
    {
      "cell_type": "markdown",
      "source": [
        "## **Exercício 1 – Identificando Blocos e Indentação**\n",
        "\n",
        "Observe o código abaixo:\n",
        "\n",
        "```python\n",
        "idade = 15\n",
        "\n",
        "if idade >= 18:\n",
        "    print(\"Pode entrar na festa\")\n",
        "else:\n",
        "print(\"Entrada não permitida\")\n",
        "```\n",
        "\n",
        "**a) O que está errado:**\n",
        "\n",
        " O print do else não está indentado\n",
        "\n",
        "**b) Indentação correta:**"
      ],
      "metadata": {
        "id": "AKTnACRi5mQj"
      }
    },
    {
      "cell_type": "code",
      "source": [
        "idade = 15\n",
        "\n",
        "if idade >= 18:\n",
        "  print(\"Pode entrar na festa\")\n",
        "else:\n",
        "  print(\"Entrada não permitida\")"
      ],
      "metadata": {
        "colab": {
          "base_uri": "https://localhost:8080/"
        },
        "id": "cVXAy-SDhrFg",
        "outputId": "9bfee0df-3d27-42d4-bbd0-7b6f8b1c034a"
      },
      "execution_count": null,
      "outputs": [
        {
          "output_type": "stream",
          "name": "stdout",
          "text": [
            "Entrada não permitida\n"
          ]
        }
      ]
    },
    {
      "cell_type": "markdown",
      "source": [
        "## **Exercício 2 – If, Else e Elif na Prática**\n",
        "\n",
        "### Complete o código para que ele classifique a nota de um aluno conforme o seguinte critério:\n",
        "\n",
        "- Nota menor que 6: \"Reprovado\"\n",
        "- Nota entre 6 e 7, inclusive: \"Recuperação\"\n",
        "- Nota maior que 7: \"Aprovado\"\n",
        "\n",
        "```python\n",
        "nota = float(input(\"Digite a nota: \"))\n",
        "\n",
        "if ___________________________:\n",
        "    print(\"Reprovado\")\n",
        "elif _________________________:\n",
        "    print(\"Recuperação\")\n",
        "else:\n",
        "    print(\"Aprovado\")\n",
        "```"
      ],
      "metadata": {
        "id": "5IoJXDP75vAp"
      }
    },
    {
      "cell_type": "code",
      "source": [
        "nota = float(input(\"Digite a nota: \"))\n",
        "\n",
        "if nota < 6:\n",
        "    print(\"Reprovado\")\n",
        "elif nota >= 6 or nota <= 7:\n",
        "    print(\"Recuperação\")\n",
        "else:\n",
        "    print(\"Aprovado\")"
      ],
      "metadata": {
        "colab": {
          "base_uri": "https://localhost:8080/"
        },
        "id": "9XW_6dRWhnE-",
        "outputId": "5a409173-1d39-464e-d0fe-b17b1db80d4e"
      },
      "execution_count": null,
      "outputs": [
        {
          "output_type": "stream",
          "name": "stdout",
          "text": [
            "Digite a nota: 9\n",
            "Recuperação\n"
          ]
        }
      ]
    },
    {
      "cell_type": "markdown",
      "source": [
        "## Exercício 3 – Operadores Lógicos\n",
        "\n",
        "Dado o código:\n",
        "\n",
        "```python\n",
        "idade = 25\n",
        "tem_carteira = True\n",
        "\n",
        "if idade >= 18 and tem_carteira:\n",
        "    print(\"Pode dirigir\")\n",
        "else:\n",
        "    print(\"Não pode dirigir\")\n",
        "```\n",
        "\n",
        "**a) O que será impresso se a idade for 16 e tem_carteira for True?**\n",
        "Não pode dirigir\n",
        "\n",
        "**b) E se idade for 30 e tem_carteira for False?**\n",
        "Não pode dirigir\n",
        "\n",
        "**c) O que aconteceria se usássemos or invés de and no if?**\n",
        "A saída seria Pode dirigir para os casos anteriores e só teria saida Não pode dirigir para o caso idade < 18 e tem_carteira = False"
      ],
      "metadata": {
        "id": "Pg8hdCL054PO"
      }
    },
    {
      "cell_type": "markdown",
      "source": [
        "## **Exercício 4 – O operador in**\n",
        "\n",
        "Considere a lista de cidades abaixo:\n",
        "\n",
        "```python\n",
        "cidades = [\"Recife\", \"Maceió\", \"Natal\"]\n",
        "cidade_usuario = input(\"Digite o nome da sua cidade: \")\n",
        "```\n",
        "\n",
        "a) Escreva um if para exibir \"Cidade atendida\" se a cidade informada estiver na lista e \"Cidade não atendida\" caso contrário."
      ],
      "metadata": {
        "id": "SJQOXi_I5-Pr"
      }
    },
    {
      "cell_type": "code",
      "source": [
        "cidades = [\"Recife\", \"Maceió\", \"Natal\"]\n",
        "cidade_usuario = input(\"Digite o nome da sua cidade: \")\n",
        "\n",
        "if cidade_usuario in cidades:\n",
        "  print(\"Cidade atendida\")\n",
        "else:\n",
        "  print(\"Cidade não atendida\")"
      ],
      "metadata": {
        "colab": {
          "base_uri": "https://localhost:8080/"
        },
        "id": "fJ0t-i-uj_UH",
        "outputId": "fd35a8e9-6978-4552-c380-babcd29ae2dc"
      },
      "execution_count": null,
      "outputs": [
        {
          "output_type": "stream",
          "name": "stdout",
          "text": [
            "Digite o nome da sua cidade: Porto Alegre\n",
            "Cidade não atendida\n"
          ]
        }
      ]
    },
    {
      "cell_type": "markdown",
      "source": [
        "## **Exercício 5 – Depurando/Debugging**\n",
        "\n",
        "O código abaixo deveria avisar se um nome contém a letra \"a\". No entanto, não funciona como esperado para alguns nomes. Identifique o erro e corrija:\n",
        "\n",
        "```python\n",
        "nome = input(\"Digite um nome: \")\n",
        "if \"a\" in nome:\n",
        "    print(\"O nome contém a letra a\")\n",
        "else:\n",
        "    print(\"O nome não contém a letra a\")\n",
        "```\n",
        "\n",
        "**a) Teste com o nome \"Ana\". O que acontece?**\n",
        "O nome contém a letra a.\n",
        "\n",
        "**b) Como corrigir para funcionar independentemente de maiúsculas/minúsculas?**"
      ],
      "metadata": {
        "id": "Nw2tQXyS6F2N"
      }
    },
    {
      "cell_type": "code",
      "source": [
        "nome = input(\"Digite um nome: \")\n",
        "if \"a\" in nome.lower():\n",
        "    print(\"O nome contém a letra a\")\n",
        "else:\n",
        "    print(\"O nome não contém a letra a\")"
      ],
      "metadata": {
        "colab": {
          "base_uri": "https://localhost:8080/"
        },
        "id": "TlpOyT13ki5J",
        "outputId": "7543052e-b93d-4ac7-a2e8-439c420efe6f"
      },
      "execution_count": null,
      "outputs": [
        {
          "output_type": "stream",
          "name": "stdout",
          "text": [
            "Digite um nome: ANA\n",
            "O nome contém a letra a\n"
          ]
        }
      ]
    },
    {
      "cell_type": "markdown",
      "source": [
        "## **Exercício 6 – Expressão Ternária**\n",
        "\n",
        "Reescreva o if-else abaixo em uma linha usando expressão ternária:\n",
        "\n",
        "```python\n",
        "idade = 20\n",
        "if idade >= 18:\n",
        "    status = \"maior de idade\"\n",
        "else:\n",
        "    status = \"menor de idade\"\n",
        "    \n",
        "```"
      ],
      "metadata": {
        "id": "OLL2785s6PMX"
      }
    },
    {
      "cell_type": "code",
      "source": [
        "idade = 20\n",
        "\n",
        "status = \"maior de idade\" if idade >= 18 else \"menor de idade\"\n",
        "print(status)"
      ],
      "metadata": {
        "colab": {
          "base_uri": "https://localhost:8080/"
        },
        "id": "khm89yaPp02i",
        "outputId": "42f7b046-8650-45aa-9e32-b3ca2d50d591"
      },
      "execution_count": null,
      "outputs": [
        {
          "output_type": "stream",
          "name": "stdout",
          "text": [
            "maior de idade\n"
          ]
        }
      ]
    },
    {
      "cell_type": "markdown",
      "source": [
        "## **Exercício 7 – Situação do Campeonato**\n",
        "\n",
        "Você recebe um dicionário que indica o número de pontos de três times em um campeonato:\n",
        "\n",
        "```python\n",
        "times = {\"Azul\": 13, \"Verde\": 17, \"Vermelho\": 15}\n",
        "```\n",
        "\n",
        "a) Escreva um código que imprime qual time está em primeiro lugar (maior pontuação).\n",
        "\n",
        "b) E, se houver empate no primeiro lugar, deve imprimir \"Empate no topo!\"."
      ],
      "metadata": {
        "id": "FALxlaLp6WPI"
      }
    },
    {
      "cell_type": "code",
      "source": [
        "# Encontrar o time com a maior pontuação\n",
        "primeiro_lugar = max(times, key=times.get)\n",
        "\n",
        "# Obter a pontuação do primeiro lugar\n",
        "pontuacao_primeiro_lugar = times[primeiro_lugar]\n",
        "\n",
        "# Verificar se há empate no primeiro lugar\n",
        "times_em_primeiro = [time for time, pontuacao in times.items() if pontuacao == pontuacao_primeiro_lugar]\n",
        "\n",
        "print(\"Empate no topo!\") if len(times_em_primeiro) > 1 else print(f\"O time em primeiro lugar é: {primeiro_lugar}\")"
      ],
      "metadata": {
        "colab": {
          "base_uri": "https://localhost:8080/"
        },
        "id": "GmWKnPXpr2ZC",
        "outputId": "59d88d61-a0a5-46d5-c6f8-f398616588bd"
      },
      "execution_count": null,
      "outputs": [
        {
          "output_type": "stream",
          "name": "stdout",
          "text": [
            "O time em primeiro lugar é: Verde\n"
          ]
        }
      ]
    }
  ]
}