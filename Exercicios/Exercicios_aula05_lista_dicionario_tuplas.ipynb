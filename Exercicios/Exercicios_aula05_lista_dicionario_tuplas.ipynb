{
  "nbformat": 4,
  "nbformat_minor": 0,
  "metadata": {
    "colab": {
      "provenance": []
    },
    "kernelspec": {
      "name": "python3",
      "display_name": "Python 3"
    },
    "language_info": {
      "name": "python"
    }
  },
  "cells": [
    {
      "cell_type": "markdown",
      "source": [
        "## **Exercício 1 – Manipulação de Listas**\n",
        "\n",
        "Dada a lista:\n",
        "\n",
        "```python\n",
        "frutas = [\"maçã\", \"banana\", \"laranja\"]\n",
        "```\n",
        "\n",
        "a) Adicione a fruta \"uva\" ao final da lista usando o método apropriado.\n",
        "\n",
        "b) Remova a fruta \"banana\" da lista usando o método adequado.\n",
        "\n",
        "c) Substitua \"laranja\" por \"manga\" (modifique na mesma posição).\n",
        "\n",
        "d) Exiba o número de itens na lista após as modificações."
      ],
      "metadata": {
        "id": "2kFngYxO6uRs"
      }
    },
    {
      "cell_type": "markdown",
      "source": [
        "## **Exercício 2 – Acessando e Fatiando Listas**\n",
        "\n",
        "Com a lista abaixo:\n",
        "\n",
        "```python\n",
        "numeros = [10, 20, 30, 40, 50, 60]\n",
        "```\n",
        "\n",
        "a) Exiba o primeiro e o último elemento.\n",
        "\n",
        "b) Crie uma nova lista chamada **meio** que contenha os elementos do meio (20, 30, 40, 50) usando fatia (slice)."
      ],
      "metadata": {
        "id": "xI5eqxY36wb6"
      }
    },
    {
      "cell_type": "markdown",
      "source": [
        "## **Exercício 3 – Usando Dicionários**\n",
        "\n",
        "Considere o dicionário abaixo:\n",
        "\n",
        "```python\n",
        "aluno = {\"nome\": \"José\", \"idade\": 18, \"cidade\": \"Recife\"}\n",
        "```\n",
        "\n",
        "a) Exiba o nome do aluno.\n",
        "\n",
        "b) Adicione ao dicionário um novo campo chamado \"curso\" com valor \"Engenharia\".\n",
        "\n",
        "c) Modifique a idade para 19 anos.\n",
        "\n",
        "d) Remova o campo \"cidade\" do dicionário.\n",
        "\n",
        "e) Liste todas as chaves que existem no dicionário após as modificações."
      ],
      "metadata": {
        "id": "AiT1JedP61so"
      }
    },
    {
      "cell_type": "markdown",
      "source": [
        "## **Exercício 4 – Contando Frequência com Dicionário**\n",
        "\n",
        "Dada a lista:\n",
        "\n",
        "```python\n",
        "animais = [\"gato\", \"cachorro\", \"pássaro\", \"gato\", \"gato\", \"cachorro\"]\n",
        "```\n",
        "\n",
        "Crie um dicionário chamado **contagem** que armazena a quantidade de vezes que cada animal aparece na lista."
      ],
      "metadata": {
        "id": "YRp8uOHG65ad"
      }
    },
    {
      "cell_type": "markdown",
      "source": [
        "## **Exercício 5 – Tuplas: Acesso e Imutabilidade**\n",
        "\n",
        "Dada a tupla:\n",
        "\n",
        "```python\n",
        "pessoa = (\"Maria\", 35, \"São Paulo\")\n",
        "```\n",
        "\n",
        "a) Exiba apenas o nome e a cidade usando índices.\n",
        "\n",
        "b) Tente trocar a idade para 36: o que acontece?\n",
        "\n",
        "c) Cite uma situação em que seria melhor usar uma tupla em vez de uma lista."
      ],
      "metadata": {
        "id": "0lwrVWnI6-V4"
      }
    },
    {
      "cell_type": "markdown",
      "source": [
        "## **Exercício 6 – Escolhendo a Estrutura**\n",
        "\n",
        "### Para cada situação a seguir, diga se usaria uma **lista**, um **dicionário** ou uma **tupla**. Justifique sua resposta em poucas palavras.\n",
        "\n",
        "a) Armazenar pares de coordenadas (latitude, longitude) que não devem ser alterados.\n",
        "\n",
        "b) Representar uma lista de compras que o usuário pode adicionar e remover itens.\n",
        "\n",
        "c) Relacionar códigos de funcionários a seus nomes em uma empresa.\n",
        "\n",
        "d) Guardar a data de nascimento de alguém (ano, mês, dia)."
      ],
      "metadata": {
        "id": "POBWq9th7B0N"
      }
    }
  ]
}