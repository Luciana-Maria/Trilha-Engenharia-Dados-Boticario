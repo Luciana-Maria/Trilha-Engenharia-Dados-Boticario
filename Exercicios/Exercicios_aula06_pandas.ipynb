{
  "nbformat": 4,
  "nbformat_minor": 0,
  "metadata": {
    "colab": {
      "provenance": []
    },
    "kernelspec": {
      "name": "python3",
      "display_name": "Python 3"
    },
    "language_info": {
      "name": "python"
    }
  },
  "cells": [
    {
      "cell_type": "markdown",
      "source": [
        "## **Exercício 1 – Conceitos básicos**\n",
        "\n",
        "**a) Por que usar o Pandas é importante para quem trabalha com análise de dados?**\n",
        "\n",
        "**b) Qual a diferença entre uma Series e um DataFrame no Pandas?**"
      ],
      "metadata": {
        "id": "aSDbsZts7pG0"
      }
    },
    {
      "cell_type": "markdown",
      "source": [
        "## **Exercício 2 – Instalação e importação**\n",
        "\n",
        "**a) Comando para instalar Pandas no terminal:**\n",
        "\n",
        "**b) Linha de código para importar a biblioteca com o apelido \"pd\":**"
      ],
      "metadata": {
        "id": "Yc0o-d9X7vHd"
      }
    },
    {
      "cell_type": "markdown",
      "source": [
        "## **Exercício 3 – Criando Series**\n",
        "\n",
        "**a) Importe o Pandas e crie uma Series chamada idades com os valores [18, 22, 35, 50].**\n",
        "\n",
        "**b) Dê a cada elemento da Series um índice personalizado: ['Ana', 'Bruno', 'Carlos', 'Diana'].**\n",
        "\n",
        "**c) Acesse a idade de \"Carlos\" usando o índice.**\n"
      ],
      "metadata": {
        "id": "W3yuDvWw74JY"
      }
    },
    {
      "cell_type": "markdown",
      "source": [
        "## **Exercício 4 – Operando Series**\n",
        "\n",
        "Considere as Series abaixo:\n",
        "\n",
        "```python\n",
        "import pandas as pd\n",
        "\n",
        "s1 = pd.Series([2, 4, 6], index=[\"a\", \"b\", \"c\"])\n",
        "s2 = pd.Series([1, 2, 3], index=[\"b\", \"c\", \"d\"])\n",
        "```\n",
        "\n",
        "**a) Calcule s1 + s2 e explique (em uma frase) o que acontece com os índices não coincidentes.**"
      ],
      "metadata": {
        "id": "PC8bzZ1y8IPC"
      }
    },
    {
      "cell_type": "markdown",
      "source": [
        "## **Exercício 5 – Criando e explorando DataFrames**\n",
        "\n",
        "**a) Crie um DataFrame (chamado df) com 3 linhas e 2 colunas: nomes ['João', 'Maria', 'Pedro'] e idades [25, 30, 22].**\n",
        "\n",
        "**b) Exiba as 2 primeiras linhas do DataFrame usando o método apropriado.**"
      ],
      "metadata": {
        "id": "cV8uGmYb8PYv"
      }
    },
    {
      "cell_type": "markdown",
      "source": [
        "## **Exercício 6 – Lendo arquivos CSV (teórico)**\n",
        "\n",
        "**a) Qual comando Pandas é usado para ler um arquivo CSV chamado “dados.csv” para um DataFrame chamado “df”?**\n",
        "\n",
        "**b) Após carregar, qual comando você usaria para ver informações como o número de linhas, colunas e tipos de cada coluna?**\n",
        "\n"
      ],
      "metadata": {
        "id": "st5F-aJq8bWo"
      }
    },
    {
      "cell_type": "markdown",
      "source": [
        "## **Exercício 7 – Análise inicial de dados em DataFrames**\n",
        "\n",
        "Após carregar um DataFrame do Pandas, quais métodos você usaria para:\n",
        "\n",
        "**a) Ver as últimas 3 linhas dos dados;**\n",
        "\n",
        "**b) Saber quantas linhas e colunas o DataFrame possui;**\n",
        "\n",
        "**c) Verificar rapidamente se existe algum campo não preenchido (nulo) no DataFrame?**"
      ],
      "metadata": {
        "id": "lwgvVWqe8ize"
      }
    },
    {
      "cell_type": "markdown",
      "source": [],
      "metadata": {
        "id": "K-HnTVeQ8w4Q"
      }
    }
  ]
}