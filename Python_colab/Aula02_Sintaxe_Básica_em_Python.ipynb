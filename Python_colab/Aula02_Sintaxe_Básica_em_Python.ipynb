{
  "cells": [
    {
      "cell_type": "markdown",
      "metadata": {
        "id": "ozQin-VAcgLD"
      },
      "source": [
        "# 1. Tipos de Dados Básicos"
      ]
    },
    {
      "cell_type": "markdown",
      "metadata": {
        "id": "Ouo0OYzkSVcv"
      },
      "source": [
        "Exemplo 1 — Variáveis e tipos essenciais"
      ]
    },
    {
      "cell_type": "code",
      "execution_count": null,
      "metadata": {
        "colab": {
          "base_uri": "https://localhost:8080/"
        },
        "id": "9pXEBcIzRq1K",
        "outputId": "0991884f-3906-4ce2-b949-bb3ea606b53e"
      },
      "outputs": [
        {
          "name": "stdout",
          "output_type": "stream",
          "text": [
            "<class 'int'> <class 'float'> <class 'str'> <class 'bool'>\n"
          ]
        }
      ],
      "source": [
        "idade = 25          # int\n",
        "altura = 1.75       # float\n",
        "nome = \"Maria\"      # str\n",
        "aprovado = True     # bool\n",
        "\n",
        "print(type(idade), type(altura), type(nome), type(aprovado)) #para saber o tipo da função colocar o type()"
      ]
    },
    {
      "cell_type": "markdown",
      "metadata": {
        "id": "J8Ai1ikuSgPD"
      },
      "source": [
        "\n",
        "Exemplo 2 — Demonstração prática do tipo booleano\n",
        "\n"
      ]
    },
    {
      "cell_type": "code",
      "source": [
        "idade = 19"
      ],
      "metadata": {
        "id": "UOBfrTUG0SOA"
      },
      "execution_count": 4,
      "outputs": []
    },
    {
      "cell_type": "code",
      "source": [
        "idade >= 18"
      ],
      "metadata": {
        "colab": {
          "base_uri": "https://localhost:8080/"
        },
        "id": "C6DBz1cP0UsT",
        "outputId": "e96e3c24-160b-4bf1-9446-1b516a86d399"
      },
      "execution_count": 5,
      "outputs": [
        {
          "output_type": "execute_result",
          "data": {
            "text/plain": [
              "True"
            ]
          },
          "metadata": {},
          "execution_count": 5
        }
      ]
    },
    {
      "cell_type": "code",
      "source": [
        "idade < 18"
      ],
      "metadata": {
        "colab": {
          "base_uri": "https://localhost:8080/"
        },
        "id": "DpfHNNbu0apY",
        "outputId": "dde0971a-64a2-4ef2-9c35-bf8359fab604"
      },
      "execution_count": 7,
      "outputs": [
        {
          "output_type": "execute_result",
          "data": {
            "text/plain": [
              "False"
            ]
          },
          "metadata": {},
          "execution_count": 7
        }
      ]
    },
    {
      "cell_type": "code",
      "execution_count": 8,
      "metadata": {
        "colab": {
          "base_uri": "https://localhost:8080/"
        },
        "id": "DuJIS9McSd3g",
        "outputId": "59ad325c-97d9-4387-b5cd-dc764d2596c8"
      },
      "outputs": [
        {
          "output_type": "stream",
          "name": "stdout",
          "text": [
            "É maior de idade? True\n"
          ]
        }
      ],
      "source": [
        "# Intuição do booleano no controle de fluxo\n",
        "idade = 19\n",
        "maioridade = idade >= 18\n",
        "print(\"É maior de idade?\", maioridade)"
      ]
    },
    {
      "cell_type": "code",
      "source": [
        "if idade >= 18:\n",
        "  print(\"OI\")\n",
        "else:\n",
        "  print(\"Tchau\")"
      ],
      "metadata": {
        "colab": {
          "base_uri": "https://localhost:8080/"
        },
        "id": "zUE9leck0z3w",
        "outputId": "b5454532-eb98-4334-afac-19619541a881"
      },
      "execution_count": 9,
      "outputs": [
        {
          "output_type": "stream",
          "name": "stdout",
          "text": [
            "OI\n"
          ]
        }
      ]
    },
    {
      "cell_type": "code",
      "source": [
        "# atribuir a variável idade a vários valores\n",
        "idade = 18 # idade vale 18\n",
        "idade = 10 # agora idade vale 10\n",
        "idade = 7 # passou a vale 7\n",
        "print(idade) # vai mostrar 7 porque foi o último número da execução"
      ],
      "metadata": {
        "colab": {
          "base_uri": "https://localhost:8080/"
        },
        "id": "kxGnCgeN9XH7",
        "outputId": "187bb213-1e94-4a9d-d36f-e7dd50c0f035"
      },
      "execution_count": 10,
      "outputs": [
        {
          "output_type": "stream",
          "name": "stdout",
          "text": [
            "7\n"
          ]
        }
      ]
    },
    {
      "cell_type": "markdown",
      "metadata": {
        "id": "LDAbqkqRXAHr"
      },
      "source": [
        "# 2. Operadores e Expressões"
      ]
    },
    {
      "cell_type": "markdown",
      "metadata": {
        "id": "b2oZUTtbWTQC"
      },
      "source": [
        "Exemplo 1 — Operadores aritméticos"
      ]
    },
    {
      "cell_type": "code",
      "execution_count": 11,
      "metadata": {
        "colab": {
          "base_uri": "https://localhost:8080/"
        },
        "id": "qkdki_EFXENq",
        "outputId": "710a27d0-7b75-4279-82d4-f655b84d07f4"
      },
      "outputs": [
        {
          "output_type": "stream",
          "name": "stdout",
          "text": [
            "18\n",
            "8\n",
            "65\n",
            "2.6\n",
            "2\n",
            "3\n",
            "371293\n"
          ]
        }
      ],
      "source": [
        "a = 13\n",
        "b = 5\n",
        "\n",
        "print(a + b)    # soma\n",
        "print(a - b)    # subtração\n",
        "print(a * b)    # multiplicação\n",
        "print(a / b)    # divisão real\n",
        "print(a // b)   # divisão inteira\n",
        "print(a % b)    # resto da divisão (módulo)\n",
        "print(a ** b)   # potência"
      ]
    },
    {
      "cell_type": "code",
      "source": [
        "if a % 2 == 0: # se o resto da divisão for 0 o número é par\n",
        "  print(\"par\")\n",
        "else:\n",
        "  print(\"impar\")"
      ],
      "metadata": {
        "colab": {
          "base_uri": "https://localhost:8080/"
        },
        "id": "CQp0MAyz-4BH",
        "outputId": "a74a8c8b-126d-4bf2-dde3-6eeb37640083"
      },
      "execution_count": 13,
      "outputs": [
        {
          "output_type": "stream",
          "name": "stdout",
          "text": [
            "impar\n"
          ]
        }
      ]
    },
    {
      "cell_type": "markdown",
      "metadata": {
        "id": "jkUQNEtAcbia"
      },
      "source": [
        "Exemplo prático (divisão inteira e resto)"
      ]
    },
    {
      "cell_type": "code",
      "execution_count": null,
      "metadata": {
        "colab": {
          "base_uri": "https://localhost:8080/"
        },
        "id": "P5p2WFGNc0Ww",
        "outputId": "32947b57-e7a5-49db-94ec-8c75c3e24d3b"
      },
      "outputs": [
        {
          "name": "stdout",
          "output_type": "stream",
          "text": [
            "Cada criança recebe: 4 balas\n",
            "Sobraram: 1 balas\n"
          ]
        }
      ],
      "source": [
        "# Exemplo real: Dividir 17 balas entre 4 crianças\n",
        "balas = 17\n",
        "criancas = 4\n",
        "por_crianca = balas // criancas\n",
        "sobraram = balas % criancas\n",
        "\n",
        "print(\"Cada criança recebe:\", por_crianca, \"balas\")\n",
        "print(\"Sobraram:\", sobraram, \"balas\")\n"
      ]
    },
    {
      "cell_type": "markdown",
      "metadata": {
        "id": "BoPNE5h_fVwk"
      },
      "source": [
        "Exemplo 3 — Operadores lógicos"
      ]
    },
    {
      "cell_type": "code",
      "execution_count": 14,
      "metadata": {
        "colab": {
          "base_uri": "https://localhost:8080/"
        },
        "id": "1DeFRPGcfX37",
        "outputId": "18e68d50-e604-4147-ee12-0dd41581a457"
      },
      "outputs": [
        {
          "output_type": "stream",
          "name": "stdout",
          "text": [
            "True\n",
            "False\n",
            "False\n"
          ]
        }
      ],
      "source": [
        "a = 10\n",
        "b = 20\n",
        "print(a > 5 and b < 30)   # True por as duas condições são verdadeiras\n",
        "print(a < 5 or b > 30)    # False porque as duas condições precisam ser falso\n",
        "print(not (a == 10))      # False porque está negando que a é igual a 10"
      ]
    },
    {
      "cell_type": "code",
      "source": [
        "print(a < 5 or b < 30) #True uma condição for verdadeira o resultado é True"
      ],
      "metadata": {
        "colab": {
          "base_uri": "https://localhost:8080/"
        },
        "id": "FqahQCyqBXRM",
        "outputId": "9564d6c5-e105-4a87-8cbd-fe6f1606dd57"
      },
      "execution_count": 15,
      "outputs": [
        {
          "output_type": "stream",
          "name": "stdout",
          "text": [
            "True\n"
          ]
        }
      ]
    },
    {
      "cell_type": "code",
      "source": [
        "print(a < 5 or b > 30) # duas condições falsos"
      ],
      "metadata": {
        "colab": {
          "base_uri": "https://localhost:8080/"
        },
        "id": "Y7VKdF7XCDOs",
        "outputId": "add13ea0-f342-492d-e123-276d84cbf944"
      },
      "execution_count": 16,
      "outputs": [
        {
          "output_type": "stream",
          "name": "stdout",
          "text": [
            "False\n"
          ]
        }
      ]
    },
    {
      "cell_type": "markdown",
      "metadata": {
        "id": "yBJbw89m8gBn"
      },
      "source": [
        "Exemplo: Para dirigir é preciso ter mais de 18 e carteira de habilitação"
      ]
    },
    {
      "cell_type": "code",
      "execution_count": 17,
      "metadata": {
        "colab": {
          "base_uri": "https://localhost:8080/"
        },
        "id": "BI_Sl7-98kDs",
        "outputId": "f33c8c35-ea17-4f7e-b051-3066f23676e9"
      },
      "outputs": [
        {
          "output_type": "stream",
          "name": "stdout",
          "text": [
            "Pode dirigir.\n"
          ]
        }
      ],
      "source": [
        "idade = 20\n",
        "tem_carteira = True\n",
        "\n",
        "if idade >= 18 and tem_carteira:\n",
        "    print(\"Pode dirigir.\")\n",
        "else:\n",
        "    print(\"Não pode dirigir.\")\n"
      ]
    },
    {
      "cell_type": "markdown",
      "metadata": {
        "id": "7vnzXlqm8pEO"
      },
      "source": [
        "A pessoa pode entrar no cinema se for estudante ou tiver mais de 60 anos"
      ]
    },
    {
      "cell_type": "code",
      "execution_count": null,
      "metadata": {
        "colab": {
          "base_uri": "https://localhost:8080/"
        },
        "id": "Qn8nBzin8rdq",
        "outputId": "1dc37895-7984-45a7-a887-0cbda311e77f"
      },
      "outputs": [
        {
          "name": "stdout",
          "output_type": "stream",
          "text": [
            "Entrada com desconto.\n"
          ]
        }
      ],
      "source": [
        "idade = 65\n",
        "é_estudante = False\n",
        "\n",
        "if idade > 60 or é_estudante:\n",
        "    print(\"Entrada com desconto.\")\n",
        "else:\n",
        "    print(\"Entrada normal.\")\n"
      ]
    },
    {
      "cell_type": "markdown",
      "metadata": {
        "id": "c9My6vdi8w8B"
      },
      "source": [
        "O site só mostra o botão de “Entrar” se o usuário não estiver logado."
      ]
    },
    {
      "cell_type": "code",
      "execution_count": null,
      "metadata": {
        "colab": {
          "base_uri": "https://localhost:8080/"
        },
        "id": "GzUUEo5D8wXG",
        "outputId": "c1178f07-0937-44e5-d007-1322ed2eaab9"
      },
      "outputs": [
        {
          "name": "stdout",
          "output_type": "stream",
          "text": [
            "Mostrar botão de 'Entrar'\n"
          ]
        }
      ],
      "source": [
        "logado = False\n",
        "\n",
        "if not logado:\n",
        "    print(\"Mostrar botão de 'Entrar'\")\n",
        "else:\n",
        "    print(\"Mostrar botão de 'Sair'\")\n"
      ]
    },
    {
      "cell_type": "markdown",
      "metadata": {
        "id": "GpY_3g7P86RA"
      },
      "source": [
        "# 3. Manipulação de Strings"
      ]
    },
    {
      "cell_type": "markdown",
      "metadata": {
        "id": "tU6T433K9iB3"
      },
      "source": [
        "Exemplo 1 - Métodos básicos de string"
      ]
    },
    {
      "cell_type": "code",
      "execution_count": 18,
      "metadata": {
        "colab": {
          "base_uri": "https://localhost:8080/"
        },
        "id": "Gi5VJa3l9lby",
        "outputId": "fa8c862e-74cd-4614-b7c8-ee60320fb863"
      },
      "outputs": [
        {
          "output_type": "stream",
          "name": "stdout",
          "text": [
            "Python é divertido!\n",
            " PYTHON É DIVERTIDO! \n",
            " Python é poderoso! \n"
          ]
        }
      ],
      "source": [
        "texto = \" Python é divertido! \"\n",
        "\n",
        "print(texto.strip())         # remove espaços do início/fim\n",
        "print(texto.upper())         #converte tudo para  MAIÚSCULAS\n",
        "print(texto.replace(\"divertido\", \"poderoso\"))  # troca palavra divertido por poderoso"
      ]
    },
    {
      "cell_type": "code",
      "execution_count": null,
      "metadata": {
        "colab": {
          "base_uri": "https://localhost:8080/"
        },
        "id": "5xq4_z65-8_v",
        "outputId": "dd8d5c60-2b5b-419a-e838-9cf6dca52bda"
      },
      "outputs": [
        {
          "name": "stdout",
          "output_type": "stream",
          "text": [
            "Python é divertido!\n"
          ]
        }
      ],
      "source": [
        "texto = \"python é divertido!\"\n",
        "\n",
        "# Primeira letra da string em maiúscula\n",
        "print(texto.capitalize())\n",
        "# Saída: \" python é divertido!\" (note o espaço inicial!)"
      ]
    },
    {
      "cell_type": "code",
      "execution_count": null,
      "metadata": {
        "colab": {
          "base_uri": "https://localhost:8080/"
        },
        "id": "bTnqRyeg-JwD",
        "outputId": "1f3d60c2-81c8-496a-f8d7-de4ac0ff16c4"
      },
      "outputs": [
        {
          "name": "stdout",
          "output_type": "stream",
          "text": [
            "python é divertido!\n",
            "Python É Divertido!\n",
            "Python é divertido!\n"
          ]
        }
      ],
      "source": [
        "# Tudo em letras minúsculas\n",
        "print(texto.lower())\n",
        "# Saída: \" python é divertido! \"\n",
        "\n",
        "# Primeira letra de cada palavra em maiúscula\n",
        "print(texto.title())\n",
        "# Saída: \" Python É Divertido! \"\n",
        "\n",
        "# Primeira letra da string em maiúscula\n",
        "print(texto.capitalize())\n",
        "# Saída: \" Python é divertido!\" (note o espaço inicial!)\n",
        "\n"
      ]
    },
    {
      "cell_type": "code",
      "execution_count": null,
      "metadata": {
        "colab": {
          "base_uri": "https://localhost:8080/"
        },
        "id": "lVifv6jr-tus",
        "outputId": "362c383b-9dd2-426c-bfe1-14c115f35e86"
      },
      "outputs": [
        {
          "name": "stdout",
          "output_type": "stream",
          "text": [
            "False\n",
            "True\n",
            "1\n",
            "9\n",
            "['python', 'é', 'divertido!']\n"
          ]
        }
      ],
      "source": [
        "# Verifica se começa com certa palavra (útil para filtros)\n",
        "print(texto.strip().startswith(\"Python\"))\n",
        "# Saída: True\n",
        "\n",
        "# Verifica se termina com certo texto\n",
        "print(texto.strip().endswith(\"!\"))\n",
        "# Saída: True\n",
        "\n",
        "# Conta quantas vezes uma palavra/aparência ocorre\n",
        "print(texto.count(\"é\"))\n",
        "# Saída: 1\n",
        "\n",
        "# Descobre a posição de uma palavra/caractere\n",
        "print(texto.find(\"divertido\"))\n",
        "# Saída: 11 (posição onde começa a palavra)\n",
        "\n",
        "# Divide em partes usando um separador\n",
        "print(texto.strip().split())\n",
        "# Saída: ['Python', 'é', 'divertido!']"
      ]
    },
    {
      "cell_type": "markdown",
      "metadata": {
        "id": "jb7J_Ew6_wXv"
      },
      "source": [
        "Exemplo 2 — Checando conteúdo, formando novas strings"
      ]
    },
    {
      "cell_type": "code",
      "execution_count": 19,
      "metadata": {
        "colab": {
          "base_uri": "https://localhost:8080/"
        },
        "id": "k4XbX2OhAZsU",
        "outputId": "9dafdbe1-4399-4a21-9475-b9e6de38bf96"
      },
      "outputs": [
        {
          "output_type": "stream",
          "name": "stdout",
          "text": [
            "True\n",
            "True\n",
            "Nome: Ana | Idade: 23\n"
          ]
        }
      ],
      "source": [
        "email = \"aluno@escola.com\"\n",
        "print(email.startswith(\"aluno\"))      # True\n",
        "print(email.endswith(\".com\"))         # True\n",
        "\n",
        "nome = \"Ana\"\n",
        "idade = 23\n",
        "mensagem = f\"Nome: {nome} | Idade: {idade}\"\n",
        "print(mensagem)"
      ]
    },
    {
      "cell_type": "markdown",
      "metadata": {
        "id": "_6ETvY7oCH3d"
      },
      "source": [
        "Exemplo simples com f-string:"
      ]
    },
    {
      "cell_type": "code",
      "execution_count": null,
      "metadata": {
        "colab": {
          "base_uri": "https://localhost:8080/"
        },
        "id": "uXJGRyboCK1C",
        "outputId": "8ec4b531-a876-4bdb-c569-809547275ccb"
      },
      "outputs": [
        {
          "name": "stdout",
          "output_type": "stream",
          "text": [
            "Nome: Julia | Idade: 30\n"
          ]
        }
      ],
      "source": [
        "# f difinir uma variável definida antes\n",
        "nome = \"Julia\"\n",
        "idade = 30\n",
        "print(f\"Nome: {nome} | Idade: {idade}\") # f difinir uma variável definida antes\n"
      ]
    },
    {
      "cell_type": "code",
      "execution_count": null,
      "metadata": {
        "colab": {
          "base_uri": "https://localhost:8080/"
        },
        "id": "bLV7d3v6CNDr",
        "outputId": "27cb6bf2-e466-4ab1-fd1c-d6a663892378"
      },
      "outputs": [
        {
          "name": "stdout",
          "output_type": "stream",
          "text": [
            "Relatório: O produto 'Notebook' custa R$3499.90 e restam 8 unidades em estoque.\n"
          ]
        }
      ],
      "source": [
        "produto = \"Notebook\"\n",
        "preço = 3499.90\n",
        "estoque = 8\n",
        "\n",
        "print(f\"Relatório: O produto '{produto}' custa R${preço:.2f} e restam {estoque} unidades em estoque.\")\n"
      ]
    },
    {
      "cell_type": "code",
      "execution_count": null,
      "metadata": {
        "colab": {
          "base_uri": "https://localhost:8080/"
        },
        "id": "fd85gbdvCQbq",
        "outputId": "dbe0655e-1f62-429f-843e-8cb0997f1219"
      },
      "outputs": [
        {
          "name": "stdout",
          "output_type": "stream",
          "text": [
            "[LOG] Usuário 'ana.silva' realizou login.\n"
          ]
        }
      ],
      "source": [
        "usuario = \"ana.silva\"\n",
        "ação = \"login\"\n",
        "print(f\"[LOG] Usuário '{usuario}' realizou {ação}.\")\n",
        "\n"
      ]
    },
    {
      "cell_type": "markdown",
      "metadata": {
        "id": "_jIa6UpbG2EW"
      },
      "source": [
        "# 4. Indentação em Python"
      ]
    },
    {
      "cell_type": "code",
      "execution_count": 20,
      "metadata": {
        "colab": {
          "base_uri": "https://localhost:8080/"
        },
        "id": "GhSJuOOnG4VH",
        "outputId": "cbff5dab-13f7-462d-fc3f-76e2e75c6048"
      },
      "outputs": [
        {
          "output_type": "stream",
          "name": "stdout",
          "text": [
            "Aprovado!\n"
          ]
        }
      ],
      "source": [
        "nota = 8\n",
        "\n",
        "if nota >= 7:\n",
        "    print(\"Aprovado!\")   # bloco indentado\n",
        "else:\n",
        "    print(\"Reprovado!\")  # também faz parte do bloco"
      ]
    },
    {
      "cell_type": "code",
      "source": [
        "nota = 8\n",
        "if nota >=7: # se a nota 8 é maior ou igual a 7\n",
        "  if nota < 9: #se a nota 8 é menor que 9\n",
        "    print(\"ok\") # se a nota 8 for >=7 e < 9 printa ok\n",
        "  else:\n",
        "    print(\"Aprovado\")\n",
        "else:\n",
        "  print(\"Reprovado\")\n"
      ],
      "metadata": {
        "colab": {
          "base_uri": "https://localhost:8080/"
        },
        "id": "2c94TO20HEX5",
        "outputId": "fd38194f-57d8-47ec-cd52-8fee2c9038a0"
      },
      "execution_count": 26,
      "outputs": [
        {
          "output_type": "stream",
          "name": "stdout",
          "text": [
            "ok\n"
          ]
        }
      ]
    },
    {
      "cell_type": "markdown",
      "metadata": {
        "id": "o4uJHVDjI9ly"
      },
      "source": [
        "# 5. Variáveis e Atribuição"
      ]
    },
    {
      "cell_type": "markdown",
      "metadata": {
        "id": "GI9m2jmXI_bg"
      },
      "source": [
        "Exemplo 1 — Atribuição simples, tipos diferentes"
      ]
    },
    {
      "cell_type": "code",
      "execution_count": null,
      "metadata": {
        "colab": {
          "base_uri": "https://localhost:8080/"
        },
        "id": "Y-jaI-QRJDP_",
        "outputId": "27c19c5c-19e6-400b-8b0b-f6c26c40fa56"
      },
      "outputs": [
        {
          "name": "stdout",
          "output_type": "stream",
          "text": [
            "7\n",
            "<class 'int'>\n"
          ]
        }
      ],
      "source": [
        "x = 7          # int\n",
        "#x = \"sete\"     # agora é str (troca automática)\n",
        "print(x)\n",
        "print(type(x))"
      ]
    },
    {
      "cell_type": "markdown",
      "metadata": {
        "id": "BJva_tpgO3zF"
      },
      "source": [
        "# 6. Instruções (Statements)"
      ]
    },
    {
      "cell_type": "markdown",
      "metadata": {
        "id": "dHShDxfTO6xR"
      },
      "source": [
        "Exemplo 1 — Atribuição e print"
      ]
    },
    {
      "cell_type": "code",
      "execution_count": null,
      "metadata": {
        "colab": {
          "base_uri": "https://localhost:8080/"
        },
        "id": "vK1OH1ZnO_8m",
        "outputId": "39cd4d35-b69d-466e-8f8c-a094856dc4b1"
      },
      "outputs": [
        {
          "name": "stdout",
          "output_type": "stream",
          "text": [
            "banana\n"
          ]
        }
      ],
      "source": [
        "# Duas instruções: atribuição e exibição\n",
        "fruta = \"banana\"\n",
        "print(fruta)"
      ]
    },
    {
      "cell_type": "markdown",
      "metadata": {
        "id": "nygYZSmqRJN6"
      },
      "source": [
        "# 7. Estrutura Básica de Programas"
      ]
    },
    {
      "cell_type": "markdown",
      "metadata": {
        "id": "0PrPSDtxRMY6"
      },
      "source": [
        "Exemplo 1 — Programa simples com entrada, processamento e saída"
      ]
    },
    {
      "cell_type": "code",
      "execution_count": null,
      "metadata": {
        "colab": {
          "background_save": true,
          "base_uri": "https://localhost:8080/"
        },
        "id": "ouYzZwo5RU6V",
        "outputId": "3366aa7e-009d-4b4b-afe0-0c79d29776b4"
      },
      "outputs": [
        {
          "name": "stdout",
          "output_type": "stream",
          "text": [
            "Seja bem-vindo, lais!\n"
          ]
        }
      ],
      "source": [
        "# Entrada\n",
        "nome = input(\"Digite seu nome: \")\n",
        "# Processamento\n",
        "cumprimento = f\"Seja bem-vindo, {nome}!\"\n",
        "# Saída\n",
        "print(cumprimento)"
      ]
    },
    {
      "cell_type": "code",
      "execution_count": null,
      "metadata": {
        "id": "Dp1qQ6ONR84a"
      },
      "outputs": [],
      "source": [
        "# Entrada\n",
        "nome = input(\"Digite seu nome: \")\n",
        "idade = int(input(\"Digite sua idade: \"))\n",
        "# Processamento\n",
        "cumprimento = f\"Seja bem-vindo, {nome} você tem {idade} anos!\"\n",
        "# Saída\n",
        "print(cumprimento)"
      ]
    },
    {
      "cell_type": "markdown",
      "metadata": {
        "id": "AzSlYTJHT2Jq"
      },
      "source": [
        "# 8. Erros Comuns e Depuração Básica"
      ]
    },
    {
      "cell_type": "markdown",
      "metadata": {
        "id": "_Yv7LS_IUINE"
      },
      "source": [
        "Exemplo 1 — Erro de sintaxe (faltou dois pontos e indentação):"
      ]
    },
    {
      "cell_type": "code",
      "execution_count": null,
      "metadata": {
        "colab": {
          "background_save": true
        },
        "id": "PFULQEErUOD5"
      },
      "outputs": [],
      "source": [
        "# Vai dar erro!\n",
        "if True\n",
        "print(\"Erro de sintaxe!\")"
      ]
    },
    {
      "cell_type": "code",
      "execution_count": null,
      "metadata": {
        "id": "3UT1E7sLUSdB"
      },
      "outputs": [],
      "source": [
        "# Vai dar certo!\n",
        "if True:\n",
        "  print(\"deu certo!\")"
      ]
    },
    {
      "cell_type": "markdown",
      "metadata": {
        "id": "2A_xcxPfVas1"
      },
      "source": [
        "Exemplo 2 — Erro de execução"
      ]
    },
    {
      "cell_type": "code",
      "execution_count": null,
      "metadata": {
        "id": "qKnCzY0PVe4G"
      },
      "outputs": [],
      "source": [
        "# Vai dar erro!\n",
        "#index começa com 0 ou seja a posição começa com 0\n",
        "lista = [1, 2, 3] # lista com 3 elementos\n",
        "print(lista[10])  # IndexError: posição inexistente\n"
      ]
    },
    {
      "cell_type": "code",
      "execution_count": 30,
      "metadata": {
        "id": "vfpy0KE7Vg9i",
        "colab": {
          "base_uri": "https://localhost:8080/"
        },
        "outputId": "bc00deab-b9ba-4fe8-fd54-32481c11ad35"
      },
      "outputs": [
        {
          "output_type": "stream",
          "name": "stdout",
          "text": [
            "1\n"
          ]
        }
      ],
      "source": [
        "# Vai dar certo\n",
        "lista = [1, 2, 3]\n",
        "print(lista[0])  #Posições existentes: 0,1,2"
      ]
    },
    {
      "cell_type": "markdown",
      "metadata": {
        "id": "opxlBpRrWW7w"
      },
      "source": [
        "Exemplo 3 — Erro semântico"
      ]
    },
    {
      "cell_type": "code",
      "execution_count": 32,
      "metadata": {
        "id": "j01biTEJWX8e",
        "colab": {
          "base_uri": "https://localhost:8080/"
        },
        "outputId": "07c4d14c-c8d2-483a-ad0e-27502dd8c58e"
      },
      "outputs": [
        {
          "output_type": "stream",
          "name": "stdout",
          "text": [
            "10\n"
          ]
        }
      ],
      "source": [
        "# Queremos somar de 1 a 5\n",
        "soma = 0 #inicializa com 0\n",
        "for i in range(5):#percorre todos os numeros inteiros\n",
        "    soma += i\n",
        "print(soma)  # o resultado esperado é 10\n"
      ]
    },
    {
      "cell_type": "code",
      "execution_count": 28,
      "metadata": {
        "id": "PAPVPhszYWR3",
        "colab": {
          "base_uri": "https://localhost:8080/"
        },
        "outputId": "97bfaddc-22f7-415f-c732-6964970f4a0d"
      },
      "outputs": [
        {
          "output_type": "stream",
          "name": "stdout",
          "text": [
            "15\n"
          ]
        }
      ],
      "source": [
        "# Queremos somar de 1 a 5\n",
        "soma = 0\n",
        "for i in range(6):\n",
        "    soma += i\n",
        "\n",
        "print(soma)  # range vai até -1, então deve parar no valor 5 conforme o esperado"
      ]
    },
    {
      "cell_type": "code",
      "execution_count": 33,
      "metadata": {
        "id": "6Tis13dHb9e9",
        "colab": {
          "base_uri": "https://localhost:8080/"
        },
        "outputId": "bb9d17ef-8677-4ed3-af6e-8e824e89d020"
      },
      "outputs": [
        {
          "output_type": "stream",
          "name": "stdout",
          "text": [
            "0\n",
            "1\n",
            "2\n",
            "3\n",
            "4\n",
            "5\n",
            "15\n"
          ]
        }
      ],
      "source": [
        "soma = 0\n",
        "for i in range(6):\n",
        "    print(i) #mostrar a inteiração\n",
        "    soma += i\n",
        "\n",
        "print(soma)"
      ]
    },
    {
      "cell_type": "markdown",
      "source": [
        " Passo a passo:\n",
        "\n",
        "soma = 0\n",
        "\n",
        "A gente começa com uma variável chamada soma e coloca o valor 0 nela.\n",
        "Essa será nossa “caixinha” onde vamos acumular os valores.\n",
        "\n",
        "for i in range(6):\n",
        "\n",
        "Aqui começa um laço de repetição (loop).\n",
        "Ele vai rodar com i assumindo os valores: 0, 1, 2, 3, 4, 5 (porque range(6) vai até 6, mas não inclui o 6).\n",
        "\n",
        "soma += i\n",
        "\n",
        "Isso é o mesmo que soma = soma + i.\n",
        "Em cada rodada do loop, ele vai somando o valor de i dentro da caixinha soma.\n",
        "\n",
        "## 🧮 Tabela: Execução do Loop `for` com Acúmulo de Soma\n",
        "\n",
        "| **Rodada** | **Valor de `i`** | **Valor anterior de `soma`** | **Operação realizada** | **Novo valor de `soma`** |\n",
        "|------------|------------------|-------------------------------|-------------------------|---------------------------|\n",
        "| 1ª         | 0                | 0                             | 0 + 0                   | 0                         |\n",
        "| 2ª         | 1                | 0                             | 0 + 1                   | 1                         |\n",
        "| 3ª         | 2                | 1                             | 1 + 2                   | 3                         |\n",
        "| 4ª         | 3                | 3                             | 3 + 3                   | 6                         |\n",
        "| 5ª         | 4                | 6                             | 6 + 4                   | 10                        |\n",
        "| 6ª         | 5                | 10                            | 10 + 5                  | 15                        |\n",
        "\n",
        "\n"
      ],
      "metadata": {
        "id": "iyGGiG37NF__"
      }
    },
    {
      "cell_type": "code",
      "source": [],
      "metadata": {
        "id": "_gB2T2LQNVs_"
      },
      "execution_count": null,
      "outputs": []
    }
  ],
  "metadata": {
    "colab": {
      "provenance": []
    },
    "kernelspec": {
      "display_name": "Python 3",
      "name": "python3"
    },
    "language_info": {
      "name": "python"
    }
  },
  "nbformat": 4,
  "nbformat_minor": 0
}