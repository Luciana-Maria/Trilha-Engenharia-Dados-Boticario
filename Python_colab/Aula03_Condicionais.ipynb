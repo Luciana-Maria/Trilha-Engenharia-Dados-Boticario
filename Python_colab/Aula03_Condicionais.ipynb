{
  "nbformat": 4,
  "nbformat_minor": 0,
  "metadata": {
    "colab": {
      "provenance": []
    },
    "kernelspec": {
      "name": "python3",
      "display_name": "Python 3"
    },
    "language_info": {
      "name": "python"
    }
  },
  "cells": [
    {
      "cell_type": "markdown",
      "source": [
        "# 1. Definiçao"
      ],
      "metadata": {
        "id": "i2zugrBkyA3h"
      }
    },
    {
      "cell_type": "code",
      "execution_count": null,
      "metadata": {
        "id": "d5RqHxxMxnOp",
        "colab": {
          "base_uri": "https://localhost:8080/"
        },
        "outputId": "65d6dcf8-bb3c-442e-b025-616d69c1c70a"
      },
      "outputs": [
        {
          "output_type": "stream",
          "name": "stdout",
          "text": [
            "O número é maior que 5!\n"
          ]
        }
      ],
      "source": [
        "numero = 10\n",
        "if numero > 5:\n",
        "    print(\"O número é maior que 5!\")"
      ]
    },
    {
      "cell_type": "code",
      "source": [
        "numero = 3\n",
        "if numero > 5:\n",
        "    print(\"O número é maior que 5!\")\n",
        "# Nada é exibido aqui, pois a condição não é satisfeita."
      ],
      "metadata": {
        "id": "3TbZ848iyQ7y"
      },
      "execution_count": null,
      "outputs": []
    },
    {
      "cell_type": "code",
      "source": [
        "numero > 5\n",
        "# 3 > 5"
      ],
      "metadata": {
        "colab": {
          "base_uri": "https://localhost:8080/"
        },
        "id": "ujuy94ewHvQW",
        "outputId": "eefec4fb-9ea4-4e9e-e2ba-fb4b1d662612"
      },
      "execution_count": null,
      "outputs": [
        {
          "output_type": "execute_result",
          "data": {
            "text/plain": [
              "False"
            ]
          },
          "metadata": {},
          "execution_count": 3
        }
      ]
    },
    {
      "cell_type": "code",
      "source": [
        "numero = 10"
      ],
      "metadata": {
        "id": "zIUaVUTHH8k4"
      },
      "execution_count": null,
      "outputs": []
    },
    {
      "cell_type": "code",
      "source": [
        "numero > 5"
      ],
      "metadata": {
        "id": "taRkWwQCH9w1",
        "outputId": "e3fe320b-1aca-41ca-f9d5-eb48db572022",
        "colab": {
          "base_uri": "https://localhost:8080/"
        }
      },
      "execution_count": null,
      "outputs": [
        {
          "output_type": "execute_result",
          "data": {
            "text/plain": [
              "True"
            ]
          },
          "metadata": {},
          "execution_count": 5
        }
      ]
    },
    {
      "cell_type": "markdown",
      "source": [
        "# 2. Instruçao `else`\n",
        "\n",
        "1.   Item da lista\n",
        "2.   Item da lista\n",
        "\n"
      ],
      "metadata": {
        "id": "xTJwMRsQyI3X"
      }
    },
    {
      "cell_type": "code",
      "source": [
        "senha = \"python123\"\n",
        "if senha == \"python123\":\n",
        "  print(\"Acesso liberado!\")\n",
        "else:\n",
        "  print(\"Senha incorreta.\")"
      ],
      "metadata": {
        "colab": {
          "base_uri": "https://localhost:8080/"
        },
        "id": "StpS047-yImY",
        "outputId": "795b1ada-52ff-4088-f236-2ebd560746d0"
      },
      "execution_count": null,
      "outputs": [
        {
          "output_type": "stream",
          "name": "stdout",
          "text": [
            "Acesso liberado!\n"
          ]
        }
      ]
    },
    {
      "cell_type": "code",
      "source": [
        "nota = 7\n",
        "if nota >= 6:\n",
        "  print(\"Aprovado!\")\n",
        "else:\n",
        "  print(\"Reprovado!\")"
      ],
      "metadata": {
        "colab": {
          "base_uri": "https://localhost:8080/"
        },
        "id": "JBeFd38yyIRT",
        "outputId": "a9e0d2be-dfc5-4e01-e3b3-2dd5496ce214"
      },
      "execution_count": null,
      "outputs": [
        {
          "output_type": "stream",
          "name": "stdout",
          "text": [
            "Aprovado!\n"
          ]
        }
      ]
    },
    {
      "cell_type": "markdown",
      "source": [
        "# 3. Expressao condicional ternaria"
      ],
      "metadata": {
        "id": "InmNbq8Xz4lu"
      }
    },
    {
      "cell_type": "code",
      "source": [
        "idade = 17\n",
        "status = \"maior\" if idade >= 18 else \"menor\"# condicional ternaria é colocar a estrutura numa linha só\n",
        "print(f\"Você é {status} de idade.\")"
      ],
      "metadata": {
        "colab": {
          "base_uri": "https://localhost:8080/"
        },
        "id": "oEpDplUGz6ab",
        "outputId": "a9b556b8-99a6-478a-ec38-f7da5e7f1588"
      },
      "execution_count": null,
      "outputs": [
        {
          "output_type": "stream",
          "name": "stdout",
          "text": [
            "Você é menor de idade.\n"
          ]
        }
      ]
    },
    {
      "cell_type": "markdown",
      "source": [
        "# 4. Instruçao `elif`"
      ],
      "metadata": {
        "id": "g8KEhve80Ij_"
      }
    },
    {
      "cell_type": "code",
      "source": [
        "nota = 8\n",
        "if nota >= 9:\n",
        "    print(\"Parabéns, conceito A!\")\n",
        "elif nota >= 7:\n",
        "    print(\"Conceito B.\")\n",
        "else:\n",
        "    print(\"Recuperação.\")"
      ],
      "metadata": {
        "colab": {
          "base_uri": "https://localhost:8080/"
        },
        "id": "ehyeuLYgz-mN",
        "outputId": "1e3bc723-a9ec-48bd-9444-17bac72eb72c"
      },
      "execution_count": null,
      "outputs": [
        {
          "output_type": "stream",
          "name": "stdout",
          "text": [
            "Conceito B.\n"
          ]
        }
      ]
    },
    {
      "cell_type": "code",
      "source": [
        "idade = 15\n",
        "if idade < 12:\n",
        "    print(\"Criança\")\n",
        "elif idade < 18:\n",
        "    print(\"Adolescente\")\n",
        "else:\n",
        "    print(\"Adulto\")"
      ],
      "metadata": {
        "colab": {
          "base_uri": "https://localhost:8080/"
        },
        "id": "69hYmhAz0Qy0",
        "outputId": "a7c8a2c5-23a0-445c-f2aa-e4ae33b49a87"
      },
      "execution_count": null,
      "outputs": [
        {
          "output_type": "stream",
          "name": "stdout",
          "text": [
            "Adolescente\n"
          ]
        }
      ]
    },
    {
      "cell_type": "markdown",
      "source": [
        "# 5. Condiçoes compostas"
      ],
      "metadata": {
        "id": "fpFPowuO0kb7"
      }
    },
    {
      "cell_type": "code",
      "source": [
        "# usando and\n",
        "idade = 19\n",
        "pontuacao_prova = 86\n",
        "\n",
        "if (idade >= 18) and (pontuacao_prova > 80):\n",
        "    print(\"Aprovado para a próxima etapa!\")\n",
        "else:\n",
        "    print(\"Não aprovado.\")"
      ],
      "metadata": {
        "colab": {
          "base_uri": "https://localhost:8080/"
        },
        "id": "yfn-DMi30bkd",
        "outputId": "81e985b8-d6c3-429e-de27-8fb23fd5972a"
      },
      "execution_count": null,
      "outputs": [
        {
          "output_type": "stream",
          "name": "stdout",
          "text": [
            "Aprovado para a próxima etapa!\n"
          ]
        }
      ]
    },
    {
      "cell_type": "code",
      "source": [
        "# usando and\n",
        "idade = 19\n",
        "pontuacao_prova = 86\n",
        "\n",
        "if (idade >= 18) and (pontuacao_prova > 90):\n",
        "    print(\"Aprovado para a próxima etapa!\")\n",
        "else:\n",
        "    print(\"Não aprovado.\")"
      ],
      "metadata": {
        "colab": {
          "base_uri": "https://localhost:8080/"
        },
        "id": "oGCsUmj10uCu",
        "outputId": "834617b3-cdf9-4bfe-fde9-3a28879adcc5"
      },
      "execution_count": null,
      "outputs": [
        {
          "output_type": "stream",
          "name": "stdout",
          "text": [
            "Não aprovado.\n"
          ]
        }
      ]
    },
    {
      "cell_type": "code",
      "source": [
        "# usando or e not\n",
        "usuario_ativo = False\n",
        "usuario_admin = True\n",
        "\n",
        "if usuario_ativo or usuario_admin:\n",
        "    print(\"Acesso concedido.\")\n",
        "else:\n",
        "    print(\"Acesso negado.\")\n",
        "\n",
        "if not usuario_ativo:\n",
        "    print(\"Usuário inativo.\")"
      ],
      "metadata": {
        "colab": {
          "base_uri": "https://localhost:8080/"
        },
        "id": "upSZnH7F1Aec",
        "outputId": "52f6008a-a276-4cc2-8bf8-3903c6906f26"
      },
      "execution_count": null,
      "outputs": [
        {
          "output_type": "stream",
          "name": "stdout",
          "text": [
            "Acesso concedido.\n",
            "Usuário inativo.\n"
          ]
        }
      ]
    },
    {
      "cell_type": "markdown",
      "source": [
        "# 6. Operador `in`"
      ],
      "metadata": {
        "id": "aaXCnC231I6U"
      }
    },
    {
      "cell_type": "code",
      "source": [
        "#Operador in\n",
        "alunos = [\"Ana\", \"Carlos\", \"Beatriz\"]\n",
        "if \"Carlos\" in alunos:#Operador in vai comparar se o  nome Carlos está na lista.\n",
        "    print(\"Carlos está na lista!\")"
      ],
      "metadata": {
        "colab": {
          "base_uri": "https://localhost:8080/"
        },
        "id": "KOJI8CGj1LQ9",
        "outputId": "2a6f9d29-d204-4d26-aaa0-00d09c52ae1b"
      },
      "execution_count": null,
      "outputs": [
        {
          "output_type": "stream",
          "name": "stdout",
          "text": [
            "Carlos está na lista!\n"
          ]
        }
      ]
    },
    {
      "cell_type": "code",
      "source": [
        "alunos = [\"Ana\", \"Carlos\", \"Beatriz\"]\n",
        "if \"Lucas\" not in alunos:\n",
        "    print(\"Lucas nao está na lista!\")"
      ],
      "metadata": {
        "colab": {
          "base_uri": "https://localhost:8080/"
        },
        "id": "AcsLZxEA1QM6",
        "outputId": "987990b4-5e46-4b92-dc58-d54957c3a2c1"
      },
      "execution_count": null,
      "outputs": [
        {
          "output_type": "stream",
          "name": "stdout",
          "text": [
            "Lucas nao está na lista!\n"
          ]
        }
      ]
    },
    {
      "cell_type": "markdown",
      "source": [
        "# 7. Tipos de dados nas condiçoes"
      ],
      "metadata": {
        "id": "xLWKYXSr1yeF"
      }
    },
    {
      "source": [
        "# int\n",
        "numero = 10\n",
        "if numero > 5:\n",
        "    print(\"O número é maior que 5.\")"
      ],
      "cell_type": "code",
      "metadata": {
        "colab": {
          "base_uri": "https://localhost:8080/"
        },
        "id": "ur86Z41F2Dw6",
        "outputId": "348d7c50-6d98-4abf-fa1a-97ebcc5fe27e"
      },
      "execution_count": null,
      "outputs": [
        {
          "output_type": "stream",
          "name": "stdout",
          "text": [
            "O número é maior que 5.\n"
          ]
        }
      ]
    },
    {
      "source": [
        "# float\n",
        "temperatura = 25.5\n",
        "if temperatura > 25.0:\n",
        "    print(\"Está quente!\")"
      ],
      "cell_type": "code",
      "metadata": {
        "colab": {
          "base_uri": "https://localhost:8080/"
        },
        "id": "dQ9xRESx2KNl",
        "outputId": "144c3275-26bd-407d-9098-52c1a1e55816"
      },
      "execution_count": null,
      "outputs": [
        {
          "output_type": "stream",
          "name": "stdout",
          "text": [
            "Está quente!\n"
          ]
        }
      ]
    },
    {
      "source": [
        "# str\n",
        "nome = \"Alice\"\n",
        "if nome == \"Alice\":\n",
        "    print(\"Olá, Alice!\")"
      ],
      "cell_type": "code",
      "metadata": {
        "colab": {
          "base_uri": "https://localhost:8080/"
        },
        "id": "UaiO7YVQ2LRG",
        "outputId": "b71f6a84-a6a3-48bd-8d91-71055d85a7b0"
      },
      "execution_count": null,
      "outputs": [
        {
          "output_type": "stream",
          "name": "stdout",
          "text": [
            "Olá, Alice!\n"
          ]
        }
      ]
    },
    {
      "source": [
        "# boolean\n",
        "esta_logado = True\n",
        "if esta_logado:\n",
        "    print(\"Usuário logado.\")"
      ],
      "cell_type": "code",
      "metadata": {
        "colab": {
          "base_uri": "https://localhost:8080/"
        },
        "id": "mXZz-I182MS_",
        "outputId": "a3548bbe-3e43-4630-af31-e350b73439d2"
      },
      "execution_count": null,
      "outputs": [
        {
          "output_type": "stream",
          "name": "stdout",
          "text": [
            "Usuário logado.\n"
          ]
        }
      ]
    },
    {
      "cell_type": "markdown",
      "source": [
        "# 8. Indentaçao"
      ],
      "metadata": {
        "id": "Xnu4B2BT2VE9"
      }
    },
    {
      "cell_type": "code",
      "source": [
        "idade = 16\n",
        "if idade < 18:\n",
        "    print(\"Menor de idade\")\n",
        "    print(\"Proibido entrar na festa.\")\n",
        "print(\"Fim do programa\")"
      ],
      "metadata": {
        "colab": {
          "base_uri": "https://localhost:8080/"
        },
        "id": "IZJY_ChM2WZ_",
        "outputId": "40150a30-7077-4fea-93aa-ca43157ae9e1"
      },
      "execution_count": null,
      "outputs": [
        {
          "output_type": "stream",
          "name": "stdout",
          "text": [
            "Menor de idade\n",
            "Proibido entrar na festa.\n",
            "Fim do programa\n"
          ]
        }
      ]
    },
    {
      "cell_type": "code",
      "source": [
        "idade = 19\n",
        "if idade < 18:\n",
        "    print(\"Menor de idade\")\n",
        "    print(\"Proibido entrar na festa.\")\n",
        "print(\"Fim do programa\")"
      ],
      "metadata": {
        "colab": {
          "base_uri": "https://localhost:8080/"
        },
        "id": "VfrGrW152Zk5",
        "outputId": "e26a5833-3c77-45b1-eab3-bb9c5470d366"
      },
      "execution_count": null,
      "outputs": [
        {
          "output_type": "stream",
          "name": "stdout",
          "text": [
            "Fim do programa\n"
          ]
        }
      ]
    },
    {
      "cell_type": "markdown",
      "source": [
        "# 9. Debugging"
      ],
      "metadata": {
        "id": "dxIXqFlo2oTx"
      }
    },
    {
      "cell_type": "code",
      "source": [
        "# debugando com prints\n",
        "senha = \"python123\"\n",
        "input_usuario = \"pyhton123\"\n",
        "\n",
        "if input_usuario == senha:\n",
        "    print(\"Acesso liberado!\")\n",
        "else:\n",
        "    print(\"Senha incorreta!\")\n",
        "    print(f\"Input recebido: {input_usuario} (esperado: {senha})\")"
      ],
      "metadata": {
        "colab": {
          "base_uri": "https://localhost:8080/"
        },
        "id": "67JM4K2s2eh-",
        "outputId": "74d1ecc2-057e-4f6a-bb05-6ac6b825a49f"
      },
      "execution_count": null,
      "outputs": [
        {
          "output_type": "stream",
          "name": "stdout",
          "text": [
            "Senha incorreta!\n",
            "Input recebido: pyhton123 (esperado: python123)\n"
          ]
        }
      ]
    }
  ]
}