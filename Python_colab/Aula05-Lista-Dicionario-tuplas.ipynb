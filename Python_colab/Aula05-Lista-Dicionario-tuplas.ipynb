{
  "nbformat": 4,
  "nbformat_minor": 0,
  "metadata": {
    "colab": {
      "provenance": []
    },
    "kernelspec": {
      "name": "python3",
      "display_name": "Python 3"
    },
    "language_info": {
      "name": "python"
    }
  },
  "cells": [
    {
      "cell_type": "markdown",
      "source": [
        "# 1. Definiçoes\n",
        "\n",
        "```python\n",
        "lista = []\n",
        "dicionario = {\"chave\":\"valor\"}\n",
        "tupla = ()\n",
        "conjunto = {}\n",
        "```"
      ],
      "metadata": {
        "id": "MdgNTL2RYkix"
      }
    },
    {
      "cell_type": "markdown",
      "source": [
        "# 2. Listas"
      ],
      "metadata": {
        "id": "9PiDfLloZa0Y"
      }
    },
    {
      "cell_type": "code",
      "execution_count": null,
      "metadata": {
        "id": "OiYKj70eXcv3",
        "colab": {
          "base_uri": "https://localhost:8080/"
        },
        "outputId": "4a72df64-4f5b-49ef-82bb-f9b296f1b243"
      },
      "outputs": [
        {
          "output_type": "stream",
          "name": "stdout",
          "text": [
            "1\n",
            "texto\n",
            "3.14\n",
            "3.14\n",
            "texto\n",
            "1\n"
          ]
        }
      ],
      "source": [
        "# usando indices\n",
        "minha_lista = [1, 'texto', 3.14]\n",
        "\n",
        "print(minha_lista[0])    # Acessando o primeiro elemento\n",
        "print(minha_lista[1])    # Acessando o segundo elemento\n",
        "print(minha_lista[2])    # Acessando o terceiro elemento\n",
        "print(minha_lista[-1])   # Acessando o último elemento\n",
        "print(minha_lista[-2])   # Acessando o penúltimo elemento\n",
        "print(minha_lista[-3])   # Acessando o terceiro elemento a partir do final"
      ]
    },
    {
      "cell_type": "code",
      "source": [
        "len(minha_lista)\n",
        "minha_lista[-1]"
      ],
      "metadata": {
        "colab": {
          "base_uri": "https://localhost:8080/"
        },
        "id": "xQ7_3EfH0sGQ",
        "outputId": "7a46a212-ba80-49a8-f677-e2228f00aaaf"
      },
      "execution_count": null,
      "outputs": [
        {
          "output_type": "execute_result",
          "data": {
            "text/plain": [
              "3.14"
            ]
          },
          "metadata": {},
          "execution_count": 9
        }
      ]
    },
    {
      "cell_type": "code",
      "source": [
        "# fatiamento (slicing)\n",
        "\n",
        "# Extraindo sublistas\n",
        "nova_lista = minha_lista[0:2]\n",
        "print(nova_lista)"
      ],
      "metadata": {
        "id": "vPLLi_itYqUz",
        "colab": {
          "base_uri": "https://localhost:8080/"
        },
        "outputId": "15786b06-9f07-48a1-bdcb-51cef7a3a8cb"
      },
      "execution_count": null,
      "outputs": [
        {
          "output_type": "stream",
          "name": "stdout",
          "text": [
            "[1, 'texto']\n"
          ]
        }
      ]
    },
    {
      "cell_type": "code",
      "source": [
        "minha_lista"
      ],
      "metadata": {
        "colab": {
          "base_uri": "https://localhost:8080/"
        },
        "id": "Rj7Ez_LJ4rh9",
        "outputId": "2593b0b1-4bc4-494f-a29d-ce17a129534a"
      },
      "execution_count": null,
      "outputs": [
        {
          "output_type": "execute_result",
          "data": {
            "text/plain": [
              "[1, 'texto', 3.14]"
            ]
          },
          "metadata": {},
          "execution_count": 11
        }
      ]
    },
    {
      "cell_type": "code",
      "source": [
        "# metodos de modificaçao\n",
        "\n",
        "minha_lista.append('novo')\n",
        "print(minha_lista)\n",
        "\n",
        "minha_lista.remove('texto')\n",
        "print(minha_lista)\n",
        "\n",
        "item_removido = minha_lista.pop(1)\n",
        "print(item_removido, minha_lista)"
      ],
      "metadata": {
        "id": "itM7Q5kocvJo",
        "colab": {
          "base_uri": "https://localhost:8080/"
        },
        "outputId": "9751b944-6611-4760-fcbd-c98dd5103dcb"
      },
      "execution_count": null,
      "outputs": [
        {
          "output_type": "stream",
          "name": "stdout",
          "text": [
            "[1, 'texto', 3.14, 'novo']\n",
            "[1, 3.14, 'novo']\n",
            "3.14 [1, 'novo']\n"
          ]
        }
      ]
    },
    {
      "cell_type": "code",
      "source": [
        "minha_lista"
      ],
      "metadata": {
        "colab": {
          "base_uri": "https://localhost:8080/"
        },
        "id": "4Bszs6Qa5ncM",
        "outputId": "aae63cc0-a621-4207-fc68-f427c3f38a8c"
      },
      "execution_count": null,
      "outputs": [
        {
          "output_type": "execute_result",
          "data": {
            "text/plain": [
              "[1, 'novo']"
            ]
          },
          "metadata": {},
          "execution_count": 13
        }
      ]
    },
    {
      "cell_type": "code",
      "source": [
        "# iterando sobre listas\n",
        "\n",
        "# loop simples\n",
        "for elemento in minha_lista:\n",
        "    print(elemento)\n",
        "\n",
        "# loop com indice\n",
        "for i in range(len(minha_lista)):\n",
        "    print(f'Índice {i}: {minha_lista[i]}')"
      ],
      "metadata": {
        "id": "Gv73zru2c-7q",
        "colab": {
          "base_uri": "https://localhost:8080/"
        },
        "outputId": "4b30a275-51fd-4e5e-a996-8305477ad65d"
      },
      "execution_count": null,
      "outputs": [
        {
          "output_type": "stream",
          "name": "stdout",
          "text": [
            "1\n",
            "novo\n",
            "Índice 0: 1\n",
            "Índice 1: novo\n"
          ]
        }
      ]
    },
    {
      "cell_type": "code",
      "source": [
        "lista_num = [5,6,1,2,9]\n",
        "sorted(lista_num)"
      ],
      "metadata": {
        "colab": {
          "base_uri": "https://localhost:8080/"
        },
        "id": "YH0NWGmQ6gMN",
        "outputId": "83b1cc25-5444-4f29-d6c9-350a461ec06c"
      },
      "execution_count": null,
      "outputs": [
        {
          "output_type": "execute_result",
          "data": {
            "text/plain": [
              "[1, 2, 5, 6, 9]"
            ]
          },
          "metadata": {},
          "execution_count": 16
        }
      ]
    },
    {
      "cell_type": "code",
      "source": [
        "lista_num[::-1]"
      ],
      "metadata": {
        "colab": {
          "base_uri": "https://localhost:8080/"
        },
        "id": "dgpLe5cv6wg-",
        "outputId": "18a068f3-0730-4763-b33e-a6abddb255e2"
      },
      "execution_count": null,
      "outputs": [
        {
          "output_type": "execute_result",
          "data": {
            "text/plain": [
              "[9, 2, 1, 6, 5]"
            ]
          },
          "metadata": {},
          "execution_count": 17
        }
      ]
    },
    {
      "cell_type": "code",
      "source": [
        "lista_num = list(range(0,101))\n",
        "lista_num[::10]"
      ],
      "metadata": {
        "colab": {
          "base_uri": "https://localhost:8080/"
        },
        "id": "cuGKEmSk67FY",
        "outputId": "f9e677d7-f65a-4a24-e836-1e742e22f0b7"
      },
      "execution_count": null,
      "outputs": [
        {
          "output_type": "execute_result",
          "data": {
            "text/plain": [
              "[0, 10, 20, 30, 40, 50, 60, 70, 80, 90, 100]"
            ]
          },
          "metadata": {},
          "execution_count": 27
        }
      ]
    },
    {
      "cell_type": "code",
      "source": [
        "lista_num[:10]"
      ],
      "metadata": {
        "colab": {
          "base_uri": "https://localhost:8080/"
        },
        "id": "5HSXrE1F7Yq8",
        "outputId": "a650cc79-86ac-4a9d-bbab-63c32edeaef7"
      },
      "execution_count": null,
      "outputs": [
        {
          "output_type": "execute_result",
          "data": {
            "text/plain": [
              "[0, 1, 2, 3, 4, 5, 6, 7, 8, 9]"
            ]
          },
          "metadata": {},
          "execution_count": 24
        }
      ]
    },
    {
      "cell_type": "code",
      "source": [
        "lista_num[1::10]"
      ],
      "metadata": {
        "colab": {
          "base_uri": "https://localhost:8080/"
        },
        "id": "CrqTF6KU7eT3",
        "outputId": "6f05e2bd-7d22-4a51-c548-a593d66692ee"
      },
      "execution_count": null,
      "outputs": [
        {
          "output_type": "execute_result",
          "data": {
            "text/plain": [
              "[1, 11, 21, 31, 41, 51, 61, 71, 81, 91]"
            ]
          },
          "metadata": {},
          "execution_count": 25
        }
      ]
    },
    {
      "cell_type": "markdown",
      "source": [
        "# 3. Dicionarios"
      ],
      "metadata": {
        "id": "O_vWjl8ydLLN"
      }
    },
    {
      "cell_type": "code",
      "source": [
        "# criaçao e acesso\n",
        "\n",
        "meu_dicionario = {'nome': 'Ana', 'idade': 30, 'cidade': 'São Paulo'}\n",
        "print(meu_dicionario['cidade'])"
      ],
      "metadata": {
        "id": "8vDzx26edMcC",
        "colab": {
          "base_uri": "https://localhost:8080/"
        },
        "outputId": "5bc30a97-5213-459a-ecd8-5fbe1bc85adc"
      },
      "execution_count": null,
      "outputs": [
        {
          "output_type": "stream",
          "name": "stdout",
          "text": [
            "São Paulo\n"
          ]
        }
      ]
    },
    {
      "cell_type": "code",
      "source": [
        "dict_cpf = {11111111199:{'nome':'Ana','idade':30,'cidade':'São Paulo'}, 22222222299:{'nome':'Maria','idade':25,'cidade':'Rio de Janeiro'}}\n",
        "dict_cpf"
      ],
      "metadata": {
        "colab": {
          "base_uri": "https://localhost:8080/"
        },
        "id": "5wJq1Ykf-ego",
        "outputId": "281b4489-41de-490a-fee8-7a10aaa0b334"
      },
      "execution_count": null,
      "outputs": [
        {
          "output_type": "execute_result",
          "data": {
            "text/plain": [
              "{11111111199: {'nome': 'Ana', 'idade': 30, 'cidade': 'São Paulo'},\n",
              " 22222222299: {'nome': 'Maria', 'idade': 25, 'cidade': 'Rio de Janeiro'}}"
            ]
          },
          "metadata": {},
          "execution_count": 37
        }
      ]
    },
    {
      "cell_type": "code",
      "source": [
        "estoque = {}\n",
        "estoque['camiseta'] = 10"
      ],
      "metadata": {
        "id": "8zxP_r79_Cbv"
      },
      "execution_count": null,
      "outputs": []
    },
    {
      "cell_type": "code",
      "source": [
        "estoque['camiseta'] = {\"P\":5, \"M\":8, \"G\":10}"
      ],
      "metadata": {
        "id": "XZW7IVWY_VzD"
      },
      "execution_count": null,
      "outputs": []
    },
    {
      "cell_type": "code",
      "source": [
        "for chave in estoque['camiseta']:\n",
        "    print(chave, estoque['camiseta'][chave])\n",
        "    #print(\"\\n\")"
      ],
      "metadata": {
        "colab": {
          "base_uri": "https://localhost:8080/"
        },
        "id": "CalBTtLM_Shw",
        "outputId": "d6615e14-5b03-43e5-bfde-1e81f58d97f1"
      },
      "execution_count": null,
      "outputs": [
        {
          "output_type": "stream",
          "name": "stdout",
          "text": [
            "P 5\n",
            "M 8\n",
            "G 10\n"
          ]
        }
      ]
    },
    {
      "cell_type": "code",
      "source": [
        "dict_cpf[11111111199]"
      ],
      "metadata": {
        "colab": {
          "base_uri": "https://localhost:8080/"
        },
        "id": "Pc0lBGjZ-udg",
        "outputId": "f4f5e57a-ea4e-4ba3-8af1-d74c0c23d60e"
      },
      "execution_count": null,
      "outputs": [
        {
          "output_type": "execute_result",
          "data": {
            "text/plain": [
              "{'nome': 'Ana', 'idade': 30, 'cidade': 'São Paulo'}"
            ]
          },
          "metadata": {},
          "execution_count": 38
        }
      ]
    },
    {
      "cell_type": "code",
      "source": [
        "meu_dicionario"
      ],
      "metadata": {
        "colab": {
          "base_uri": "https://localhost:8080/"
        },
        "id": "2FgPf8Si9uXC",
        "outputId": "084ce684-3117-4369-c968-16d4ab0b625d"
      },
      "execution_count": null,
      "outputs": [
        {
          "output_type": "execute_result",
          "data": {
            "text/plain": [
              "{1: 'Ana', 2: 30}"
            ]
          },
          "metadata": {},
          "execution_count": 33
        }
      ]
    },
    {
      "cell_type": "code",
      "source": [
        "# chaves que nao sao strings\n",
        "\n",
        "meu_dicionario = {100: 'Ana', 2: 30}\n",
        "print(meu_dicionario[100])\n",
        "print(meu_dicionario[2])"
      ],
      "metadata": {
        "id": "zzXw7ZSjdfTp",
        "colab": {
          "base_uri": "https://localhost:8080/"
        },
        "outputId": "49a1198b-1635-442a-e1ea-11bdcaea9071"
      },
      "execution_count": null,
      "outputs": [
        {
          "output_type": "stream",
          "name": "stdout",
          "text": [
            "Ana\n",
            "30\n"
          ]
        }
      ]
    },
    {
      "cell_type": "code",
      "source": [
        "meu_dicionario['cidade'] = 'São Paulo'"
      ],
      "metadata": {
        "id": "-U74WO8zAacq"
      },
      "execution_count": null,
      "outputs": []
    },
    {
      "cell_type": "code",
      "source": [
        "meu_dicionario"
      ],
      "metadata": {
        "colab": {
          "base_uri": "https://localhost:8080/"
        },
        "id": "9WMW5QHfAfoY",
        "outputId": "9badd016-d54b-42c2-94b9-8f63d68dc642"
      },
      "execution_count": null,
      "outputs": [
        {
          "output_type": "execute_result",
          "data": {
            "text/plain": [
              "{100: 'Ana', 2: 30, 'idade': 31, 'cidade': 'São Paulo'}"
            ]
          },
          "metadata": {},
          "execution_count": 50
        }
      ]
    },
    {
      "cell_type": "code",
      "source": [
        "# adiçao, alteraçao e remoçao\n",
        "\n",
        "meu_dicionario['idade'] = 31      # Altera valor\n",
        "meu_dicionario['email'] = 'ana@email.com'  # Adiciona nova chave\n",
        "print(meu_dicionario)\n",
        "\n",
        "email = meu_dicionario.pop('email')\n",
        "print(f'Removido: {email}')\n",
        "\n",
        "del meu_dicionario['cidade']\n",
        "print(meu_dicionario)"
      ],
      "metadata": {
        "id": "WTH-wf02dpcp",
        "colab": {
          "base_uri": "https://localhost:8080/"
        },
        "outputId": "671976c9-5305-4646-d90c-d26f9d401d50"
      },
      "execution_count": null,
      "outputs": [
        {
          "output_type": "stream",
          "name": "stdout",
          "text": [
            "{100: 'Ana', 2: 30, 'idade': 31, 'cidade': 'São Paulo', 'email': 'ana@email.com'}\n",
            "Removido: ana@email.com\n",
            "{100: 'Ana', 2: 30, 'idade': 31}\n"
          ]
        }
      ]
    },
    {
      "cell_type": "code",
      "source": [
        "# iteraçao sobre dicionarios\n",
        "\n",
        "for chave in meu_dicionario:\n",
        "    print(chave, meu_dicionario[chave])\n",
        "\n",
        "for chave, valor in meu_dicionario.items():\n",
        "    print(chave, valor)"
      ],
      "metadata": {
        "id": "Ctx2rGhId4rt",
        "colab": {
          "base_uri": "https://localhost:8080/"
        },
        "outputId": "22d277c2-8847-41bc-879c-ec515d67da2b"
      },
      "execution_count": null,
      "outputs": [
        {
          "output_type": "stream",
          "name": "stdout",
          "text": [
            "100 Ana\n",
            "2 30\n",
            "idade 31\n",
            "100 Ana\n",
            "2 30\n",
            "idade 31\n"
          ]
        }
      ]
    },
    {
      "cell_type": "code",
      "source": [
        "meu_dicionario"
      ],
      "metadata": {
        "colab": {
          "base_uri": "https://localhost:8080/"
        },
        "id": "F-hP3ZRUBAkU",
        "outputId": "124588b6-2bca-45af-fedc-a288e6d2fb62"
      },
      "execution_count": null,
      "outputs": [
        {
          "output_type": "execute_result",
          "data": {
            "text/plain": [
              "{100: 'Ana', 2: 30, 'idade': 31}"
            ]
          },
          "metadata": {},
          "execution_count": 52
        }
      ]
    },
    {
      "cell_type": "code",
      "source": [
        "meu_dicionario.keys()"
      ],
      "metadata": {
        "colab": {
          "base_uri": "https://localhost:8080/"
        },
        "id": "Lxh6fw3PBEma",
        "outputId": "3840b756-13cf-4a3c-f2f2-2cbf84cfcb71"
      },
      "execution_count": null,
      "outputs": [
        {
          "output_type": "execute_result",
          "data": {
            "text/plain": [
              "dict_keys([100, 2, 'idade'])"
            ]
          },
          "metadata": {},
          "execution_count": 53
        }
      ]
    },
    {
      "cell_type": "code",
      "source": [
        "meu_dicionario.values()"
      ],
      "metadata": {
        "colab": {
          "base_uri": "https://localhost:8080/"
        },
        "id": "tdWDB-0LBHmF",
        "outputId": "2eeb5c36-ff95-4455-c46b-e4d4251acce3"
      },
      "execution_count": null,
      "outputs": [
        {
          "output_type": "execute_result",
          "data": {
            "text/plain": [
              "dict_values(['Ana', 30, 31])"
            ]
          },
          "metadata": {},
          "execution_count": 54
        }
      ]
    },
    {
      "cell_type": "code",
      "source": [
        "meu_dicionario.items()"
      ],
      "metadata": {
        "colab": {
          "base_uri": "https://localhost:8080/"
        },
        "id": "VFAaaZseBJ3R",
        "outputId": "51f022a0-f4bb-4af9-c1f4-1799091ea344"
      },
      "execution_count": null,
      "outputs": [
        {
          "output_type": "execute_result",
          "data": {
            "text/plain": [
              "dict_items([(100, 'Ana'), (2, 30), ('idade', 31)])"
            ]
          },
          "metadata": {},
          "execution_count": 55
        }
      ]
    },
    {
      "cell_type": "markdown",
      "source": [
        "# 4. Tuplas"
      ],
      "metadata": {
        "id": "QQzZqa8QeFJa"
      }
    },
    {
      "cell_type": "code",
      "source": [],
      "metadata": {
        "id": "W2nHkSFYDKlF"
      },
      "execution_count": null,
      "outputs": []
    },
    {
      "cell_type": "code",
      "source": [
        "# criaçao e acesso\n",
        "\n",
        "minha_tupla = 1, 'texto', 3.14 # parenteses sao opcionais\n",
        "print(minha_tupla[0])\n",
        "print(minha_tupla[-1])"
      ],
      "metadata": {
        "colab": {
          "base_uri": "https://localhost:8080/"
        },
        "id": "IDFYJplneGD9",
        "outputId": "96e850dd-7ca9-40fb-a6c1-8e470480dff9"
      },
      "execution_count": null,
      "outputs": [
        {
          "output_type": "stream",
          "name": "stdout",
          "text": [
            "1\n",
            "3.14\n"
          ]
        }
      ]
    },
    {
      "cell_type": "code",
      "source": [
        "minha_tupla"
      ],
      "metadata": {
        "colab": {
          "base_uri": "https://localhost:8080/"
        },
        "id": "w2M8hLfoDdb_",
        "outputId": "97ab4d52-55b5-4371-ba1b-8289b3a89cb6"
      },
      "execution_count": null,
      "outputs": [
        {
          "output_type": "execute_result",
          "data": {
            "text/plain": [
              "(1, 'texto', 3.14)"
            ]
          },
          "metadata": {},
          "execution_count": 64
        }
      ]
    },
    {
      "cell_type": "code",
      "source": [
        "# tupla como resultado de multiplos retornos\n",
        "\n",
        "def divisao_com_resto(a, b):\n",
        "    return a // b, a % b\n",
        "\n",
        "resultado = divisao_com_resto(10, 3)\n",
        "print(resultado)         # É uma tupla!"
      ],
      "metadata": {
        "id": "q6fiA8uOeY23",
        "colab": {
          "base_uri": "https://localhost:8080/"
        },
        "outputId": "a8be2af2-2a71-4483-c8b2-09e6cd8c9aa2"
      },
      "execution_count": null,
      "outputs": [
        {
          "output_type": "stream",
          "name": "stdout",
          "text": [
            "(3, 1)\n"
          ]
        }
      ]
    },
    {
      "cell_type": "code",
      "source": [
        "tupla2 = (1, 2, [3, 4])\n",
        "tupla2"
      ],
      "metadata": {
        "colab": {
          "base_uri": "https://localhost:8080/"
        },
        "id": "SUI_aQcZCQ1k",
        "outputId": "a1036bf6-56e9-4801-c1ce-e8f2f48f57ad"
      },
      "execution_count": null,
      "outputs": [
        {
          "output_type": "execute_result",
          "data": {
            "text/plain": [
              "(1, 2, [3, 4])"
            ]
          },
          "metadata": {},
          "execution_count": 60
        }
      ]
    },
    {
      "cell_type": "code",
      "source": [
        "# tuplas aninhadas\n",
        "tupla2 = (1, 2, [3, 4])\n",
        "# tupla2[1] = 99           # Vai gerar erro! (imutabilidade)\n",
        "tupla2[2].append(5)       # Lista dentro de tupla pode ser modificada!\n",
        "print(tupla2)"
      ],
      "metadata": {
        "colab": {
          "base_uri": "https://localhost:8080/"
        },
        "id": "rLIQIEOieer9",
        "outputId": "73444445-8a10-4090-c9cb-24290a51821f"
      },
      "execution_count": null,
      "outputs": [
        {
          "output_type": "stream",
          "name": "stdout",
          "text": [
            "(1, 2, [3, 4, 5])\n"
          ]
        }
      ]
    },
    {
      "cell_type": "code",
      "source": [
        "tupla_ex = (1,2,3,4,5,6,7,8)"
      ],
      "metadata": {
        "id": "zaDsEmvLClQJ"
      },
      "execution_count": null,
      "outputs": []
    },
    {
      "cell_type": "markdown",
      "source": [
        "# 5. Conjuntos (sets)\n",
        "\n",
        "<img src='https://blogger.googleusercontent.com/img/b/R29vZ2xl/AVvXsEiEgPx7f7RoOZPYy_-rCzcCd5Pss07Xa-f9F2x62PdTUk_gomHNHOE-2KsMmXmshVqBtO7YsMSIulVE5EjcaOPyLZ1L_maeTRWxjbhcB9VQRd-WssJvvJAoDOxj53fJw6qNzONwSKXApiw/s320/plano10.png'>"
      ],
      "metadata": {
        "id": "hapoQwrueyaA"
      }
    },
    {
      "cell_type": "code",
      "source": [
        "# operaçoes basicas\n",
        "meu_set = {1,2,3,\"a\",\"b\"}\n",
        "teu_set = {3,4,5,\"b\",\"c\"}\n",
        "\n",
        "print(meu_set.union(teu_set))\n",
        "print(meu_set.intersection(teu_set))\n",
        "print(meu_set.difference(teu_set))"
      ],
      "metadata": {
        "colab": {
          "base_uri": "https://localhost:8080/"
        },
        "id": "Mhv-j_ooekhI",
        "outputId": "baffe7a2-35a6-45b1-ec99-7d50b30d1c8f"
      },
      "execution_count": null,
      "outputs": [
        {
          "output_type": "stream",
          "name": "stdout",
          "text": [
            "{1, 2, 3, 4, 5, 'a', 'c', 'b'}\n",
            "{'b', 3}\n",
            "{1, 2, 'a'}\n"
          ]
        }
      ]
    },
    {
      "cell_type": "code",
      "source": [
        "# adicionando elemento ao conjunto\n",
        "meu_set.add(\"add\")\n",
        "print(meu_set)\n",
        "\n",
        "# excluindo elemento do conjunto\n",
        "meu_set.remove(\"add\")\n",
        "print(meu_set)"
      ],
      "metadata": {
        "colab": {
          "base_uri": "https://localhost:8080/"
        },
        "id": "vot9n7iL2gqA",
        "outputId": "d1e044d1-0255-48f2-e05c-e5154f01d3be"
      },
      "execution_count": null,
      "outputs": [
        {
          "output_type": "stream",
          "name": "stdout",
          "text": [
            "{'b', 1, 2, 3, 'a', 'add'}\n",
            "{'b', 1, 2, 3, 'a'}\n"
          ]
        }
      ]
    },
    {
      "cell_type": "code",
      "source": [
        "collections"
      ],
      "metadata": {
        "id": "iZsNCF1EIvGE"
      },
      "execution_count": null,
      "outputs": []
    }
  ]
}