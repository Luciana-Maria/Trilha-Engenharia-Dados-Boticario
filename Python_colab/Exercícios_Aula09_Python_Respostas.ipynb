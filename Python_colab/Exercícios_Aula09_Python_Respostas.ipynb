{
  "nbformat": 4,
  "nbformat_minor": 0,
  "metadata": {
    "colab": {
      "provenance": []
    },
    "kernelspec": {
      "name": "python3",
      "display_name": "Python 3"
    },
    "language_info": {
      "name": "python"
    }
  },
  "cells": [
    {
      "cell_type": "markdown",
      "source": [
        "### **1. Ambiente de Trabalho**\n",
        "\n",
        "**Pergunta:**\n",
        "\n",
        "Escreva um código para exibir a mensagem \"Olá, mundo!\"."
      ],
      "metadata": {
        "id": "NGozro6CmhMA"
      }
    },
    {
      "cell_type": "code",
      "execution_count": null,
      "metadata": {
        "id": "_-MhjDsamTQy",
        "colab": {
          "base_uri": "https://localhost:8080/"
        },
        "outputId": "705f5d4b-3882-4c6a-8ada-e026a50bf5a5"
      },
      "outputs": [
        {
          "output_type": "stream",
          "name": "stdout",
          "text": [
            "Olá,mundo!\n"
          ]
        }
      ],
      "source": [
        "print(\"Olá,mundo!\")"
      ]
    },
    {
      "cell_type": "markdown",
      "source": [
        "### **2. Estruturas Condicionais**\n",
        "\n",
        "**Pergunta:**\n",
        "\n",
        "Crie uma variável chamada idade. Se idade for maior ou igual a 18, exiba \"Maior de idade\". Caso contrário, exiba \"Menor de idade\"."
      ],
      "metadata": {
        "id": "Zk5-3bDxmm9p"
      }
    },
    {
      "cell_type": "code",
      "source": [
        "idade = 16  # Você pode trocar esse valor para testar\n",
        "if idade >= 18:\n",
        "    print(\"Maior de idade\")\n",
        "else:\n",
        "    print(\"Menor de idade\")"
      ],
      "metadata": {
        "id": "iCvUOetgmrSe",
        "colab": {
          "base_uri": "https://localhost:8080/"
        },
        "outputId": "0de70d32-7378-45e7-c40e-5cde84dbd850"
      },
      "execution_count": null,
      "outputs": [
        {
          "output_type": "stream",
          "name": "stdout",
          "text": [
            "Menor de idade\n"
          ]
        }
      ]
    },
    {
      "cell_type": "markdown",
      "source": [
        "### **3. For**\n",
        "\n",
        "**Pergunta:**\n",
        "\n",
        "Dada a lista **`frutas = [\"maçã\", \"banana\", \"laranja\"]`**, escreva um loop **`for`** que imprime cada fruta em letras maiúsculas."
      ],
      "metadata": {
        "id": "XOLPBemEmrns"
      }
    },
    {
      "cell_type": "code",
      "source": [
        "frutas = [\"maçã\", \"banana\", \"laranja\"]\n",
        "for fruta in frutas:\n",
        "    print(fruta.upper())"
      ],
      "metadata": {
        "id": "ShLyL_GlnR7S",
        "colab": {
          "base_uri": "https://localhost:8080/"
        },
        "outputId": "8d098743-d5bf-46c6-f74e-23be417e23f6"
      },
      "execution_count": null,
      "outputs": [
        {
          "output_type": "stream",
          "name": "stdout",
          "text": [
            "MAÇÃ\n",
            "BANANA\n",
            "LARANJA\n"
          ]
        }
      ]
    },
    {
      "cell_type": "markdown",
      "source": [
        "### **4. While**\n",
        "\n",
        "**Pergunta:**\n",
        "\n",
        "Use um loop **`while`** para imprimir os números de 1 a 5, inclusive."
      ],
      "metadata": {
        "id": "Ngugk4NrnSch"
      }
    },
    {
      "cell_type": "code",
      "source": [
        "num = 1\n",
        "while num <= 5:\n",
        "    print(num)\n",
        "    num += 1"
      ],
      "metadata": {
        "id": "IWVPml8wnWON",
        "colab": {
          "base_uri": "https://localhost:8080/"
        },
        "outputId": "0196d623-1feb-41eb-8efd-d5f290743859"
      },
      "execution_count": null,
      "outputs": [
        {
          "output_type": "stream",
          "name": "stdout",
          "text": [
            "1\n",
            "2\n",
            "3\n",
            "4\n",
            "5\n"
          ]
        }
      ]
    },
    {
      "cell_type": "markdown",
      "source": [
        "### **5. Expressões Booleanas**\n",
        "\n",
        "**Pergunta:**\n",
        "\n",
        "Dada a variável **`nota = 7.5`**, escreva um código que imprima True se a nota for maior ou igual a 6 e False caso contrário."
      ],
      "metadata": {
        "id": "DN4mtj8unXIs"
      }
    },
    {
      "cell_type": "code",
      "source": [
        "nota = 7.5\n",
        "print(nota >= 6)"
      ],
      "metadata": {
        "id": "Sm5BdmA1nZsC",
        "colab": {
          "base_uri": "https://localhost:8080/"
        },
        "outputId": "99168add-d120-4417-8308-5d39d90b38e0"
      },
      "execution_count": null,
      "outputs": [
        {
          "output_type": "stream",
          "name": "stdout",
          "text": [
            "True\n"
          ]
        }
      ]
    },
    {
      "cell_type": "markdown",
      "source": [
        "### **6. Listas**\n",
        "\n",
        "**Pergunta:**\n",
        "\n",
        "Crie uma lista com três nomes de cidades. Adicione mais um nome usando **`.append()`** e imprima a lista final"
      ],
      "metadata": {
        "id": "5QHM3i-wnaTz"
      }
    },
    {
      "cell_type": "code",
      "source": [
        "cidades = [\"Rio\", \"Salvador\", \"Curitiba\"]\n",
        "cidades.append(\"Santa Maria\")\n",
        "print(cidades)"
      ],
      "metadata": {
        "id": "nlaYSdM1q9qY",
        "colab": {
          "base_uri": "https://localhost:8080/"
        },
        "outputId": "0e525f65-a73f-491d-a2ab-8fd5ed5a3ab6"
      },
      "execution_count": null,
      "outputs": [
        {
          "output_type": "stream",
          "name": "stdout",
          "text": [
            "['Rio', 'Salvador', 'Curitiba', 'Santa Maria']\n"
          ]
        }
      ]
    },
    {
      "cell_type": "markdown",
      "source": [
        "### **7. Dicionários**\n",
        "\n",
        "**Pergunta:**\n",
        "\n",
        "Crie um dicionário chamado **`aluno`** com as chaves \"nome\" e \"nota\". Atribua \"João\" para nome e 8.0 para nota. Imprima só o valor da nota."
      ],
      "metadata": {
        "id": "geBFZhbiq2kn"
      }
    },
    {
      "cell_type": "code",
      "source": [
        "aluno = {\"nome\": \"João\", \"nota\": 8.0}\n",
        "print(aluno[\"nota\"])"
      ],
      "metadata": {
        "id": "5GWjaWXpq89o",
        "colab": {
          "base_uri": "https://localhost:8080/"
        },
        "outputId": "ba54c511-904d-4ee3-9194-58bc4a922463"
      },
      "execution_count": null,
      "outputs": [
        {
          "output_type": "stream",
          "name": "stdout",
          "text": [
            "8.0\n"
          ]
        }
      ]
    },
    {
      "cell_type": "markdown",
      "source": [
        "### **8. Pandas - Series e DataFrame**\n",
        "\n",
        "**Pergunta:**\n",
        "\n",
        "Crie uma Series do Pandas com os valores [10, 20, 30] e índices [\"a\", \"b\", \"c\"].\n",
        "\n",
        "Depois, crie um DataFrame com as colunas \"Produto\" ([\"A\", \"B\", \"C\"]) e \"Vendas\" ([100, 200, 150])."
      ],
      "metadata": {
        "id": "9zyyC1Nlq-HY"
      }
    },
    {
      "cell_type": "code",
      "source": [
        "import pandas as pd\n",
        "\n",
        "serie = pd.Series([10, 20, 30], index=[\"a\", \"b\", \"c\"])\n",
        "print(serie)\n",
        "\n",
        "df = pd.DataFrame({\n",
        "    \"Produto\": [\"A\", \"B\", \"C\"],\n",
        "    \"Vendas\": [100, 200, 150]\n",
        "})\n",
        "print(df)"
      ],
      "metadata": {
        "id": "4XSckiYZrDXL",
        "colab": {
          "base_uri": "https://localhost:8080/"
        },
        "outputId": "59178aea-8b8d-418a-fa38-0c8ab5769c42"
      },
      "execution_count": null,
      "outputs": [
        {
          "output_type": "stream",
          "name": "stdout",
          "text": [
            "a    10\n",
            "b    20\n",
            "c    30\n",
            "dtype: int64\n",
            "  Produto  Vendas\n",
            "0       A     100\n",
            "1       B     200\n",
            "2       C     150\n"
          ]
        }
      ]
    },
    {
      "cell_type": "markdown",
      "source": [
        "### **9. NumPy - Operações**\n",
        "\n",
        "**Pergunta:**\n",
        "\n",
        "Crie um array do NumPy com os valores [1, 2, 3, 4]. Imprima o array multiplicado por 2."
      ],
      "metadata": {
        "id": "mzya7nB5rECf"
      }
    },
    {
      "cell_type": "code",
      "source": [
        "import numpy as np\n",
        "\n",
        "arr = np.array([1, 2, 3, 4])\n",
        "print(arr * 2)"
      ],
      "metadata": {
        "id": "YK44IU-UrGrA",
        "colab": {
          "base_uri": "https://localhost:8080/"
        },
        "outputId": "ebedd9fd-b345-412b-de97-a9b303cd1fa9"
      },
      "execution_count": null,
      "outputs": [
        {
          "output_type": "stream",
          "name": "stdout",
          "text": [
            "[2 4 6 8]\n"
          ]
        }
      ]
    },
    {
      "cell_type": "markdown",
      "source": [
        "### **10. Matplotlib - Gráficos**\n",
        "\n",
        "**Pergunta:**\n",
        "\n",
        "Usando matplotlib, faça um gráfico de barras com as categorias [\"Azul\", \"Verde\", \"Amarelo\"] e os valores [5, 7, 3]. Não esqueça de mostrar o gráfico após criá-lo."
      ],
      "metadata": {
        "id": "2KAWrL0XrI-Y"
      }
    },
    {
      "cell_type": "code",
      "source": [
        "import matplotlib.pyplot as plt\n",
        "\n",
        "categorias = [\"Azul\", \"Verde\", \"Amarelo\"]\n",
        "valores = [5, 7, 3]\n",
        "\n",
        "plt.bar(categorias, valores)\n",
        "plt.title(\"Exemplo de Gráfico de Barras\")\n",
        "plt.xlabel(\"Cores\")\n",
        "plt.ylabel(\"Quantidade\")\n",
        "plt.show()"
      ],
      "metadata": {
        "id": "dVxtB2o7rKS8",
        "colab": {
          "base_uri": "https://localhost:8080/",
          "height": 472
        },
        "outputId": "eab203f7-b2e7-4885-f295-5e15c9e5dda9"
      },
      "execution_count": null,
      "outputs": [
        {
          "output_type": "display_data",
          "data": {
            "text/plain": [
              "<Figure size 640x480 with 1 Axes>"
            ],
            "image/png": "[encoded data removed]"
          },
          "metadata": {}
        }
      ]
    }
  ]
}