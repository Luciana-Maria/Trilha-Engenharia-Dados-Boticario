{
  "nbformat": 4,
  "nbformat_minor": 0,
  "metadata": {
    "colab": {
      "provenance": []
    },
    "kernelspec": {
      "name": "python3",
      "display_name": "Python 3"
    },
    "language_info": {
      "name": "python"
    }
  },
  "cells": [
    {
      "cell_type": "markdown",
      "source": [
        "## **Exercício 1 – Lendo e Somando Números com for**\n",
        "\n",
        "Peça para o usuário digitar 5 números inteiros, um por vez, e use um loop **for** para somar todos eles. Ao final, mostre a soma.\n",
        "\n",
        "### Dica: use o comando input() dentro do loop e converta para int."
      ],
      "metadata": {
        "id": "jnl2d3MIIJ22"
      }
    },
    {
      "cell_type": "code",
      "source": [
        "soma = 0\n",
        "for i in range(5):\n",
        "    numero = int(input(\"Digite um número inteiro: \"))\n",
        "    soma += numero\n",
        "print(\"A soma dos números é:\", soma)"
      ],
      "metadata": {
        "colab": {
          "base_uri": "https://localhost:8080/"
        },
        "id": "daT_bI2T88jz",
        "outputId": "95755897-cbf0-47f2-96c2-da6ade53fbfb"
      },
      "execution_count": null,
      "outputs": [
        {
          "output_type": "stream",
          "name": "stdout",
          "text": [
            "Digite um número inteiro: 10\n",
            "Digite um número inteiro: 15\n",
            "Digite um número inteiro: 5\n",
            "Digite um número inteiro: 8\n",
            "Digite um número inteiro: 9\n",
            "A soma dos números é: 47\n"
          ]
        }
      ]
    },
    {
      "cell_type": "markdown",
      "source": [
        "## **Exercício 2 – Contando ocorrências em uma lista**\n",
        "\n",
        "Dada a lista abaixo:\n",
        "\n",
        "```python\n",
        "animais = [\"gato\", \"cachorro\", \"pássaro\", \"gato\", \"gato\", \"cachorro\"]\n",
        "```\n",
        "\n",
        "Use um loop **for** para contar quantas vezes o animal \"gato\" aparece na lista. Mostre o resultado."
      ],
      "metadata": {
        "id": "vuKPF5AmIPZT"
      }
    },
    {
      "cell_type": "code",
      "source": [
        "animais = [\"gato\", \"cachorro\", \"pássaro\", \"gato\", \"gato\", \"cachorro\"]\n",
        "contador = 0\n",
        "for animal in animais:\n",
        "    if animal == \"gato\":\n",
        "        contador += 1\n",
        "print(\"O animal 'gato' aparece\", contador, \"vezes na lista.\")"
      ],
      "metadata": {
        "colab": {
          "base_uri": "https://localhost:8080/"
        },
        "id": "vrCPCZ-x9Kk5",
        "outputId": "b9c0db21-d8ce-4002-8067-319b8e9b7d00"
      },
      "execution_count": null,
      "outputs": [
        {
          "output_type": "stream",
          "name": "stdout",
          "text": [
            "O animal 'gato' aparece 3 vezes na lista.\n"
          ]
        }
      ]
    },
    {
      "cell_type": "markdown",
      "source": [
        "## **Exercício 3 – Iterando com range**\n",
        "\n",
        "Use um loop **for** com **range()** para exibir todos os números de 1 a 10 (inclusive)."
      ],
      "metadata": {
        "id": "iJn5X56UITKW"
      }
    },
    {
      "cell_type": "code",
      "source": [
        "for numero in range(1, 11):\n",
        "    print(numero)"
      ],
      "metadata": {
        "colab": {
          "base_uri": "https://localhost:8080/"
        },
        "id": "2V-yw32L9Oi4",
        "outputId": "e380a9fc-f88f-4756-d9cc-1d32dca6a92e"
      },
      "execution_count": null,
      "outputs": [
        {
          "output_type": "stream",
          "name": "stdout",
          "text": [
            "1\n",
            "2\n",
            "3\n",
            "4\n",
            "5\n",
            "6\n",
            "7\n",
            "8\n",
            "9\n",
            "10\n"
          ]
        }
      ]
    },
    {
      "cell_type": "markdown",
      "source": [
        "## **Exercício 4 – While: adivinhação simples**\n",
        "\n",
        "Implemente um jogo simples onde o usuário deve adivinhar um número secreto (por exemplo, 7).\n",
        "\n",
        "Enquanto o usuário não acertar, o programa deve continuar perguntando por um valor.\n",
        "\n",
        "### Dica: use um loop while e peça ao usuário digitar até acertar."
      ],
      "metadata": {
        "id": "OldasDUuIWO8"
      }
    },
    {
      "cell_type": "code",
      "source": [
        "numero_secreto = 7\n",
        "acertou = False\n",
        "\n",
        "while not acertou:\n",
        "    chute = int(input(\"Adivinhe o número: \"))\n",
        "    if chute == numero_secreto:\n",
        "        print(\"Parabéns! Você acertou.\")\n",
        "        acertou = True\n",
        "    else:\n",
        "        print(\"Tente novamente.\")"
      ],
      "metadata": {
        "colab": {
          "base_uri": "https://localhost:8080/"
        },
        "id": "fuXIsA4O9SHk",
        "outputId": "6c44dab7-4f18-4440-8d08-d8cec5f47de0"
      },
      "execution_count": null,
      "outputs": [
        {
          "output_type": "stream",
          "name": "stdout",
          "text": [
            "Adivinhe o número: 8\n",
            "Tente novamente.\n",
            "Adivinhe o número: 7\n",
            "Parabéns! Você acertou.\n"
          ]
        }
      ]
    },
    {
      "cell_type": "code",
      "source": [
        "# solucao alternativa\n",
        "\n",
        "numero_secreto = 7\n",
        "while True:\n",
        "    chute = int(input(\"Adivinhe o número: \"))\n",
        "    if chute == numero_secreto:\n",
        "        print(\"Parabéns! Você acertou.\")\n",
        "        break\n",
        "    else:\n",
        "        print(\"Tente novamente.\")"
      ],
      "metadata": {
        "colab": {
          "base_uri": "https://localhost:8080/"
        },
        "id": "3qoXCX4o9TRC",
        "outputId": "c879f229-89b6-45c7-e1ed-a5e599fa5f67"
      },
      "execution_count": null,
      "outputs": [
        {
          "output_type": "stream",
          "name": "stdout",
          "text": [
            "Adivinhe o número: 8\n",
            "Tente novamente.\n",
            "Adivinhe o número: 7\n",
            "Parabéns! Você acertou.\n"
          ]
        }
      ]
    },
    {
      "cell_type": "markdown",
      "source": [
        "## **Exercício 5 – Iterando sobre listas: exibir nomes**\n",
        "\n",
        "Dada a lista de nomes abaixo:\n",
        "\n",
        "```python\n",
        "nomes = [\"Ana\", \"Carlos\", \"Bianca\", \"João\"]\n",
        "```\n",
        "\n",
        "Use um loop **for** para exibir cada nome da lista, um por linha."
      ],
      "metadata": {
        "id": "cjwTfJeUIaF4"
      }
    },
    {
      "cell_type": "code",
      "source": [
        "nomes = [\"Ana\", \"Carlos\", \"Bianca\", \"João\"]\n",
        "\n",
        "for nome in nomes:\n",
        "    print(nome)"
      ],
      "metadata": {
        "id": "VPYLy1xa9cDS",
        "colab": {
          "base_uri": "https://localhost:8080/"
        },
        "outputId": "2f3709d5-4276-4391-d263-d7f807cf3af2"
      },
      "execution_count": null,
      "outputs": [
        {
          "output_type": "stream",
          "name": "stdout",
          "text": [
            "Ana\n",
            "Carlos\n",
            "Bianca\n",
            "João\n"
          ]
        }
      ]
    },
    {
      "cell_type": "code",
      "source": [
        "nomes = [\"Ana\", \"Carlos\", \"Bianca\", \"João\"]\n",
        "nomes_2 = [\"Ana\", \"Pedro\", \"Mario\"]\n",
        "\n",
        "for nome in nomes:\n",
        "    if nome in nomes_2:\n",
        "        print(nome)"
      ],
      "metadata": {
        "colab": {
          "base_uri": "https://localhost:8080/"
        },
        "id": "ygFW1J8prje2",
        "outputId": "8d69c6f2-e7a3-4e6d-b9e1-139d42a01c0f"
      },
      "execution_count": null,
      "outputs": [
        {
          "output_type": "stream",
          "name": "stdout",
          "text": [
            "Ana\n"
          ]
        }
      ]
    },
    {
      "cell_type": "code",
      "source": [
        "nomes_comuns = [n for n in nomes if n in nomes_2]\n",
        "nomes_comuns"
      ],
      "metadata": {
        "colab": {
          "base_uri": "https://localhost:8080/"
        },
        "id": "PBkGuL5osZu4",
        "outputId": "efa494df-33aa-46dc-fd98-946462c6da3b"
      },
      "execution_count": null,
      "outputs": [
        {
          "output_type": "execute_result",
          "data": {
            "text/plain": [
              "['Ana']"
            ]
          },
          "metadata": {},
          "execution_count": 5
        }
      ]
    },
    {
      "cell_type": "markdown",
      "source": [
        "## **Exercício 6 – While com índice**\n",
        "\n",
        "Usando código, percorra a lista de nomes do exercício anterior, mas desta vez usando um loop **while** e um índice. Exiba o nome e seu número de ordem (ex: \"1 - Ana\", \"2 - Carlos\", etc)."
      ],
      "metadata": {
        "id": "3W2rMqyzIeIF"
      }
    },
    {
      "cell_type": "code",
      "source": [
        "nomes = [\"Ana\", \"Carlos\", \"Bianca\", \"João\"]\n",
        "indice = 0\n",
        "while indice < len(nomes):\n",
        "    print(f\"{indice + 1} - {nomes[indice]}\")\n",
        "    indice += 1"
      ],
      "metadata": {
        "id": "WW5CSqbg9eMS",
        "colab": {
          "base_uri": "https://localhost:8080/"
        },
        "outputId": "cf90bf62-8cf6-4528-fe82-f2badd0f0eda"
      },
      "execution_count": null,
      "outputs": [
        {
          "output_type": "stream",
          "name": "stdout",
          "text": [
            "1 - Ana\n",
            "2 - Carlos\n",
            "3 - Bianca\n",
            "4 - João\n"
          ]
        }
      ]
    },
    {
      "cell_type": "markdown",
      "source": [
        "## Exercício 7 – operação vetorizada\n",
        "\n",
        "Dada uma lista de números de 1 a 1.000.000, calcule a soma dos quadrados dos números.\n",
        "\n",
        "a) Resolva usando Python puro (sequencialmente).\n",
        "b) Resolva usando NumPy (vetorialmente).\n",
        "\n",
        "Compare o tempo de execuçao dos dois casos."
      ],
      "metadata": {
        "id": "QRDKti6x9pj8"
      }
    },
    {
      "source": [
        "import time\n",
        "\n",
        "start = time.time()\n",
        "result_seq = sum([x**2 for x in range(1, 1000001)])\n",
        "end = time.time()\n",
        "\n",
        "print(\"Resultado sequencial:\", result_seq)\n",
        "print(\"Tempo (sequencial):\", end - start, \"segundos\")"
      ],
      "cell_type": "code",
      "metadata": {
        "colab": {
          "base_uri": "https://localhost:8080/"
        },
        "id": "MZdHMPjv98HA",
        "outputId": "cff01f6d-d66b-49a3-9dbd-ebb1bc87e782"
      },
      "execution_count": null,
      "outputs": [
        {
          "output_type": "stream",
          "name": "stdout",
          "text": [
            "Resultado sequencial: 333333833333500000\n",
            "Tempo (sequencial): 0.05989718437194824 segundos\n"
          ]
        }
      ]
    },
    {
      "cell_type": "code",
      "source": [
        "import numpy as np\n",
        "start = time.time()\n",
        "x = np.arange(1, 1000001)\n",
        "result_vec = np.sum(x ** 2)\n",
        "end = time.time()\n",
        "\n",
        "print(\"Resultado vetorial:\", result_vec)\n",
        "print(\"Tempo (vetorial):\", end - start, \"segundos\")"
      ],
      "metadata": {
        "colab": {
          "base_uri": "https://localhost:8080/"
        },
        "id": "VcOHdZWy_Mok",
        "outputId": "83c21848-c07b-4318-c4da-93ee92977b8b"
      },
      "execution_count": null,
      "outputs": [
        {
          "output_type": "stream",
          "name": "stdout",
          "text": [
            "Resultado vetorial: 333333833333500000\n",
            "Tempo (vetorial): 0.0024843215942382812 segundos\n"
          ]
        }
      ]
    }
  ]
}