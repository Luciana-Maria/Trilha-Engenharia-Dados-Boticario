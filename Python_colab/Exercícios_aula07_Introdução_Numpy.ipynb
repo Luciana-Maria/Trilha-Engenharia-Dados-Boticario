{
  "nbformat": 4,
  "nbformat_minor": 0,
  "metadata": {
    "colab": {
      "provenance": []
    },
    "kernelspec": {
      "name": "python3",
      "display_name": "Python 3"
    },
    "language_info": {
      "name": "python"
    }
  },
  "cells": [
    {
      "cell_type": "markdown",
      "source": [
        "## **Exercício 1 – Conceitos e Convenção**\n",
        "\n",
        "**a) O que é o objeto `ndarray` em NumPy?**\n",
        "\n",
        "É o principal tipo de estrutura de dados do NumPy, um array (vetor/matriz) multidimensional para dados homogêneos (todos do mesmo tipo). Permite representar e manipular grandes volumes de dados numéricos de forma eficiente e rápida.\n",
        "\n",
        "**b) Escreva o comando padrão de importação do NumPy, seguindo a convenção da comunidade.**"
      ],
      "metadata": {
        "id": "OKHKmwfc92QP"
      }
    },
    {
      "cell_type": "code",
      "source": [
        "#Esse é o padrão usado mundialmente: np é o apelido (alias).\n",
        "import numpy as np"
      ],
      "metadata": {
        "id": "quxsaZgYzzol"
      },
      "execution_count": null,
      "outputs": []
    },
    {
      "cell_type": "markdown",
      "source": [
        "## **Exercício 2 – Criando Arrays**\n",
        "\n",
        "**a) Crie um array NumPy com os números de 1 a 5 (inclusive).**\n",
        "\n",
        "**b) Crie um array NumPy de tamanho 4 só com zeros.**\n",
        "\n",
        "**c) Crie um array 2x3 (2 linhas e 3 colunas) de números inteiros aleatórios entre 0 e 9.**"
      ],
      "metadata": {
        "id": "ScuJzb2r975S"
      }
    },
    {
      "cell_type": "code",
      "source": [
        "#a)\n",
        "import numpy as np\n",
        "arr = np.array([1, 2, 3, 4, 5])\n",
        "# Ou usando arange:\n",
        "arr = np.arange(1, 6)\n",
        "\n",
        "print(arr)"
      ],
      "metadata": {
        "id": "-371jyu4z8NO"
      },
      "execution_count": null,
      "outputs": []
    },
    {
      "cell_type": "code",
      "source": [
        "#b)\n",
        "zeros = np.zeros(4)\n",
        "\n",
        "print(zeros)"
      ],
      "metadata": {
        "id": "Flvel4ZR0ebw"
      },
      "execution_count": null,
      "outputs": []
    },
    {
      "cell_type": "code",
      "source": [
        "#c)\n",
        "aleatorio = np.random.randint(0, 10, size=(2, 3))\n",
        "\n",
        "print(aleatorio)"
      ],
      "metadata": {
        "id": "d_wEpzzU0qe_"
      },
      "execution_count": null,
      "outputs": []
    },
    {
      "cell_type": "markdown",
      "source": [
        "## **Exercício 3 – dtype e shape**\n",
        "\n",
        "Com o array abaixo:\n",
        "\n",
        "```python\n",
        "import numpy as np\n",
        "a = np.array([1.0, 2.0, 3.0, 4.0])\n",
        "```\n",
        "\n",
        "**a) Qual o dtype (tipo de dado) deste array?**\n",
        "\n",
        "**b) Qual seu shape?**\n",
        "\n",
        "**c) Como mudar o dtype deste array para inteiro (int) sem alterar a original?**\n",
        "\n"
      ],
      "metadata": {
        "id": "6QDAszlL-EwT"
      }
    },
    {
      "cell_type": "code",
      "source": [
        "#a)\n",
        "import numpy as np\n",
        "a = np.array([1.0, 2.0, 3.0, 4.0])\n",
        "\n",
        "print(a)"
      ],
      "metadata": {
        "id": "TydXkuFO08_Z"
      },
      "execution_count": null,
      "outputs": []
    },
    {
      "cell_type": "code",
      "source": [
        "#b)\n",
        "print(a.dtype)  # float64   (ou float32 dependendo do sistema)"
      ],
      "metadata": {
        "id": "JoGdi4QQ1Bz9"
      },
      "execution_count": null,
      "outputs": []
    },
    {
      "cell_type": "code",
      "source": [
        "#c)\n",
        "print(a.shape)  # (4,)"
      ],
      "metadata": {
        "id": "LlY_bh_M1JU7"
      },
      "execution_count": null,
      "outputs": []
    },
    {
      "cell_type": "markdown",
      "source": [
        "## **Exercício 4 – Indexação e Fatiamento**\n",
        "\n",
        "Considere o seguinte array:\n",
        "\n",
        "```python\n",
        "import numpy as np\n",
        "b = np.array([10, 20, 30, 40, 50])\n",
        "```\n",
        "\n",
        "**a) Acesse o terceiro elemento de `b` (contando a partir do zero)**\n",
        "\n",
        "**b) Crie uma fatia de b contendo apenas os três últimos valores.**"
      ],
      "metadata": {
        "id": "67UZ8oEA-RAt"
      }
    },
    {
      "cell_type": "code",
      "source": [
        "import numpy as np\n",
        "b = np.array([10, 20, 30, 40, 50])"
      ],
      "metadata": {
        "id": "uEBTHF0Z15cJ"
      },
      "execution_count": null,
      "outputs": []
    },
    {
      "cell_type": "code",
      "source": [
        "#a)\n",
        "print(b[2])   # Saída: 30"
      ],
      "metadata": {
        "id": "pBkG3QbE199h"
      },
      "execution_count": null,
      "outputs": []
    },
    {
      "cell_type": "code",
      "source": [
        "#b)\n",
        "print(b[-3:])   # Saída: [30 40 50]"
      ],
      "metadata": {
        "id": "F6zfVg842CUh"
      },
      "execution_count": null,
      "outputs": []
    },
    {
      "cell_type": "markdown",
      "source": [
        "## **Exercício 5 – Operações com Arrays**\n",
        "\n",
        "Dado:\n",
        "\n",
        "```python\n",
        "import numpy as np\n",
        "x = np.array([1, 2, 3])\n",
        "y = np.array([4, 5, 6])\n",
        "```\n",
        "\n",
        "**a) Some, multiplique e subtraia os arrays `x` e `y` elemento a elemento, sem usar laços (for).**\n",
        "\n",
        "**b) Calcule o produto escalar (dot product) entre x e y usando NumPy.**"
      ],
      "metadata": {
        "id": "uGEV9rfNBnwv"
      }
    },
    {
      "cell_type": "code",
      "source": [
        "import numpy as np\n",
        "x = np.array([1, 2, 3])\n",
        "y = np.array([4, 5, 6])"
      ],
      "metadata": {
        "id": "d7HMoTei2KBO"
      },
      "execution_count": null,
      "outputs": []
    },
    {
      "cell_type": "code",
      "source": [
        "#a)\n",
        "print(x + y)     # [5 7 9]\n",
        "print(x * y)     # [ 4 10 18]\n",
        "print(x - y)     # [-3 -3 -3]"
      ],
      "metadata": {
        "id": "y_D32TNz2L6X"
      },
      "execution_count": null,
      "outputs": []
    },
    {
      "cell_type": "code",
      "source": [
        "#b)\n",
        "print(np.dot(x, y))    # 1*4 + 2*5 + 3*6 = 32"
      ],
      "metadata": {
        "id": "xcMUOV7v2Sib"
      },
      "execution_count": null,
      "outputs": []
    },
    {
      "cell_type": "markdown",
      "source": [
        "## **Exercício 6 – Funções Universais (ufuncs)**\n",
        "\n",
        "**a) Aplique a função exponencial (`np.exp`) em todos os elementos do array `z = np.array([0, 1, 2])`.**\n",
        "\n",
        "**b) Use uma ufunc para calcular o valor absoluto dos elementos em w = np.array([-3, -1, 0, 2]).**"
      ],
      "metadata": {
        "id": "fER-uwQpBwz8"
      }
    },
    {
      "cell_type": "code",
      "source": [
        "#a)\n",
        "z = np.array([0, 1, 2])\n",
        "print(np.exp(z))    # [1.         2.71828183 7.3890561 ]"
      ],
      "metadata": {
        "id": "OFjQia-P2gbr"
      },
      "execution_count": null,
      "outputs": []
    },
    {
      "cell_type": "code",
      "source": [
        "#b)\n",
        "w = np.array([-3, -1, 0, 2])\n",
        "print(np.abs(w))    # [3 1 0 2]"
      ],
      "metadata": {
        "id": "h4ARziu42kwi"
      },
      "execution_count": null,
      "outputs": []
    },
    {
      "cell_type": "markdown",
      "source": [
        "## **Exercício 7 – Programação Orientada a Arrays**\n",
        "\n",
        "**Explique em poucas palavras:** Por que é preferível usar operações vetorizadas (operações de arrays inteiros) em vez de laços explícitos em Python para processar dados numéricos com NumPy?\n",
        "\n",
        "\n",
        "\n",
        "---\n",
        "\n",
        "\n",
        "\n",
        "Operações vetorizadas (em arrays inteiros, sem for) são muito mais rápidas e eficientes porque são implementadas diretamente em código compilado (C), aproveitando otimizações de baixo nível. Isso reduz o tempo de execução, usa menos memória e deixa o código mais conciso e legível, facilitando o desenvolvimento e manutenção."
      ],
      "metadata": {
        "id": "iQLSuD8nB-uN"
      }
    }
  ]
}