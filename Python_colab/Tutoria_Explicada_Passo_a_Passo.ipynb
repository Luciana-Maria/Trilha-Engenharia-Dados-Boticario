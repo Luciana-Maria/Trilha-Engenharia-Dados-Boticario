{
  "cells": [
    {
      "cell_type": "markdown",
      "metadata": {},
      "source": [
        "# \ud83d\udc0d Tutoria Python com Explica\u00e7\u00f5es Passo a Passo \ud83e\udde0",
        "",
        "Oi! Aqui vamos aprender Python como se fosse um jogo de montar LEGO. Cada pecinha \u00e9 um comando, e a gente vai juntando at\u00e9 formar programas legais!"
      ]
    },
    {
      "cell_type": "markdown",
      "metadata": {},
      "source": [
        "## 1. Soma dos Elementos de uma Lista",
        "",
        "Imagina que voc\u00ea tem uma caixa com os n\u00fameros: 4, 8, 15, 16, 23 e 42. A gente vai somar todos esses n\u00fameros. \u00c9 como somar as figurinhas de um \u00e1lbum."
      ]
    },
    {
      "cell_type": "code",
      "execution_count": null,
      "metadata": {},
      "outputs": [],
      "source": [
        "numeros = [4, 8, 15, 16, 23, 42]  # Aqui est\u00e3o nossos n\u00fameros",
        "soma = 0  # Come\u00e7amos com 0 figurinhas",
        "",
        "for num in numeros:  # Vamos olhar um n\u00famero por vez",
        "    soma += num  # Vamos somar esse n\u00famero com a soma anterior",
        "",
        "print(\"Soma:\", soma)  # Mostra o total"
      ]
    },
    {
      "cell_type": "markdown",
      "metadata": {},
      "source": [
        "## 2. Contar N\u00fameros \u00cdmpares",
        "",
        "Agora temos os n\u00fameros de 1 a 7. Queremos saber quantos s\u00e3o \u00edmpares (aqueles que n\u00e3o d\u00e1 pra dividir por 2 certinho)."
      ]
    },
    {
      "cell_type": "code",
      "execution_count": null,
      "metadata": {},
      "outputs": [],
      "source": [
        "numeros = [1, 2, 3, 4, 5, 6, 7]",
        "impares = 0",
        "",
        "for num in numeros:",
        "    if num % 2 != 0:  # Se o resto da divis\u00e3o por 2 for diferente de 0, \u00e9 \u00edmpar!",
        "        impares += 1",
        "",
        "print(\"\u00cdmpares:\", impares)"
      ]
    },
    {
      "cell_type": "markdown",
      "metadata": {},
      "source": [
        "## 3. Imprimir uma Lista de Tr\u00e1s pra Frente",
        "",
        "Temos uma fila com os n\u00fameros 10, 20, 30, 40. Mas queremos ver quem est\u00e1 no final primeiro."
      ]
    },
    {
      "cell_type": "code",
      "execution_count": null,
      "metadata": {},
      "outputs": [],
      "source": [
        "lista = [10, 20, 30, 40]",
        "i = len(lista) - 1  # Come\u00e7amos pelo final da fila",
        "",
        "while i >= 0:",
        "    print(lista[i])  # Mostramos o n\u00famero",
        "    i -= 1  # Voltamos uma posi\u00e7\u00e3o"
      ]
    }
  ],
  "metadata": {},
  "nbformat": 4,
  "nbformat_minor": 2
}